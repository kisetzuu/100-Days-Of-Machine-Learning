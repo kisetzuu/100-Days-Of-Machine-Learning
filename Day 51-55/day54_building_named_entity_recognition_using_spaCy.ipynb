{
 "cells": [
  {
   "cell_type": "code",
   "execution_count": null,
   "metadata": {},
   "outputs": [],
   "source": [
    "import spacy\n",
    "from spacy import displacy\n",
    "import pandas as pd\n"
   ]
  },
  {
   "cell_type": "code",
   "execution_count": null,
   "metadata": {},
   "outputs": [],
   "source": [
    "# Load the English language model (small version)\n",
    "nlp = spacy.load(\"en_core_web_sm\")\n",
    "print(\"spaCy Model Loaded Successfully!\")\n"
   ]
  },
  {
   "cell_type": "code",
   "execution_count": null,
   "metadata": {},
   "outputs": [],
   "source": [
    "# Sample text\n",
    "text = \"\"\"Elon Musk, the CEO of Tesla and SpaceX, announced that a new rocket launch will take place in Cape Canaveral, Florida on 25th December 2024. \n",
    "He also met with Tim Cook, the CEO of Apple, to discuss AI advancements.\"\"\"\n",
    "\n",
    "# Process text using spaCy\n",
    "doc = nlp(text)\n",
    "\n",
    "# Extract and display entities\n",
    "print(\"Named Entities, Entity Types, and Positions:\")\n",
    "for ent in doc.ents:\n",
    "    print(f\"{ent.text} - {ent.label_} - Start: {ent.start_char}, End: {ent.end_char}\")\n",
    "\n",
    "# Visualize entities using displacy\n",
    "displacy.render(doc, style=\"ent\", jupyter=True)\n"
   ]
  },
  {
   "cell_type": "code",
   "execution_count": null,
   "metadata": {},
   "outputs": [],
   "source": [
    "# Entity labels and their descriptions\n",
    "print(\"Entity Labels and Descriptions:\")\n",
    "for label, description in spacy.explain.items():\n",
    "    if label.startswith(\"ent_\"):\n",
    "        print(f\"{label}: {description}\")\n"
   ]
  },
  {
   "cell_type": "code",
   "execution_count": null,
   "metadata": {},
   "outputs": [],
   "source": [
    "# Add a custom entity to recognize specific terms\n",
    "from spacy.pipeline import EntityRuler\n",
    "\n",
    "# Create an EntityRuler and add custom patterns\n",
    "ruler = nlp.add_pipe(\"entity_ruler\", before=\"ner\")\n",
    "\n",
    "patterns = [\n",
    "    {\"label\": \"PRODUCT\", \"pattern\": \"Tesla Model Y\"},\n",
    "    {\"label\": \"TECHNOLOGY\", \"pattern\": \"ChatGPT\"},\n",
    "    {\"label\": \"EVENT\", \"pattern\": \"World AI Conference\"}\n",
    "]\n",
    "ruler.add_patterns(patterns)\n",
    "\n",
    "# Test the custom NER\n",
    "custom_text = \"\"\"The Tesla Model Y is now the best-selling vehicle in the US. OpenAI's ChatGPT will be showcased \n",
    "at the World AI Conference in January 2024.\"\"\"\n",
    "\n",
    "custom_doc = nlp(custom_text)\n",
    "\n",
    "# Display custom entities\n",
    "print(\"Custom Entities:\")\n",
    "for ent in custom_doc.ents:\n",
    "    print(f\"{ent.text} - {ent.label_}\")\n"
   ]
  },
  {
   "cell_type": "code",
   "execution_count": null,
   "metadata": {},
   "outputs": [],
   "source": [
    "import random\n",
    "from spacy.training import Example\n",
    "\n",
    "# Prepare training data\n",
    "TRAIN_DATA = [\n",
    "    (\"Google is a tech giant based in California.\", {\"entities\": [(0, 6, \"ORG\"), (38, 48, \"GPE\")]}),\n",
    "    (\"Apple's new iPhone was released in Cupertino.\", {\"entities\": [(0, 5, \"ORG\"), (39, 48, \"GPE\")]}),\n",
    "    (\"OpenAI created GPT-4 for advanced AI tasks.\", {\"entities\": [(0, 6, \"ORG\"), (13, 18, \"PRODUCT\")]}),\n",
    "]\n",
    "\n",
    "# Disable other pipelines to focus on NER\n",
    "nlp.disable_pipes(*[pipe for pipe in nlp.pipe_names if pipe != \"ner\"])\n",
    "\n",
    "# Get the NER component\n",
    "ner = nlp.get_pipe(\"ner\")\n",
    "\n",
    "# Add new entity labels\n",
    "ner.add_label(\"GPE\")\n",
    "ner.add_label(\"PRODUCT\")\n",
    "\n",
    "# Training the model\n",
    "optimizer = nlp.resume_training()\n",
    "for epoch in range(10):\n",
    "    random.shuffle(TRAIN_DATA)\n",
    "    losses = {}\n",
    "    for text, annotations in TRAIN_DATA:\n",
    "        example = Example.from_dict(nlp.make_doc(text), annotations)\n",
    "        nlp.update([example], drop=0.5, losses=losses)\n",
    "    print(f\"Epoch {epoch + 1}, Losses: {losses}\")\n",
    "\n",
    "# Test the retrained model\n",
    "test_text = \"Apple released a new MacBook in California.\"\n",
    "test_doc = nlp(test_text)\n",
    "print(\"\\nTest NER Results After Training:\")\n",
    "for ent in test_doc.ents:\n",
    "    print(f\"{ent.text} - {ent.label_}\")\n"
   ]
  },
  {
   "cell_type": "code",
   "execution_count": null,
   "metadata": {},
   "outputs": [],
   "source": [
    "# Save the trained model\n",
    "output_dir = \"./custom_ner_model\"\n",
    "nlp.to_disk(output_dir)\n",
    "print(f\"Model saved to {output_dir}\")\n",
    "\n",
    "# Load the trained model\n",
    "loaded_nlp = spacy.load(output_dir)\n",
    "print(\"Custom Model Loaded Successfully!\")\n"
   ]
  }
 ],
 "metadata": {
  "language_info": {
   "name": "python"
  }
 },
 "nbformat": 4,
 "nbformat_minor": 2
}
