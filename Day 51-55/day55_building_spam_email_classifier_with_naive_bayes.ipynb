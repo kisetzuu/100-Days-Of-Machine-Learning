{
 "cells": [
  {
   "cell_type": "code",
   "execution_count": null,
   "metadata": {},
   "outputs": [],
   "source": [
    "# Save the trained model\n",
    "output_dir = \"./custom_ner_model\"\n",
    "nlp.to_disk(output_dir)\n",
    "print(f\"Model saved to {output_dir}\")\n",
    "\n",
    "# Load the trained model\n",
    "loaded_nlp = spacy.load(output_dir)\n",
    "print(\"Custom Model Loaded Successfully!\")\n"
   ]
  },
  {
   "cell_type": "code",
   "execution_count": null,
   "metadata": {},
   "outputs": [],
   "source": [
    "import pandas as pd\n",
    "import numpy as np\n",
    "from sklearn.feature_extraction.text import CountVectorizer, TfidfVectorizer\n",
    "from sklearn.model_selection import train_test_split\n",
    "from sklearn.naive_bayes import MultinomialNB\n",
    "from sklearn.metrics import accuracy_score, confusion_matrix, classification_report\n"
   ]
  },
  {
   "cell_type": "code",
   "execution_count": null,
   "metadata": {},
   "outputs": [],
   "source": [
    "# Load the SMS Spam Collection dataset\n",
    "url = \"https://raw.githubusercontent.com/justmarkham/DAT8/master/data/sms.tsv\"\n",
    "df = pd.read_csv(url, sep=\"\\t\", names=[\"label\", \"message\"])\n",
    "\n",
    "# Display dataset sample\n",
    "print(\"Dataset Sample:\")\n",
    "print(df.head())\n",
    "\n",
    "# Dataset overview\n",
    "print(\"\\nDataset Shape:\", df.shape)\n",
    "print(\"Label Distribution:\\n\", df[\"label\"].value_counts())\n"
   ]
  },
  {
   "cell_type": "code",
   "execution_count": null,
   "metadata": {},
   "outputs": [],
   "source": [
    "import re\n",
    "\n",
    "# Preprocess text: lowercase and remove non-alphabetic characters\n",
    "def preprocess_text(text):\n",
    "    text = text.lower()  # Lowercasing\n",
    "    text = re.sub(r'[^a-zA-Z\\s]', '', text)  # Remove punctuation and numbers\n",
    "    return text\n",
    "\n",
    "df[\"cleaned_message\"] = df[\"message\"].apply(preprocess_text)\n",
    "\n",
    "# Display processed data\n",
    "print(\"\\nCleaned Messages:\")\n",
    "print(df[[\"message\", \"cleaned_message\"]].head())\n"
   ]
  },
  {
   "cell_type": "code",
   "execution_count": null,
   "metadata": {},
   "outputs": [],
   "source": [
    "# Initialize the TF-IDF Vectorizer\n",
    "tfidf_vectorizer = TfidfVectorizer(stop_words=\"english\", max_features=3000)\n",
    "\n",
    "# Transform the cleaned messages into TF-IDF features\n",
    "X = tfidf_vectorizer.fit_transform(df[\"cleaned_message\"])\n",
    "y = df[\"label\"].map({\"ham\": 0, \"spam\": 1})  # Convert labels to binary (0: ham, 1: spam)\n",
    "\n",
    "print(\"\\nTF-IDF Features Shape:\", X.shape)\n"
   ]
  },
  {
   "cell_type": "code",
   "execution_count": null,
   "metadata": {},
   "outputs": [],
   "source": [
    "# Split data into training and test sets (80% train, 20% test)\n",
    "X_train, X_test, y_train, y_test = train_test_split(X, y, test_size=0.2, random_state=42)\n",
    "\n",
    "print(f\"Training Samples: {X_train.shape[0]}, Test Samples: {X_test.shape[0]}\")\n"
   ]
  },
  {
   "cell_type": "code",
   "execution_count": null,
   "metadata": {},
   "outputs": [],
   "source": [
    "# Initialize the Multinomial Naive Bayes model\n",
    "nb_model = MultinomialNB()\n",
    "\n",
    "# Train the model\n",
    "nb_model.fit(X_train, y_train)\n",
    "\n",
    "print(\"\\nNaive Bayes Model Trained Successfully!\")\n"
   ]
  },
  {
   "cell_type": "code",
   "execution_count": null,
   "metadata": {},
   "outputs": [],
   "source": [
    "# Make predictions on the test set\n",
    "y_pred = nb_model.predict(X_test)\n",
    "\n",
    "# Evaluate the model\n",
    "accuracy = accuracy_score(y_test, y_pred)\n",
    "conf_matrix = confusion_matrix(y_test, y_pred)\n",
    "class_report = classification_report(y_test, y_pred)\n",
    "\n",
    "print(f\"Test Accuracy: {accuracy:.4f}\")\n",
    "print(\"\\nConfusion Matrix:\")\n",
    "print(conf_matrix)\n",
    "print(\"\\nClassification Report:\")\n",
    "print(class_report)\n"
   ]
  },
  {
   "cell_type": "code",
   "execution_count": null,
   "metadata": {},
   "outputs": [],
   "source": [
    "# Function to predict if a message is spam or not\n",
    "def predict_spam(message, vectorizer, model):\n",
    "    message_cleaned = preprocess_text(message)\n",
    "    message_tfidf = vectorizer.transform([message_cleaned])\n",
    "    prediction = model.predict(message_tfidf)[0]\n",
    "    return \"Spam\" if prediction == 1 else \"Not Spam\"\n",
    "\n",
    "# Test with custom messages\n",
    "test_messages = [\n",
    "    \"Congratulations! You've won a free iPhone. Click here to claim your prize.\",\n",
    "    \"Hi John, are we still on for the meeting tomorrow?\",\n",
    "    \"Urgent! Your account has been compromised. Update your password now.\"\n",
    "]\n",
    "\n",
    "for message in test_messages:\n",
    "    result = predict_spam(message, tfidf_vectorizer, nb_model)\n",
    "    print(f\"\\nMessage: {message}\\nPrediction: {result}\")\n"
   ]
  },
  {
   "cell_type": "code",
   "execution_count": null,
   "metadata": {},
   "outputs": [],
   "source": [
    "import joblib\n",
    "\n",
    "# Save the model and vectorizer\n",
    "joblib.dump(nb_model, \"spam_classifier.pkl\")\n",
    "joblib.dump(tfidf_vectorizer, \"tfidf_vectorizer.pkl\")\n",
    "print(\"\\nModel and Vectorizer Saved Successfully!\")\n"
   ]
  }
 ],
 "metadata": {
  "language_info": {
   "name": "python"
  }
 },
 "nbformat": 4,
 "nbformat_minor": 2
}
