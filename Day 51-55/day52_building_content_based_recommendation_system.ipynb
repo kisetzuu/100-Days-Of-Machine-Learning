{
 "cells": [
  {
   "cell_type": "code",
   "execution_count": null,
   "metadata": {},
   "outputs": [],
   "source": [
    "import pandas as pd\n",
    "import numpy as np\n",
    "from sklearn.feature_extraction.text import TfidfVectorizer\n",
    "from sklearn.metrics.pairwise import cosine_similarity\n"
   ]
  },
  {
   "cell_type": "code",
   "execution_count": null,
   "metadata": {},
   "outputs": [],
   "source": [
    "# Load the dataset (replace the path if needed)\n",
    "url = \"https://raw.githubusercontent.com/ibrahimnor/Movies-Recommender-Dataset/main/movies_metadata.csv\"\n",
    "df = pd.read_csv(url, low_memory=False)\n",
    "\n",
    "# Keep relevant columns\n",
    "df = df[['title', 'overview', 'genres']].dropna()\n",
    "\n",
    "# Display the dataset\n",
    "print(\"Dataset Sample:\")\n",
    "print(df.head())\n",
    "print(f\"\\nDataset Shape: {df.shape}\")\n"
   ]
  },
  {
   "cell_type": "code",
   "execution_count": null,
   "metadata": {},
   "outputs": [],
   "source": [
    "import ast\n",
    "import re\n",
    "\n",
    "# Clean genres column\n",
    "def parse_genres(genre_str):\n",
    "    try:\n",
    "        genres = ast.literal_eval(genre_str)\n",
    "        return \" \".join([genre[\"name\"] for genre in genres])\n",
    "    except:\n",
    "        return \"\"\n",
    "\n",
    "df['genres_cleaned'] = df['genres'].apply(parse_genres)\n",
    "\n",
    "# Combine genres and overview into a single content column\n",
    "df['content'] = df['genres_cleaned'] + \" \" + df['overview']\n",
    "\n",
    "# Display processed data\n",
    "print(\"\\nProcessed Data Sample:\")\n",
    "print(df[['title', 'genres_cleaned', 'content']].head())\n"
   ]
  },
  {
   "cell_type": "code",
   "execution_count": null,
   "metadata": {},
   "outputs": [],
   "source": [
    "# Convert text data into TF-IDF features\n",
    "tfidf_vectorizer = TfidfVectorizer(stop_words='english', max_features=5000)\n",
    "tfidf_matrix = tfidf_vectorizer.fit_transform(df['content'])\n",
    "\n",
    "print(\"\\nTF-IDF Matrix Shape:\", tfidf_matrix.shape)\n"
   ]
  },
  {
   "cell_type": "code",
   "execution_count": null,
   "metadata": {},
   "outputs": [],
   "source": [
    "# Compute cosine similarity between movies based on their TF-IDF features\n",
    "cosine_sim = cosine_similarity(tfidf_matrix, tfidf_matrix)\n",
    "\n",
    "print(\"\\nCosine Similarity Matrix Shape:\", cosine_sim.shape)\n"
   ]
  },
  {
   "cell_type": "code",
   "execution_count": null,
   "metadata": {},
   "outputs": [],
   "source": [
    "# Function to recommend movies based on content similarity\n",
    "def recommend_movies(title, cosine_sim=cosine_sim, df=df, top_n=5):\n",
    "    # Get the index of the movie title\n",
    "    idx = df[df['title'] == title].index[0]\n",
    "    \n",
    "    # Get similarity scores for all movies\n",
    "    sim_scores = list(enumerate(cosine_sim[idx]))\n",
    "    sim_scores = sorted(sim_scores, key=lambda x: x[1], reverse=True)\n",
    "    \n",
    "    # Get the top N similar movies\n",
    "    top_similar = sim_scores[1:top_n + 1]\n",
    "    movie_indices = [i[0] for i in top_similar]\n",
    "    \n",
    "    # Return the titles of recommended movies\n",
    "    return df['title'].iloc[movie_indices]\n",
    "\n",
    "# Test the recommender system\n",
    "sample_movie = \"The Godfather\"\n",
    "print(f\"\\nTop Recommendations for '{sample_movie}':\")\n",
    "print(recommend_movies(sample_movie))\n"
   ]
  },
  {
   "cell_type": "code",
   "execution_count": null,
   "metadata": {},
   "outputs": [],
   "source": [
    "# Test the recommender with different movies\n",
    "movies_to_test = [\"The Godfather\", \"Pulp Fiction\", \"Toy Story\"]\n",
    "\n",
    "for movie in movies_to_test:\n",
    "    print(f\"\\nRecommendations for '{movie}':\")\n",
    "    print(recommend_movies(movie))\n"
   ]
  },
  {
   "cell_type": "code",
   "execution_count": null,
   "metadata": {},
   "outputs": [],
   "source": [
    "# Modify content to give more weight to genres\n",
    "df['weighted_content'] = (df['genres_cleaned'] + \" \") * 2 + df['overview']\n",
    "\n",
    "# Recompute TF-IDF matrix and cosine similarity\n",
    "tfidf_matrix_weighted = tfidf_vectorizer.fit_transform(df['weighted_content'])\n",
    "cosine_sim_weighted = cosine_similarity(tfidf_matrix_weighted, tfidf_matrix_weighted)\n",
    "\n",
    "# Test the improved recommender\n",
    "print(\"\\nImproved Recommendations for 'The Godfather':\")\n",
    "print(recommend_movies(\"The Godfather\", cosine_sim=cosine_sim_weighted))\n"
   ]
  }
 ],
 "metadata": {
  "language_info": {
   "name": "python"
  }
 },
 "nbformat": 4,
 "nbformat_minor": 2
}
