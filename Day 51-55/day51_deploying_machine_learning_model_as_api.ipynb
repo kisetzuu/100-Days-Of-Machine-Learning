{
 "cells": [
  {
   "cell_type": "code",
   "execution_count": null,
   "metadata": {},
   "outputs": [],
   "source": [
    "# Install Flask and joblib\n",
    "!pip install flask joblib"
   ]
  },
  {
   "cell_type": "code",
   "execution_count": null,
   "metadata": {},
   "outputs": [],
   "source": [
    "# Import libraries\n",
    "from sklearn.datasets import load_iris\n",
    "from sklearn.model_selection import train_test_split\n",
    "from sklearn.ensemble import RandomForestClassifier\n",
    "import joblib\n",
    "\n",
    "# Load the dataset\n",
    "iris = load_iris()\n",
    "X, y = iris.data, iris.target\n",
    "\n",
    "# Train a Random Forest model\n",
    "model = RandomForestClassifier(n_estimators=100, random_state=42)\n",
    "X_train, X_test, y_train, y_test = train_test_split(X, y, test_size=0.2, random_state=42)\n",
    "model.fit(X_train, y_train)\n",
    "\n",
    "# Save the trained model\n",
    "joblib.dump(model, \"iris_model.pkl\")\n",
    "print(\"Model saved as 'iris_model.pkl'\")"
   ]
  },
  {
   "cell_type": "code",
   "execution_count": null,
   "metadata": {},
   "outputs": [],
   "source": [
    "# Import libraries\n",
    "from flask import Flask, request, jsonify\n",
    "import joblib\n",
    "import numpy as np\n",
    "\n",
    "# Initialize Flask app\n",
    "app = Flask(__name__)\n",
    "\n",
    "# Load the saved model\n",
    "model = joblib.load(\"iris_model.pkl\")\n",
    "\n",
    "# Define a route for prediction\n",
    "@app.route(\"/predict\", methods=[\"POST\"])\n",
    "def predict():\n",
    "    data = request.get_json()  # Receive JSON data\n",
    "    features = np.array(data[\"features\"]).reshape(1, -1)  # Convert to NumPy array\n",
    "    prediction = model.predict(features)\n",
    "    response = {\n",
    "        \"prediction\": int(prediction[0]),\n",
    "        \"class_name\": load_iris().target_names[int(prediction[0])]\n",
    "    }\n",
    "    return jsonify(response)  # Return prediction as JSON\n",
    "\n",
    "# Run the app\n",
    "if __name__ == \"__main__\":\n",
    "    app.run(debug=True)"
   ]
  },
  {
   "cell_type": "code",
   "execution_count": null,
   "metadata": {},
   "outputs": [],
   "source": [
    "python app.py\n"
   ]
  },
  {
   "cell_type": "code",
   "execution_count": null,
   "metadata": {},
   "outputs": [],
   "source": [
    "import requests\n",
    "\n",
    "# Define the API URL\n",
    "url = \"http://127.0.0.1:5000/predict\"\n",
    "\n",
    "# Prepare input features (4 values for Iris dataset)\n",
    "data = {\"features\": [5.1, 3.5, 1.4, 0.2]}\n",
    "\n",
    "# Send POST request\n",
    "response = requests.post(url, json=data)\n",
    "\n",
    "# Display the response\n",
    "print(\"Response JSON:\")\n",
    "print(response.json())"
   ]
  },
  {
   "cell_type": "code",
   "execution_count": null,
   "metadata": {},
   "outputs": [],
   "source": [
    "@app.route(\"/health\", methods=[\"GET\"])\n",
    "def health():\n",
    "    return jsonify({\"status\": \"API is running\"})\n",
    "\n",
    "@app.route(\"/model-info\", methods=[\"GET\"])\n",
    "def model_info():\n",
    "    return jsonify({\n",
    "        \"model\": \"RandomForestClassifier\",\n",
    "        \"description\": \"Predicts Iris flower species based on input features.\"\n",
    "    })"
   ]
  }
 ],
 "metadata": {
  "language_info": {
   "name": "python"
  }
 },
 "nbformat": 4,
 "nbformat_minor": 2
}
