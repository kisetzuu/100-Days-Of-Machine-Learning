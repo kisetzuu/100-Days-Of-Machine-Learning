{
 "cells": [
  {
   "cell_type": "code",
   "execution_count": 1,
   "metadata": {},
   "outputs": [
    {
     "name": "stdout",
     "output_type": "stream",
     "text": [
      "Data with Extracted Date Features:\n",
      "         Date  Year  Month  Day  Weekday\n",
      "0 2022-01-01  2022      1    1        5\n",
      "1 2022-02-15  2022      2   15        1\n",
      "2 2022-03-10  2022      3   10        3\n",
      "3 2022-04-05  2022      4    5        1\n",
      "4 2022-05-20  2022      5   20        4\n"
     ]
    }
   ],
   "source": [
    "# Extract features like year, month, day, and weekday from a datetime column to add temporal information.\n",
    "\n",
    "import pandas as pd\n",
    "\n",
    "# Example dataset with a date column\n",
    "data = {'Date': pd.to_datetime(['2022-01-01', '2022-02-15', '2022-03-10', '2022-04-05', '2022-05-20'])}\n",
    "df = pd.DataFrame(data)\n",
    "\n",
    "# Extracting year, month, day, and weekday features\n",
    "df['Year'] = df['Date'].dt.year\n",
    "df['Month'] = df['Date'].dt.month\n",
    "df['Day'] = df['Date'].dt.day\n",
    "df['Weekday'] = df['Date'].dt.weekday  # Monday=0, Sunday=6\n",
    "\n",
    "print(\"Data with Extracted Date Features:\\n\", df)"
   ]
  },
  {
   "cell_type": "code",
   "execution_count": 2,
   "metadata": {},
   "outputs": [
    {
     "name": "stdout",
     "output_type": "stream",
     "text": [
      "Data with Lag Features:\n",
      "             Value  Value_Lag1  Value_Lag2\n",
      "Date                                     \n",
      "2022-01-01    100         NaN         NaN\n",
      "2022-01-02    120       100.0         NaN\n",
      "2022-01-03    130       120.0       100.0\n",
      "2022-01-04    125       130.0       120.0\n",
      "2022-01-05    140       125.0       130.0\n"
     ]
    }
   ],
   "source": [
    "# Create lag features by shifting data values to reflect past observations, which is useful for modeling time series dependencies.\n",
    "\n",
    "# Example time series data\n",
    "data = {'Date': pd.date_range(start='2022-01-01', periods=5, freq='D'), 'Value': [100, 120, 130, 125, 140]}\n",
    "df = pd.DataFrame(data)\n",
    "\n",
    "# Set Date as the index (common in time series data)\n",
    "df.set_index('Date', inplace=True)\n",
    "\n",
    "# Create lag features\n",
    "df['Value_Lag1'] = df['Value'].shift(1)  # 1-day lag\n",
    "df['Value_Lag2'] = df['Value'].shift(2)  # 2-day lag\n",
    "\n",
    "print(\"Data with Lag Features:\\n\", df)\n"
   ]
  },
  {
   "cell_type": "code",
   "execution_count": 3,
   "metadata": {},
   "outputs": [
    {
     "name": "stdout",
     "output_type": "stream",
     "text": [
      "Data with Rolling Average Feature:\n",
      "             Sales   Sales_MA3\n",
      "Date                         \n",
      "2022-01-01    100         NaN\n",
      "2022-01-02    110         NaN\n",
      "2022-01-03    105  105.000000\n",
      "2022-01-04    120  111.666667\n",
      "2022-01-05    130  118.333333\n",
      "2022-01-06    125  125.000000\n",
      "2022-01-07    135  130.000000\n",
      "2022-01-08    140  133.333333\n",
      "2022-01-09    145  140.000000\n",
      "2022-01-10    150  145.000000\n"
     ]
    }
   ],
   "source": [
    "# Create rolling window features like moving averages or rolling sums to capture trends over time.\n",
    "\n",
    "# Example dataset with time series values\n",
    "data = {'Date': pd.date_range(start='2022-01-01', periods=10, freq='D'), 'Sales': [100, 110, 105, 120, 130, 125, 135, 140, 145, 150]}\n",
    "df = pd.DataFrame(data)\n",
    "\n",
    "# Set Date as the index\n",
    "df.set_index('Date', inplace=True)\n",
    "\n",
    "# Calculate rolling average (window of 3 days)\n",
    "df['Sales_MA3'] = df['Sales'].rolling(window=3).mean()\n",
    "\n",
    "print(\"Data with Rolling Average Feature:\\n\", df)\n"
   ]
  },
  {
   "cell_type": "code",
   "execution_count": 4,
   "metadata": {},
   "outputs": [
    {
     "name": "stdout",
     "output_type": "stream",
     "text": [
      "Data with Expanding Window Features:\n",
      "             Sales  Sales_CumSum  Sales_CumMean\n",
      "Date                                          \n",
      "2022-01-01    100         100.0     100.000000\n",
      "2022-01-02    110         210.0     105.000000\n",
      "2022-01-03    105         315.0     105.000000\n",
      "2022-01-04    120         435.0     108.750000\n",
      "2022-01-05    130         565.0     113.000000\n",
      "2022-01-06    125         690.0     115.000000\n",
      "2022-01-07    135         825.0     117.857143\n",
      "2022-01-08    140         965.0     120.625000\n",
      "2022-01-09    145        1110.0     123.333333\n",
      "2022-01-10    150        1260.0     126.000000\n"
     ]
    }
   ],
   "source": [
    "# Expanding window features calculate cumulative statistics over time, which can highlight longer-term trends.\n",
    "\n",
    "# Example data with cumulative sales values\n",
    "data = {'Date': pd.date_range(start='2022-01-01', periods=10, freq='D'), 'Sales': [100, 110, 105, 120, 130, 125, 135, 140, 145, 150]}\n",
    "df = pd.DataFrame(data)\n",
    "\n",
    "# Set Date as the index\n",
    "df.set_index('Date', inplace=True)\n",
    "\n",
    "# Calculate expanding cumulative sum and mean\n",
    "df['Sales_CumSum'] = df['Sales'].expanding().sum()\n",
    "df['Sales_CumMean'] = df['Sales'].expanding().mean()\n",
    "\n",
    "print(\"Data with Expanding Window Features:\\n\", df)\n"
   ]
  },
  {
   "cell_type": "code",
   "execution_count": 5,
   "metadata": {},
   "outputs": [
    {
     "ename": "NameError",
     "evalue": "name 'np' is not defined",
     "output_type": "error",
     "traceback": [
      "\u001b[1;31m---------------------------------------------------------------------------\u001b[0m",
      "\u001b[1;31mNameError\u001b[0m                                 Traceback (most recent call last)",
      "Cell \u001b[1;32mIn[5], line 4\u001b[0m\n\u001b[0;32m      1\u001b[0m \u001b[38;5;66;03m# Encode cyclical features (e.g., month, day of week) using sine and cosine transformations to preserve periodicity.\u001b[39;00m\n\u001b[0;32m      2\u001b[0m \n\u001b[0;32m      3\u001b[0m \u001b[38;5;66;03m# Example with months represented as cyclical data\u001b[39;00m\n\u001b[1;32m----> 4\u001b[0m df[\u001b[38;5;124m'\u001b[39m\u001b[38;5;124mMonth_Sin\u001b[39m\u001b[38;5;124m'\u001b[39m] \u001b[38;5;241m=\u001b[39m \u001b[43mnp\u001b[49m\u001b[38;5;241m.\u001b[39msin(\u001b[38;5;241m2\u001b[39m \u001b[38;5;241m*\u001b[39m np\u001b[38;5;241m.\u001b[39mpi \u001b[38;5;241m*\u001b[39m df[\u001b[38;5;124m'\u001b[39m\u001b[38;5;124mMonth\u001b[39m\u001b[38;5;124m'\u001b[39m] \u001b[38;5;241m/\u001b[39m \u001b[38;5;241m12\u001b[39m)\n\u001b[0;32m      5\u001b[0m df[\u001b[38;5;124m'\u001b[39m\u001b[38;5;124mMonth_Cos\u001b[39m\u001b[38;5;124m'\u001b[39m] \u001b[38;5;241m=\u001b[39m np\u001b[38;5;241m.\u001b[39mcos(\u001b[38;5;241m2\u001b[39m \u001b[38;5;241m*\u001b[39m np\u001b[38;5;241m.\u001b[39mpi \u001b[38;5;241m*\u001b[39m df[\u001b[38;5;124m'\u001b[39m\u001b[38;5;124mMonth\u001b[39m\u001b[38;5;124m'\u001b[39m] \u001b[38;5;241m/\u001b[39m \u001b[38;5;241m12\u001b[39m)\n\u001b[0;32m      7\u001b[0m \u001b[38;5;28mprint\u001b[39m(\u001b[38;5;124m\"\u001b[39m\u001b[38;5;124mData with Cyclical Month Features:\u001b[39m\u001b[38;5;130;01m\\n\u001b[39;00m\u001b[38;5;124m\"\u001b[39m, df[[\u001b[38;5;124m'\u001b[39m\u001b[38;5;124mMonth\u001b[39m\u001b[38;5;124m'\u001b[39m, \u001b[38;5;124m'\u001b[39m\u001b[38;5;124mMonth_Sin\u001b[39m\u001b[38;5;124m'\u001b[39m, \u001b[38;5;124m'\u001b[39m\u001b[38;5;124mMonth_Cos\u001b[39m\u001b[38;5;124m'\u001b[39m]])\n",
      "\u001b[1;31mNameError\u001b[0m: name 'np' is not defined"
     ]
    }
   ],
   "source": [
    "# Encode cyclical features (e.g., month, day of week) using sine and cosine transformations to preserve periodicity.\n",
    "\n",
    "# Example with months represented as cyclical data\n",
    "df['Month_Sin'] = np.sin(2 * np.pi * df['Month'] / 12)\n",
    "df['Month_Cos'] = np.cos(2 * np.pi * df['Month'] / 12)\n",
    "\n",
    "print(\"Data with Cyclical Month Features:\\n\", df[['Month', 'Month_Sin', 'Month_Cos']])\n"
   ]
  }
 ],
 "metadata": {
  "kernelspec": {
   "display_name": "tf_env",
   "language": "python",
   "name": "python3"
  },
  "language_info": {
   "codemirror_mode": {
    "name": "ipython",
    "version": 3
   },
   "file_extension": ".py",
   "mimetype": "text/x-python",
   "name": "python",
   "nbconvert_exporter": "python",
   "pygments_lexer": "ipython3",
   "version": "3.9.18"
  }
 },
 "nbformat": 4,
 "nbformat_minor": 2
}
