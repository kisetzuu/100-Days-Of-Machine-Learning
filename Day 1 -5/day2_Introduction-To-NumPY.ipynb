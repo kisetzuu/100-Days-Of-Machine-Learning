{
 "cells": [
  {
   "cell_type": "code",
   "execution_count": null,
   "metadata": {},
   "outputs": [],
   "source": [
    "!pip install numpy\n"
   ]
  },
  {
   "cell_type": "code",
   "execution_count": 3,
   "metadata": {},
   "outputs": [
    {
     "name": "stdout",
     "output_type": "stream",
     "text": [
      "1D Array: [1 2 3 4 5]\n",
      "2D Array:\n",
      " [[1 2 3]\n",
      " [4 5 6]]\n",
      "Zeros Array:\n",
      " [[0. 0. 0.]\n",
      " [0. 0. 0.]\n",
      " [0. 0. 0.]]\n",
      "Ones Array:\n",
      " [[1. 1. 1.]\n",
      " [1. 1. 1.]]\n",
      "Range Array: [0 2 4 6 8]\n"
     ]
    }
   ],
   "source": [
    "import numpy as np\n",
    "\n",
    "# 1D Array\n",
    "array_1d = np.array([1, 2, 3, 4, 5])  # Create a 1D array\n",
    "print(\"1D Array:\", array_1d)\n",
    "\n",
    "# 2D Array (Matrix)\n",
    "array_2d = np.array([[1, 2, 3], [4, 5, 6]])  # Create a 2D array (matrix)\n",
    "print(\"2D Array:\\n\", array_2d)\n",
    "\n",
    "# Create an array of zeros\n",
    "zeros_array = np.zeros((3, 3))  # 3x3 matrix filled with zeros\n",
    "print(\"Zeros Array:\\n\", zeros_array)\n",
    "\n",
    "# Create an array of ones\n",
    "ones_array = np.ones((2, 3))  # 2x3 matrix filled with ones\n",
    "print(\"Ones Array:\\n\", ones_array)\n",
    "\n",
    "# Create a range of numbers\n",
    "range_array = np.arange(0, 10, 2)  # Create an array from 0 to 10, with step 2\n",
    "print(\"Range Array:\", range_array)\n"
   ]
  },
  {
   "cell_type": "code",
   "execution_count": 4,
   "metadata": {},
   "outputs": [
    {
     "name": "stdout",
     "output_type": "stream",
     "text": [
      "Sum of Arrays: [5 7 9]\n",
      "Multiplication of Arrays: [ 4 10 18]\n",
      "Dot Product: 32\n"
     ]
    }
   ],
   "source": [
    "# Element-wise addition\n",
    "array_a = np.array([1, 2, 3])\n",
    "array_b = np.array([4, 5, 6])\n",
    "sum_array = array_a + array_b  # Add corresponding elements of two arrays\n",
    "print(\"Sum of Arrays:\", sum_array)\n",
    "\n",
    "# Element-wise multiplication\n",
    "mult_array = array_a * array_b  # Multiply corresponding elements\n",
    "print(\"Multiplication of Arrays:\", mult_array)\n",
    "\n",
    "# Dot product (Matrix Multiplication)\n",
    "dot_product = np.dot(array_a, array_b)  # Compute the dot product\n",
    "print(\"Dot Product:\", dot_product)\n"
   ]
  },
  {
   "cell_type": "code",
   "execution_count": null,
   "metadata": {},
   "outputs": [],
   "source": [
    "# Slicing a 1D array\n",
    "print(\"First element:\", array_1d[0])  # Access the first element\n",
    "print(\"Last element:\", array_1d[-1])  # Access the last element\n",
    "print(\"Elements from index 1 to 3:\", array_1d[1:4])  # Slice the array (index 1 to 3)\n",
    "\n",
    "# Slicing a 2D array\n",
    "print(\"First row:\", array_2d[0, :])  # Access the first row\n",
    "print(\"First column:\", array_2d[:, 0])  # Access the first column\n",
    "print(\"Element at row 1, column 2:\", array_2d[1, 2])  # Access specific element (row 1, column 2)\n"
   ]
  }
 ],
 "metadata": {
  "kernelspec": {
   "display_name": "Python 3",
   "language": "python",
   "name": "python3"
  },
  "language_info": {
   "codemirror_mode": {
    "name": "ipython",
    "version": 3
   },
   "file_extension": ".py",
   "mimetype": "text/x-python",
   "name": "python",
   "nbconvert_exporter": "python",
   "pygments_lexer": "ipython3",
   "version": "3.13.0"
  }
 },
 "nbformat": 4,
 "nbformat_minor": 2
}
