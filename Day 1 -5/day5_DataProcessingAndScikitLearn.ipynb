{
 "cells": [
  {
   "cell_type": "code",
   "execution_count": null,
   "metadata": {},
   "outputs": [],
   "source": [
    "# Handling missing values by either filling with a placeholder or dropping rows that contain missing values.\n",
    "import pandas as pd\n",
    "\n",
    "# Create DataFrame with missing values\n",
    "data = {'Name': ['Alice', 'Bob', None], 'Age': [25, None, 35], 'City': ['New York', 'San Francisco', None]}\n",
    "df = pd.DataFrame(data)\n",
    "\n",
    "# Fill missing values with a placeholder\n",
    "df_filled = df.fillna('Unknown')\n",
    "print(\"Filled Missing Values:\\n\", df_filled)\n",
    "\n",
    "# Drop rows with missing values\n",
    "df_dropped = df.dropna()\n",
    "print(\"Dropped Missing Values:\\n\", df_dropped)\n"
   ]
  },
  {
   "cell_type": "code",
   "execution_count": null,
   "metadata": {},
   "outputs": [],
   "source": [
    "# Scaling features using StandardScaler (standardization) and MinMaxScaler (normalization) from Scikit-learn.\n",
    "from sklearn.preprocessing import StandardScaler, MinMaxScaler\n",
    "\n",
    "# Example data\n",
    "data = [[10, 200], [15, 400], [20, 800]]\n",
    "df = pd.DataFrame(data, columns=['Feature1', 'Feature2'])\n",
    "\n",
    "# Standardization (mean = 0, variance = 1)\n",
    "scaler = StandardScaler()\n",
    "standardized = scaler.fit_transform(df)\n",
    "print(\"Standardized Data:\\n\", standardized)\n",
    "\n",
    "# Normalization (values between 0 and 1)\n",
    "scaler = MinMaxScaler()\n",
    "normalized = scaler.fit_transform(df)\n",
    "print(\"Normalized Data:\\n\", normalized)\n"
   ]
  },
  {
   "cell_type": "code",
   "execution_count": null,
   "metadata": {},
   "outputs": [],
   "source": [
    "# Encoding categorical variables using one-hot encoding to convert categories into a numerical format.\n",
    "# Useful for machine learning algorithms that require numeric input.\n",
    "# Example DataFrame with categorical data\n",
    "data = {'City': ['New York', 'San Francisco', 'Los Angeles'], 'Temperature': [21, 18, 25]}\n",
    "df = pd.DataFrame(data)\n",
    "\n",
    "# One-hot encoding\n",
    "df_encoded = pd.get_dummies(df, columns=['City'])\n",
    "print(\"One-hot Encoded Data:\\n\", df_encoded)\n"
   ]
  },
  {
   "cell_type": "code",
   "execution_count": null,
   "metadata": {},
   "outputs": [],
   "source": [
    "# Splitting the dataset into training and testing sets using Scikit-learn’s train_test_split function.\n",
    "# Useful to evaluate the performance of machine learning models by testing on unseen data.\n",
    "from sklearn.model_selection import train_test_split\n",
    "\n",
    "# Example data\n",
    "X = df_encoded.drop('Temperature', axis=1)  # Features\n",
    "y = df_encoded['Temperature']  # Target variable\n",
    "\n",
    "# Split the data (80% training, 20% testing)\n",
    "X_train, X_test, y_train, y_test = train_test_split(X, y, test_size=0.2, random_state=42)\n",
    "\n",
    "print(\"Training Data Features:\\n\", X_train)\n",
    "print(\"Testing Data Features:\\n\", X_test)\n"
   ]
  }
 ],
 "metadata": {
  "language_info": {
   "name": "python"
  }
 },
 "nbformat": 4,
 "nbformat_minor": 2
}
