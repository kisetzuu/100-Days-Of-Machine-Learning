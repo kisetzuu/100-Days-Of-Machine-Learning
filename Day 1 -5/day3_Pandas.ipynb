{
 "cells": [
  {
   "cell_type": "code",
   "execution_count": 2,
   "metadata": {},
   "outputs": [
    {
     "name": "stdout",
     "output_type": "stream",
     "text": [
      "Requirement already satisfied: pandas in c:\\users\\kligh\\miniconda3\\lib\\site-packages (2.2.3)\n",
      "Requirement already satisfied: numpy>=1.26.0 in c:\\users\\kligh\\miniconda3\\lib\\site-packages (from pandas) (1.26.4)\n",
      "Requirement already satisfied: python-dateutil>=2.8.2 in c:\\users\\kligh\\miniconda3\\lib\\site-packages (from pandas) (2.9.0.post0)\n",
      "Requirement already satisfied: pytz>=2020.1 in c:\\users\\kligh\\miniconda3\\lib\\site-packages (from pandas) (2024.2)\n",
      "Requirement already satisfied: tzdata>=2022.7 in c:\\users\\kligh\\miniconda3\\lib\\site-packages (from pandas) (2024.2)\n",
      "Requirement already satisfied: six>=1.5 in c:\\users\\kligh\\miniconda3\\lib\\site-packages (from python-dateutil>=2.8.2->pandas) (1.16.0)\n"
     ]
    }
   ],
   "source": [
    "!pip install pandas\n"
   ]
  },
  {
   "cell_type": "code",
   "execution_count": 1,
   "metadata": {},
   "outputs": [
    {
     "name": "stdout",
     "output_type": "stream",
     "text": [
      "DataFrame:\n",
      "       Name  Age           City\n",
      "0    Alice   25       New York\n",
      "1      Bob   30  San Francisco\n",
      "2  Charlie   35    Los Angeles\n",
      "\n",
      "DataFrame Info:\n",
      "<class 'pandas.core.frame.DataFrame'>\n",
      "RangeIndex: 3 entries, 0 to 2\n",
      "Data columns (total 3 columns):\n",
      " #   Column  Non-Null Count  Dtype \n",
      "---  ------  --------------  ----- \n",
      " 0   Name    3 non-null      object\n",
      " 1   Age     3 non-null      int64 \n",
      " 2   City    3 non-null      object\n",
      "dtypes: int64(1), object(2)\n",
      "memory usage: 204.0+ bytes\n",
      "\n",
      "First 5 Rows:\n"
     ]
    },
    {
     "data": {
      "text/html": [
       "<div>\n",
       "<style scoped>\n",
       "    .dataframe tbody tr th:only-of-type {\n",
       "        vertical-align: middle;\n",
       "    }\n",
       "\n",
       "    .dataframe tbody tr th {\n",
       "        vertical-align: top;\n",
       "    }\n",
       "\n",
       "    .dataframe thead th {\n",
       "        text-align: right;\n",
       "    }\n",
       "</style>\n",
       "<table border=\"1\" class=\"dataframe\">\n",
       "  <thead>\n",
       "    <tr style=\"text-align: right;\">\n",
       "      <th></th>\n",
       "      <th>Name</th>\n",
       "      <th>Age</th>\n",
       "      <th>City</th>\n",
       "    </tr>\n",
       "  </thead>\n",
       "  <tbody>\n",
       "    <tr>\n",
       "      <th>0</th>\n",
       "      <td>Alice</td>\n",
       "      <td>25</td>\n",
       "      <td>New York</td>\n",
       "    </tr>\n",
       "    <tr>\n",
       "      <th>1</th>\n",
       "      <td>Bob</td>\n",
       "      <td>30</td>\n",
       "      <td>San Francisco</td>\n",
       "    </tr>\n",
       "    <tr>\n",
       "      <th>2</th>\n",
       "      <td>Charlie</td>\n",
       "      <td>35</td>\n",
       "      <td>Los Angeles</td>\n",
       "    </tr>\n",
       "  </tbody>\n",
       "</table>\n",
       "</div>"
      ],
      "text/plain": [
       "      Name  Age           City\n",
       "0    Alice   25       New York\n",
       "1      Bob   30  San Francisco\n",
       "2  Charlie   35    Los Angeles"
      ]
     },
     "execution_count": 1,
     "metadata": {},
     "output_type": "execute_result"
    }
   ],
   "source": [
    "import pandas as pd\n",
    "\n",
    "# Create a DataFrame from a dictionary\n",
    "data = {'Name': ['Alice', 'Bob', 'Charlie'], 'Age': [25, 30, 35], 'City': ['New York', 'San Francisco', 'Los Angeles']}\n",
    "df = pd.DataFrame(data)\n",
    "print(\"DataFrame:\\n\", df)\n",
    "\n",
    "# Display basic information about the DataFrame\n",
    "print(\"\\nDataFrame Info:\")\n",
    "df.info()\n",
    "\n",
    "# View first 5 rows\n",
    "print(\"\\nFirst 5 Rows:\")\n",
    "df.head()\n"
   ]
  },
  {
   "cell_type": "code",
   "execution_count": 2,
   "metadata": {},
   "outputs": [
    {
     "name": "stdout",
     "output_type": "stream",
     "text": [
      "\n",
      "Names Column:\n",
      " 0      Alice\n",
      "1        Bob\n",
      "2    Charlie\n",
      "Name: Name, dtype: object\n",
      "\n",
      "DataFrame with Salary:\n",
      "       Name  Age           City  Salary\n",
      "0    Alice   25       New York   70000\n",
      "1      Bob   30  San Francisco   80000\n",
      "2  Charlie   35    Los Angeles   90000\n",
      "\n",
      "Filtered DataFrame (Age > 28):\n",
      "       Name  Age           City  Salary\n",
      "1      Bob   30  San Francisco   80000\n",
      "2  Charlie   35    Los Angeles   90000\n"
     ]
    }
   ],
   "source": [
    "# Selecting a column\n",
    "print(\"\\nNames Column:\\n\", df['Name'])\n",
    "\n",
    "# Adding a new column\n",
    "df['Salary'] = [70000, 80000, 90000]\n",
    "print(\"\\nDataFrame with Salary:\\n\", df)\n",
    "\n",
    "# Filtering data\n",
    "filtered_df = df[df['Age'] > 28]  # Filter rows where Age > 28\n",
    "print(\"\\nFiltered DataFrame (Age > 28):\\n\", filtered_df)"
   ]
  },
  {
   "cell_type": "code",
   "execution_count": 3,
   "metadata": {},
   "outputs": [
    {
     "name": "stdout",
     "output_type": "stream",
     "text": [
      "\n",
      "DataFrame with Missing Data:\n",
      "     Name   Age         City\n",
      "0  Alice  25.0     New York\n",
      "1    Bob   NaN         None\n",
      "2   None  35.0  Los Angeles\n",
      "\n",
      "DataFrame with Filled Missing Values:\n",
      "       Name      Age         City\n",
      "0    Alice     25.0     New York\n",
      "1      Bob  Unknown      Unknown\n",
      "2  Unknown     35.0  Los Angeles\n",
      "\n",
      "DataFrame with Dropped Missing Values:\n",
      "     Name   Age      City\n",
      "0  Alice  25.0  New York\n"
     ]
    }
   ],
   "source": [
    "# Create DataFrame with missing values\n",
    "data_with_nan = {'Name': ['Alice', 'Bob', None], 'Age': [25, None, 35], 'City': ['New York', None, 'Los Angeles']}\n",
    "df_nan = pd.DataFrame(data_with_nan)\n",
    "print(\"\\nDataFrame with Missing Data:\\n\", df_nan)\n",
    "\n",
    "# Fill missing values\n",
    "df_filled = df_nan.fillna(\"Unknown\")\n",
    "print(\"\\nDataFrame with Filled Missing Values:\\n\", df_filled)\n",
    "\n",
    "# Drop rows with missing values\n",
    "df_dropped = df_nan.dropna()\n",
    "print(\"\\nDataFrame with Dropped Missing Values:\\n\", df_dropped)"
   ]
  }
 ],
 "metadata": {
  "kernelspec": {
   "display_name": "Python 3",
   "language": "python",
   "name": "python3"
  },
  "language_info": {
   "codemirror_mode": {
    "name": "ipython",
    "version": 3
   },
   "file_extension": ".py",
   "mimetype": "text/x-python",
   "name": "python",
   "nbconvert_exporter": "python",
   "pygments_lexer": "ipython3",
   "version": "3.12.4"
  }
 },
 "nbformat": 4,
 "nbformat_minor": 2
}
