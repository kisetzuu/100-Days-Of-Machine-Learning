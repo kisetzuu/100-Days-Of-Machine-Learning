{
 "cells": [
  {
   "cell_type": "code",
   "execution_count": null,
   "metadata": {},
   "outputs": [],
   "source": [
    "# 1. Variables and Data Types\n",
    "# Defining variables with different data types\n",
    "int_var = 10  # 1.1 Integer type variable\n",
    "float_var = 10.5  # 1.2 Float type variable\n",
    "str_var = \"Hello, World!\"  # 1.3 String type variable\n",
    "bool_var = True  # 1.4 Boolean type variable (True or False)\n"
   ]
  },
  {
   "cell_type": "code",
   "execution_count": 1,
   "metadata": {},
   "outputs": [
    {
     "name": "stdout",
     "output_type": "stream",
     "text": [
      "[0, 2, 3, 4, 5, 6]\n",
      "Alice\n"
     ]
    }
   ],
   "source": [
    "# 2. Lists, Tuples, and Dictionaries\n",
    "\n",
    "# 2.1 Lists (mutable)\n",
    "list_var = [1, 2, 3, 4, 5]  # Create a list\n",
    "list_var.append(6)  # 2.2 Add an element to the list\n",
    "list_var[0] = 0  # 2.3 Update the first element\n",
    "print(list_var)  # Output: [0, 2, 3, 4, 5, 6]\n",
    "\n",
    "# 2.4 Tuples (immutable)\n",
    "tuple_var = (1, 2, 3)  # Create a tuple\n",
    "# tuple_var[0] = 0  # This would raise an error because tuples are immutable\n",
    "\n",
    "# 2.5 Dictionaries (key-value pairs)\n",
    "dict_var = {\"name\": \"Alice\", \"age\": 25, \"city\": \"New York\"}  # Create a dictionary\n",
    "print(dict_var['name'])  # 2.6 Access value by key 'name', Output: 'Alice'\n",
    "dict_var['age'] = 26  # 2.7 Upda\n"
   ]
  },
  {
   "cell_type": "code",
   "execution_count": 2,
   "metadata": {},
   "outputs": [
    {
     "name": "stdout",
     "output_type": "stream",
     "text": [
      "1 is odd\n",
      "2 is even\n",
      "3 is odd\n",
      "4 is even\n",
      "5 is odd\n"
     ]
    }
   ],
   "source": [
    "# 4. Functions and Lambdas\n",
    "\n",
    "# 4.1 Defining a function to add two numbers\n",
    "def add_numbers(a, b):\n",
    "    \"\"\"Returns the sum of two numbers.\"\"\"\n",
    "    return a + b\n",
    "\n",
    "# 4.2 Lambda function to multiply two numbers\n",
    "multiply = lambda x, y: x * y\n",
    "print(multiply(5, 2))  # Output: 10\n"
   ]
  },
  {
   "cell_type": "code",
   "execution_count": null,
   "metadata": {},
   "outputs": [],
   "source": [
    "# 5. List Comprehensions\n",
    "\n",
    "# 5.1 Creating a list of squares for numbers from 1 to 5\n",
    "squared_numbers = [x**2 for x in range(1, 6)]\n",
    "print(squared_numbers)  # Output: [1, 4, 9, 16, 25]\n"
   ]
  },
  {
   "cell_type": "code",
   "execution_count": null,
   "metadata": {},
   "outputs": [],
   "source": [
    "# 6. Exception Handling\n",
    "\n",
    "# 6.1 Handling division by zero error using try-except block\n",
    "try:\n",
    "    result = 10 / 0  # 6.2 This will raise a ZeroDivisionError\n",
    "except ZeroDivisionError as e:  # 6.3 Catch the error and print a message\n",
    "    print(f\"Error: {e}\")  # Output: Error: division by zero\n"
   ]
  },
  {
   "cell_type": "code",
   "execution_count": null,
   "metadata": {},
   "outputs": [],
   "source": [
    "# 7. Classes and OOP\n",
    "\n",
    "# 7.1 Defining a class 'Animal'\n",
    "class Animal:\n",
    "    \"\"\"Basic class representing an animal.\"\"\"\n",
    "    def __init__(self, name):\n",
    "        self.name = name  # Attribute 'name'\n",
    "\n",
    "    def speak(self):\n",
    "        return f\"{self.name} makes a sound.\"\n",
    "\n",
    "# 7.2 Defining a class 'Dog' that inherits from 'Animal'\n",
    "class Dog(Animal):\n",
    "    def speak(self):  # Override the speak method\n",
    "        return f\"{self.name} barks.\"\n",
    "\n",
    "dog = Dog(\"Rover\")  # 7.3 Create an instance of Dog class\n",
    "print(dog.speak())  # Output: Rover barks\n"
   ]
  },
  {
   "cell_type": "code",
   "execution_count": null,
   "metadata": {},
   "outputs": [],
   "source": [
    "# 8. NumPy: Array Creation and Operations\n",
    "import numpy as np\n",
    "\n",
    "# 8.1 Creating a 2D array\n",
    "array = np.array([[1, 2], [3, 4]])\n",
    "print(f\"Array:\\n{array}\")\n",
    "\n",
    "# 8.2 Element-wise operations (squaring each element)\n",
    "array_squared = array**2\n",
    "print(f\"Squared Array:\\n{array_squared}\")\n",
    "\n",
    "# 8.3 Broadcasting: Add 1 to all elements in the array\n",
    "array_plus_1 = array + 1\n",
    "print(f\"Array + 1:\\n{array_plus_1}\")\n"
   ]
  },
  {
   "cell_type": "code",
   "execution_count": null,
   "metadata": {},
   "outputs": [],
   "source": [
    "# 9. Pandas: DataFrame Basics\n",
    "import pandas as pd\n",
    "\n",
    "# 9.1 Creating a DataFrame\n",
    "data = {'Name': ['Alice', 'Bob', 'Charlie'], 'Age': [25, 30, 35]}\n",
    "df = pd.DataFrame(data)\n",
    "print(f\"DataFrame:\\n{df}\")\n",
    "\n",
    "# 9.2 Accessing a column\n",
    "print(f\"Names:\\n{df['Name']}\")  # Output: Alice, Bob, Charlie\n",
    "\n",
    "# 9.3 Adding a new column 'City'\n",
    "df['City'] = ['New York', 'San Francisco', 'Los Angeles']\n",
    "print(f\"Updated DataFrame:\\n{df}\")\n"
   ]
  },
  {
   "cell_type": "code",
   "execution_count": null,
   "metadata": {},
   "outputs": [],
   "source": [
    "# 10. Matplotlib: Basic Plot\n",
    "import matplotlib.pyplot as plt\n",
    "\n",
    "# 10.1 Define x and y values for the line plot\n",
    "x = [1, 2, 3, 4, 5]\n",
    "y = [2, 3, 5, 7, 11]\n",
    "\n",
    "# 10.2 Plot the line\n",
    "plt.plot(x, y, marker='o')\n",
    "plt.title('Simple Line Plot')\n",
    "plt.xlabel('X-axis')\n",
    "plt.ylabel('Y-axis')\n",
    "plt.show()  # 10.3 Display the plot\n"
   ]
  },
  {
   "cell_type": "code",
   "execution_count": 3,
   "metadata": {},
   "outputs": [
    {
     "ename": "ModuleNotFoundError",
     "evalue": "No module named 'seaborn'",
     "output_type": "error",
     "traceback": [
      "\u001b[1;31m---------------------------------------------------------------------------\u001b[0m",
      "\u001b[1;31mModuleNotFoundError\u001b[0m                       Traceback (most recent call last)",
      "Cell \u001b[1;32mIn[3], line 2\u001b[0m\n\u001b[0;32m      1\u001b[0m \u001b[38;5;66;03m# 11. Seaborn: Visualizing Distributions\u001b[39;00m\n\u001b[1;32m----> 2\u001b[0m \u001b[38;5;28;01mimport\u001b[39;00m \u001b[38;5;21;01mseaborn\u001b[39;00m \u001b[38;5;28;01mas\u001b[39;00m \u001b[38;5;21;01msns\u001b[39;00m\n\u001b[0;32m      4\u001b[0m \u001b[38;5;66;03m# 11.1 Load the Iris dataset (built-in dataset)\u001b[39;00m\n\u001b[0;32m      5\u001b[0m iris \u001b[38;5;241m=\u001b[39m sns\u001b[38;5;241m.\u001b[39mload_dataset(\u001b[38;5;124m'\u001b[39m\u001b[38;5;124miris\u001b[39m\u001b[38;5;124m'\u001b[39m)\n",
      "\u001b[1;31mModuleNotFoundError\u001b[0m: No module named 'seaborn'"
     ]
    }
   ],
   "source": [
    "# 11. Seaborn: Visualizing Distributions\n",
    "import seaborn as sns\n",
    "\n",
    "# 11.1 Load the Iris dataset (built-in dataset)\n",
    "iris = sns.load_dataset('iris')\n",
    "\n",
    "# 11.2 Scatter plot comparing 'sepal_length' and 'sepal_width'\n",
    "sns.scatterplot(data=iris, x='sepal_length', y='sepal_width', hue='species')\n",
    "plt.title('Iris Sepal Length vs Width')\n",
    "plt.show()  # 11.3 Display the plot\n"
   ]
  }
 ],
 "metadata": {
  "kernelspec": {
   "display_name": "Python 3",
   "language": "python",
   "name": "python3"
  },
  "language_info": {
   "codemirror_mode": {
    "name": "ipython",
    "version": 3
   },
   "file_extension": ".py",
   "mimetype": "text/x-python",
   "name": "python",
   "nbconvert_exporter": "python",
   "pygments_lexer": "ipython3",
   "version": "3.13.0"
  }
 },
 "nbformat": 4,
 "nbformat_minor": 2
}
