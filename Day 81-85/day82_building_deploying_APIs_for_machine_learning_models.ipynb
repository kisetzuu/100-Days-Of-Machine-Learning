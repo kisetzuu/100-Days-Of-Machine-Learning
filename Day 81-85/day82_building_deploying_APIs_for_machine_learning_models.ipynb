{
 "cells": [
  {
   "cell_type": "code",
   "execution_count": null,
   "metadata": {},
   "outputs": [],
   "source": [
    "pip install flask fastapi uvicorn scikit-learn\n"
   ]
  },
  {
   "cell_type": "code",
   "execution_count": null,
   "metadata": {},
   "outputs": [],
   "source": [
    "import pickle\n",
    "from flask import Flask, request, jsonify\n",
    "from fastapi import FastAPI\n",
    "from pydantic import BaseModel\n"
   ]
  },
  {
   "cell_type": "code",
   "execution_count": null,
   "metadata": {},
   "outputs": [],
   "source": [
    "from sklearn.datasets import load_iris\n",
    "from sklearn.model_selection import train_test_split\n",
    "from sklearn.ensemble import RandomForestClassifier\n",
    "\n",
    "# Load the Iris dataset\n",
    "iris = load_iris()\n",
    "X_train, X_test, y_train, y_test = train_test_split(iris.data, iris.target, test_size=0.2, random_state=42)\n",
    "\n",
    "# Train a Random Forest model\n",
    "model = RandomForestClassifier(random_state=42)\n",
    "model.fit(X_train, y_train)\n",
    "\n",
    "# Save the model\n",
    "with open(\"iris_model.pkl\", \"wb\") as f:\n",
    "    pickle.dump(model, f)\n",
    "\n",
    "print(\"Model trained and saved successfully!\")\n"
   ]
  },
  {
   "cell_type": "code",
   "execution_count": null,
   "metadata": {},
   "outputs": [],
   "source": [
    "# Load the model\n",
    "with open(\"iris_model.pkl\", \"rb\") as f:\n",
    "    model = pickle.load(f)\n",
    "\n",
    "# Initialize Flask app\n",
    "flask_app = Flask(__name__)\n",
    "\n",
    "@flask_app.route(\"/predict\", methods=[\"POST\"])\n",
    "def predict():\n",
    "    # Get JSON data\n",
    "    data = request.json\n",
    "    features = data[\"features\"]\n",
    "\n",
    "    # Make prediction\n",
    "    prediction = model.predict([features])\n",
    "    predicted_class = iris.target_names[prediction[0]]\n",
    "    \n",
    "    return jsonify({\"prediction\": predicted_class})\n",
    "\n",
    "if __name__ == \"__main__\":\n",
    "    flask_app.run(debug=True, port=5000)\n"
   ]
  },
  {
   "cell_type": "code",
   "execution_count": null,
   "metadata": {},
   "outputs": [],
   "source": [
    "curl -X POST -H \"Content-Type: application/json\" -d '{\"features\": [5.1, 3.5, 1.4, 0.2]}' http://127.0.0.1:5000/predict\n"
   ]
  },
  {
   "cell_type": "code",
   "execution_count": null,
   "metadata": {},
   "outputs": [],
   "source": [
    "# Initialize FastAPI app\n",
    "fastapi_app = FastAPI()\n",
    "\n",
    "# Request model for FastAPI\n",
    "class RequestModel(BaseModel):\n",
    "    features: list\n",
    "\n",
    "@fastapi_app.post(\"/predict\")\n",
    "def predict(request: RequestModel):\n",
    "    # Get features from request\n",
    "    features = request.features\n",
    "\n",
    "    # Make prediction\n",
    "    prediction = model.predict([features])\n",
    "    predicted_class = iris.target_names[prediction[0]]\n",
    "    \n",
    "    return {\"prediction\": predicted_class}\n",
    "\n",
    "if __name__ == \"__main__\":\n",
    "    import uvicorn\n",
    "    uvicorn.run(fastapi_app, host=\"127.0.0.1\", port=8000)\n"
   ]
  },
  {
   "cell_type": "code",
   "execution_count": null,
   "metadata": {},
   "outputs": [],
   "source": [
    "curl -X POST -H \"Content-Type: application/json\" -d '{\"features\": [5.1, 3.5, 1.4, 0.2]}' http://127.0.0.1:8000/predict\n"
   ]
  },
  {
   "cell_type": "code",
   "execution_count": null,
   "metadata": {},
   "outputs": [],
   "source": [
    "FROM python:3.9\n",
    "WORKDIR /app\n",
    "COPY . /app\n",
    "RUN pip install -r requirements.txt\n",
    "CMD [\"python\", \"app.py\"]  # For Flask, replace `app.py` with your file name\n"
   ]
  },
  {
   "cell_type": "code",
   "execution_count": null,
   "metadata": {},
   "outputs": [],
   "source": [
    "docker build -t ml-api .\n",
    "docker run -p 5000:5000 ml-api\n"
   ]
  },
  {
   "cell_type": "code",
   "execution_count": null,
   "metadata": {},
   "outputs": [],
   "source": [
    "heroku create\n",
    "git push heroku main\n",
    "heroku open\n"
   ]
  }
 ],
 "metadata": {
  "language_info": {
   "name": "python"
  }
 },
 "nbformat": 4,
 "nbformat_minor": 2
}
