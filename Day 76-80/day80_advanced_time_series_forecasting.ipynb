{
 "cells": [
  {
   "cell_type": "code",
   "execution_count": null,
   "metadata": {},
   "outputs": [],
   "source": [
    "pip install pandas matplotlib statsmodels prophet tensorflow\n"
   ]
  },
  {
   "cell_type": "code",
   "execution_count": null,
   "metadata": {},
   "outputs": [],
   "source": [
    "import pandas as pd\n",
    "import matplotlib.pyplot as plt\n",
    "from statsmodels.tsa.arima.model import ARIMA\n",
    "from prophet import Prophet\n",
    "import tensorflow as tf\n",
    "from tensorflow.keras.models import Sequential\n",
    "from tensorflow.keras.layers import LSTM, Dense\n"
   ]
  },
  {
   "cell_type": "code",
   "execution_count": null,
   "metadata": {},
   "outputs": [],
   "source": [
    "# Load the dataset\n",
    "url = \"https://raw.githubusercontent.com/jbrownlee/Datasets/master/airline-passengers.csv\"\n",
    "df = pd.read_csv(url)\n",
    "\n",
    "# Parse dates and set as index\n",
    "df['Month'] = pd.to_datetime(df['Month'])\n",
    "df.set_index('Month', inplace=True)\n",
    "\n",
    "# Plot the dataset\n",
    "plt.figure(figsize=(10, 6))\n",
    "plt.plot(df['Passengers'], label='Airline Passengers')\n",
    "plt.title('Monthly Airline Passenger Numbers')\n",
    "plt.xlabel('Time')\n",
    "plt.ylabel('Number of Passengers')\n",
    "plt.legend()\n",
    "plt.show()\n"
   ]
  },
  {
   "cell_type": "code",
   "execution_count": null,
   "metadata": {},
   "outputs": [],
   "source": [
    "# Fit the ARIMA model\n",
    "arima_model = ARIMA(df['Passengers'], order=(5, 1, 0))\n",
    "arima_result = arima_model.fit()\n",
    "\n",
    "# Forecast the next 12 months\n",
    "arima_forecast = arima_result.forecast(steps=12)\n",
    "\n",
    "# Plot the forecast\n",
    "plt.figure(figsize=(10, 6))\n",
    "plt.plot(df['Passengers'], label='Original')\n",
    "plt.plot(arima_forecast, label='ARIMA Forecast', linestyle='--')\n",
    "plt.title('ARIMA Forecast')\n",
    "plt.legend()\n",
    "plt.show()\n"
   ]
  },
  {
   "cell_type": "code",
   "execution_count": null,
   "metadata": {},
   "outputs": [],
   "source": [
    "# Prepare data for Prophet\n",
    "prophet_df = df.reset_index().rename(columns={'Month': 'ds', 'Passengers': 'y'})\n",
    "\n",
    "# Fit the Prophet model\n",
    "prophet_model = Prophet()\n",
    "prophet_model.fit(prophet_df)\n",
    "\n",
    "# Make a forecast\n",
    "future = prophet_model.make_future_dataframe(periods=12, freq='M')\n",
    "prophet_forecast = prophet_model.predict(future)\n",
    "\n",
    "# Plot the forecast\n",
    "prophet_model.plot(prophet_forecast)\n",
    "plt.title('Prophet Forecast')\n",
    "plt.show()\n"
   ]
  },
  {
   "cell_type": "code",
   "execution_count": null,
   "metadata": {},
   "outputs": [],
   "source": [
    "import numpy as np\n",
    "from sklearn.preprocessing import MinMaxScaler\n",
    "\n",
    "# Normalize the data\n",
    "scaler = MinMaxScaler(feature_range=(0, 1))\n",
    "scaled_data = scaler.fit_transform(df['Passengers'].values.reshape(-1, 1))\n",
    "\n",
    "# Prepare the data for LSTM\n",
    "look_back = 12\n",
    "X, y = [], []\n",
    "for i in range(look_back, len(scaled_data)):\n",
    "    X.append(scaled_data[i - look_back:i, 0])\n",
    "    y.append(scaled_data[i, 0])\n",
    "X, y = np.array(X), np.array(y)\n",
    "\n",
    "# Reshape for LSTM\n",
    "X = np.reshape(X, (X.shape[0], X.shape[1], 1))\n",
    "\n",
    "# Build the LSTM model\n",
    "lstm_model = Sequential([\n",
    "    LSTM(50, return_sequences=True, input_shape=(X.shape[1], 1)),\n",
    "    LSTM(50, return_sequences=False),\n",
    "    Dense(25),\n",
    "    Dense(1)\n",
    "])\n",
    "lstm_model.compile(optimizer='adam', loss='mean_squared_error')\n",
    "\n",
    "# Train the model\n",
    "lstm_model.fit(X, y, batch_size=32, epochs=10)\n",
    "\n",
    "# Make predictions\n",
    "lstm_predictions = lstm_model.predict(X)\n",
    "lstm_predictions = scaler.inverse_transform(lstm_predictions)\n",
    "\n",
    "# Plot the predictions\n",
    "plt.figure(figsize=(10, 6))\n",
    "plt.plot(df['Passengers'], label='Original')\n",
    "plt.plot(range(look_back, len(lstm_predictions) + look_back), lstm_predictions, label='LSTM Predictions', linestyle='--')\n",
    "plt.title('LSTM Forecast')\n",
    "plt.legend()\n",
    "plt.show()\n"
   ]
  },
  {
   "cell_type": "code",
   "execution_count": null,
   "metadata": {},
   "outputs": [],
   "source": [
    "from sklearn.metrics import mean_squared_error\n",
    "\n",
    "# Compute RMSE for each model\n",
    "arima_rmse = mean_squared_error(df['Passengers'][-12:], arima_forecast, squared=False)\n",
    "prophet_rmse = mean_squared_error(df['Passengers'][-12:], prophet_forecast['yhat'][-12:], squared=False)\n",
    "lstm_rmse = mean_squared_error(df['Passengers'][-len(lstm_predictions):], lstm_predictions.flatten(), squared=False)\n",
    "\n",
    "print(f\"ARIMA RMSE: {arima_rmse:.2f}\")\n",
    "print(f\"Prophet RMSE: {prophet_rmse:.2f}\")\n",
    "print(f\"LSTM RMSE: {lstm_rmse:.2f}\")\n"
   ]
  }
 ],
 "metadata": {
  "language_info": {
   "name": "python"
  }
 },
 "nbformat": 4,
 "nbformat_minor": 2
}
