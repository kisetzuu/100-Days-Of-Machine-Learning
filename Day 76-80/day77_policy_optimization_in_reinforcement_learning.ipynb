{
 "cells": [
  {
   "cell_type": "code",
   "execution_count": null,
   "metadata": {},
   "outputs": [],
   "source": [
    "import gym\n",
    "import numpy as np\n",
    "import tensorflow as tf\n",
    "from tensorflow.keras.models import Sequential\n",
    "from tensorflow.keras.layers import Dense\n",
    "from tensorflow.keras.optimizers import Adam\n"
   ]
  },
  {
   "cell_type": "code",
   "execution_count": null,
   "metadata": {},
   "outputs": [],
   "source": [
    "# Create the CartPole environment\n",
    "env = gym.make(\"CartPole-v1\")\n",
    "\n",
    "# Environment details\n",
    "print(\"Action Space:\", env.action_space)\n",
    "print(\"Observation Space:\", env.observation_space)\n"
   ]
  },
  {
   "cell_type": "code",
   "execution_count": null,
   "metadata": {},
   "outputs": [],
   "source": [
    "# Define the policy model\n",
    "def create_policy_model(input_shape, action_space):\n",
    "    model = Sequential([\n",
    "        Dense(24, activation='relu', input_shape=input_shape),\n",
    "        Dense(24, activation='relu'),\n",
    "        Dense(action_space, activation='softmax')  # Output probabilities for actions\n",
    "    ])\n",
    "    model.compile(optimizer=Adam(learning_rate=0.01), loss='categorical_crossentropy')\n",
    "    return model\n",
    "\n",
    "# Initialize the policy model\n",
    "policy_model = create_policy_model(input_shape=(env.observation_space.shape[0],), action_space=env.action_space.n)\n",
    "print(\"Policy Model Summary:\")\n",
    "policy_model.summary()\n"
   ]
  },
  {
   "cell_type": "code",
   "execution_count": null,
   "metadata": {},
   "outputs": [],
   "source": [
    "# Function to sample an action from the policy\n",
    "def sample_action(policy, state):\n",
    "    action_prob = policy.predict(state, verbose=0)\n",
    "    return np.random.choice(len(action_prob[0]), p=action_prob[0])\n",
    "\n",
    "# Function to compute discounted rewards\n",
    "def compute_discounted_rewards(rewards, gamma=0.99):\n",
    "    discounted_rewards = np.zeros_like(rewards, dtype=np.float32)\n",
    "    cumulative = 0\n",
    "    for t in reversed(range(len(rewards))):\n",
    "        cumulative = rewards[t] + gamma * cumulative\n",
    "        discounted_rewards[t] = cumulative\n",
    "    return discounted_rewards\n"
   ]
  },
  {
   "cell_type": "code",
   "execution_count": null,
   "metadata": {},
   "outputs": [],
   "source": [
    "# Training parameters\n",
    "episodes = 500\n",
    "gamma = 0.99  # Discount factor\n",
    "\n",
    "for episode in range(episodes):\n",
    "    state = env.reset()\n",
    "    state = np.reshape(state, [1, env.observation_space.shape[0]])\n",
    "    \n",
    "    episode_states, episode_actions, episode_rewards = [], [], []\n",
    "    done = False\n",
    "    total_reward = 0\n",
    "\n",
    "    # Generate an episode\n",
    "    while not done:\n",
    "        # Sample an action\n",
    "        action = sample_action(policy_model, state)\n",
    "        \n",
    "        # Take the action\n",
    "        next_state, reward, done, _ = env.step(action)\n",
    "        next_state = np.reshape(next_state, [1, env.observation_space.shape[0]])\n",
    "        \n",
    "        # Store episode data\n",
    "        episode_states.append(state)\n",
    "        episode_actions.append(action)\n",
    "        episode_rewards.append(reward)\n",
    "        \n",
    "        state = next_state\n",
    "        total_reward += reward\n",
    "\n",
    "    # Compute discounted rewards\n",
    "    discounted_rewards = compute_discounted_rewards(episode_rewards, gamma)\n",
    "    discounted_rewards = (discounted_rewards - np.mean(discounted_rewards)) / np.std(discounted_rewards)  # Normalize\n",
    "\n",
    "    # Convert data to arrays\n",
    "    episode_states = np.vstack(episode_states)\n",
    "    episode_actions = np.array(episode_actions)\n",
    "    discounted_rewards = np.array(discounted_rewards)\n",
    "\n",
    "    # Train the policy model\n",
    "    actions_one_hot = tf.keras.utils.to_categorical(episode_actions, num_classes=env.action_space.n)\n",
    "    policy_model.fit(episode_states, actions_one_hot, sample_weight=discounted_rewards, verbose=0)\n",
    "\n",
    "    # Log progress\n",
    "    print(f\"Episode {episode + 1}/{episodes}, Total Reward: {total_reward}\")\n",
    "\n",
    "env.close()\n"
   ]
  },
  {
   "cell_type": "code",
   "execution_count": null,
   "metadata": {},
   "outputs": [],
   "source": [
    "state = env.reset()\n",
    "state = np.reshape(state, [1, env.observation_space.shape[0]])\n",
    "done = False\n",
    "total_reward = 0\n",
    "\n",
    "while not done:\n",
    "    # Sample the best action\n",
    "    action = np.argmax(policy_model.predict(state, verbose=0))\n",
    "    state, reward, done, _ = env.step(action)\n",
    "    state = np.reshape(state, [1, env.observation_space.shape[0]])\n",
    "    total_reward += reward\n",
    "    env.render()\n",
    "\n",
    "print(f\"Total Reward from Trained Policy: {total_reward}\")\n",
    "env.close()\n"
   ]
  },
  {
   "cell_type": "code",
   "execution_count": null,
   "metadata": {},
   "outputs": [],
   "source": [
    "import matplotlib.pyplot as plt\n",
    "\n",
    "# Assume rewards_log contains total rewards for each episode (collected during training)\n",
    "rewards_log = [total_reward]  # Replace with actual list during training\n",
    "\n",
    "plt.plot(rewards_log)\n",
    "plt.title(\"Training Progress\")\n",
    "plt.xlabel(\"Episode\")\n",
    "plt.ylabel(\"Total Reward\")\n",
    "plt.show()\n"
   ]
  }
 ],
 "metadata": {
  "language_info": {
   "name": "python"
  }
 },
 "nbformat": 4,
 "nbformat_minor": 2
}
