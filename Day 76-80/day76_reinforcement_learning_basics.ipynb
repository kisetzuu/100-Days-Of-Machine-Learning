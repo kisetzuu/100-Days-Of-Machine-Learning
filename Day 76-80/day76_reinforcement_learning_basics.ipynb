{
 "cells": [
  {
   "cell_type": "code",
   "execution_count": null,
   "metadata": {},
   "outputs": [],
   "source": [
    "import gym\n",
    "import numpy as np\n"
   ]
  },
  {
   "cell_type": "code",
   "execution_count": null,
   "metadata": {},
   "outputs": [],
   "source": [
    "# Create the CartPole environment\n",
    "env = gym.make(\"CartPole-v1\")\n",
    "\n",
    "# Reset the environment\n",
    "state = env.reset()\n",
    "\n",
    "print(\"Initial State:\", state)\n"
   ]
  },
  {
   "cell_type": "code",
   "execution_count": null,
   "metadata": {},
   "outputs": [],
   "source": [
    "# Display environment details\n",
    "print(\"Action Space:\", env.action_space)\n",
    "print(\"Observation Space:\", env.observation_space)\n",
    "print(\"Observation Space High:\", env.observation_space.high)\n",
    "print(\"Observation Space Low:\", env.observation_space.low)\n"
   ]
  },
  {
   "cell_type": "code",
   "execution_count": null,
   "metadata": {},
   "outputs": [],
   "source": [
    "# Simulate random actions\n",
    "for _ in range(10):\n",
    "    action = env.action_space.sample()  # Select a random action\n",
    "    state, reward, done, info = env.step(action)  # Take the action\n",
    "    print(f\"Action: {action}, Reward: {reward}, Done: {done}\")\n",
    "\n",
    "    if done:\n",
    "        state = env.reset()  # Reset the environment if the episode ends\n"
   ]
  },
  {
   "cell_type": "code",
   "execution_count": null,
   "metadata": {},
   "outputs": [],
   "source": [
    "# Define a simple policy: always move right\n",
    "def simple_policy(observation):\n",
    "    return 1  # Always take action 1 (move right)\n",
    "\n",
    "# Run the policy\n",
    "state = env.reset()\n",
    "for _ in range(50):\n",
    "    action = simple_policy(state)\n",
    "    state, reward, done, info = env.step(action)\n",
    "    env.render()  # Render the environment\n",
    "    if done:\n",
    "        break\n",
    "\n",
    "env.close()\n"
   ]
  },
  {
   "cell_type": "code",
   "execution_count": null,
   "metadata": {},
   "outputs": [],
   "source": [
    "# Initialize Q-table\n",
    "num_states = (10, 10, 10, 10)  # Discretized state space\n",
    "q_table = np.zeros(num_states + (env.action_space.n,))\n",
    "\n",
    "# Define parameters\n",
    "alpha = 0.1  # Learning rate\n",
    "gamma = 0.99  # Discount factor\n",
    "epsilon = 1.0  # Exploration rate\n",
    "epsilon_decay = 0.99\n",
    "num_episodes = 500\n",
    "\n",
    "# Discretize state\n",
    "def discretize_state(state, bins=(10, 10, 10, 10)):\n",
    "    high = env.observation_space.high\n",
    "    low = env.observation_space.low\n",
    "    bins = [np.linspace(low[i], high[i], bins[i]) for i in range(len(bins))]\n",
    "    discretized = tuple(np.digitize(state[i], bins[i]) for i in range(len(state)))\n",
    "    return discretized\n",
    "\n",
    "# Train Q-learning agent\n",
    "for episode in range(num_episodes):\n",
    "    state = discretize_state(env.reset())\n",
    "    total_reward = 0\n",
    "    done = False\n",
    "\n",
    "    while not done:\n",
    "        if np.random.random() < epsilon:\n",
    "            action = env.action_space.sample()  # Explore\n",
    "        else:\n",
    "            action = np.argmax(q_table[state])  # Exploit\n",
    "\n",
    "        next_state, reward, done, _ = env.step(action)\n",
    "        next_state = discretize_state(next_state)\n",
    "        total_reward += reward\n",
    "\n",
    "        # Update Q-table\n",
    "        q_table[state][action] += alpha * (reward + gamma * np.max(q_table[next_state]) - q_table[state][action])\n",
    "        state = next_state\n",
    "\n",
    "    epsilon *= epsilon_decay  # Decay exploration rate\n",
    "    print(f\"Episode {episode + 1}, Total Reward: {total_reward}\")\n"
   ]
  },
  {
   "cell_type": "code",
   "execution_count": null,
   "metadata": {},
   "outputs": [],
   "source": [
    "# Test the trained policy\n",
    "state = discretize_state(env.reset())\n",
    "total_reward = 0\n",
    "done = False\n",
    "\n",
    "while not done:\n",
    "    action = np.argmax(q_table[state])  # Exploit the learned policy\n",
    "    state, reward, done, _ = env.step(action)\n",
    "    state = discretize_state(state)\n",
    "    total_reward += reward\n",
    "    env.render()\n",
    "\n",
    "print(f\"Total Reward: {total_reward}\")\n",
    "env.close()\n"
   ]
  }
 ],
 "metadata": {
  "language_info": {
   "name": "python"
  }
 },
 "nbformat": 4,
 "nbformat_minor": 2
}
