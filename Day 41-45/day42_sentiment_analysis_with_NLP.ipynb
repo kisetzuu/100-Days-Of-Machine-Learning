{
 "cells": [
  {
   "cell_type": "code",
   "execution_count": null,
   "metadata": {},
   "outputs": [],
   "source": [
    "# Load the IMDb movie reviews dataset and check its structure.\n",
    "\n",
    "import pandas as pd\n",
    "\n",
    "# Load the dataset\n",
    "url = \"https://raw.githubusercontent.com/dDua/sample-datasets/main/imdb-reviews.csv\"\n",
    "data = pd.read_csv(url)\n",
    "\n",
    "# Display the first few rows\n",
    "print(\"Dataset Sample:\")\n",
    "print(data.head())\n",
    "\n",
    "# Check for null values\n",
    "print(\"\\nDataset Info:\")\n",
    "print(data.info())\n",
    "\n",
    "# Columns:\n",
    "# 'review': The text of the review.\n",
    "# 'sentiment': The sentiment label (positive or negative)."
   ]
  },
  {
   "cell_type": "code",
   "execution_count": null,
   "metadata": {},
   "outputs": [],
   "source": [
    "# Preprocess the text data by cleaning, removing special characters, and converting to lowercase.\n",
    "\n",
    "import re\n",
    "\n",
    "def clean_text(text):\n",
    "    # Remove special characters and numbers\n",
    "    text = re.sub(r\"[^a-zA-Z\\s]\", \"\", text)\n",
    "    text = text.lower()  # Convert to lowercase\n",
    "    return text\n",
    "\n",
    "# Apply text preprocessing\n",
    "data['cleaned_review'] = data['review'].apply(clean_text)\n",
    "\n",
    "# Display the cleaned text\n",
    "print(\"\\nCleaned Review Example:\")\n",
    "print(data['cleaned_review'].iloc[0])"
   ]
  },
  {
   "cell_type": "code",
   "execution_count": null,
   "metadata": {},
   "outputs": [],
   "source": [
    "# Split the dataset into training and testing sets.\n",
    "\n",
    "from sklearn.model_selection import train_test_split\n",
    "\n",
    "# Define features and labels\n",
    "X = data['cleaned_review']\n",
    "y = data['sentiment']\n",
    "\n",
    "# Train-test split (80% train, 20% test)\n",
    "X_train, X_test, y_train, y_test = train_test_split(X, y, test_size=0.2, random_state=42)\n",
    "\n",
    "print(\"\\nTraining Data Size:\", X_train.shape[0])\n",
    "print(\"Testing Data Size:\", X_test.shape[0])"
   ]
  },
  {
   "cell_type": "code",
   "execution_count": null,
   "metadata": {},
   "outputs": [],
   "source": [
    "# Convert the cleaned text into numerical features using TF-IDF vectorization.\n",
    "\n",
    "from sklearn.feature_extraction.text import TfidfVectorizer\n",
    "\n",
    "# Initialize TF-IDF vectorizer\n",
    "tfidf_vectorizer = TfidfVectorizer(max_features=5000)  # Use top 5000 words\n",
    "\n",
    "# Fit-transform on training data and transform test data\n",
    "X_train_tfidf = tfidf_vectorizer.fit_transform(X_train)\n",
    "X_test_tfidf = tfidf_vectorizer.transform(X_test)\n",
    "\n",
    "print(\"\\nTF-IDF Matrix Shape (Training):\", X_train_tfidf.shape)\n",
    "print(\"TF-IDF Matrix Shape (Testing):\", X_test_tfidf.shape)"
   ]
  },
  {
   "cell_type": "code",
   "execution_count": null,
   "metadata": {},
   "outputs": [],
   "source": [
    "# Train a Naive Bayes model for sentiment classification.\n",
    "\n",
    "from sklearn.naive_bayes import MultinomialNB\n",
    "\n",
    "# Initialize and train the Multinomial Naive Bayes model\n",
    "nb_model = MultinomialNB()\n",
    "nb_model.fit(X_train_tfidf, y_train)\n",
    "\n",
    "# Evaluate the model\n",
    "train_accuracy = nb_model.score(X_train_tfidf, y_train)\n",
    "test_accuracy = nb_model.score(X_test_tfidf, y_test)\n",
    "\n",
    "print(\"\\nTraining Accuracy:\", train_accuracy)\n",
    "print(\"Testing Accuracy:\", test_accuracy)"
   ]
  },
  {
   "cell_type": "code",
   "execution_count": null,
   "metadata": {},
   "outputs": [],
   "source": [
    "# Evaluate the model performance using confusion matrix and classification report.\n",
    "\n",
    "from sklearn.metrics import confusion_matrix, classification_report\n",
    "import seaborn as sns\n",
    "import matplotlib.pyplot as plt\n",
    "\n",
    "# Make predictions on the test set\n",
    "y_pred = nb_model.predict(X_test_tfidf)\n",
    "\n",
    "# Confusion matrix\n",
    "cm = confusion_matrix(y_test, y_pred)\n",
    "plt.figure(figsize=(6, 4))\n",
    "sns.heatmap(cm, annot=True, fmt='d', cmap='Blues', xticklabels=['Negative', 'Positive'], yticklabels=['Negative', 'Positive'])\n",
    "plt.title(\"Confusion Matrix\")\n",
    "plt.xlabel(\"Predicted\")\n",
    "plt.ylabel(\"Actual\")\n",
    "plt.show()\n",
    "\n",
    "# Classification report\n",
    "print(\"\\nClassification Report:\")\n",
    "print(classification_report(y_test, y_pred))"
   ]
  },
  {
   "cell_type": "code",
   "execution_count": null,
   "metadata": {},
   "outputs": [],
   "source": [
    "# Test the model on new reviews.\n",
    "\n",
    "new_reviews = [\n",
    "    \"This movie was absolutely wonderful and heartwarming.\",\n",
    "    \"I hated this film. It was a complete waste of time.\",\n",
    "    \"The storyline was decent, but the acting could have been better.\"\n",
    "]\n",
    "\n",
    "# Preprocess and transform the new reviews\n",
    "new_reviews_cleaned = [clean_text(review) for review in new_reviews]\n",
    "new_reviews_tfidf = tfidf_vectorizer.transform(new_reviews_cleaned)\n",
    "\n",
    "# Predict sentiment\n",
    "predictions = nb_model.predict(new_reviews_tfidf)\n",
    "\n",
    "# Display predictions\n",
    "for review, sentiment in zip(new_reviews, predictions):\n",
    "    print(f\"Review: {review}\")\n",
    "    print(f\"Predicted Sentiment: {sentiment}\\n\")"
   ]
  }
 ],
 "metadata": {
  "language_info": {
   "name": "python"
  }
 },
 "nbformat": 4,
 "nbformat_minor": 2
}
