{
 "cells": [
  {
   "cell_type": "code",
   "execution_count": null,
   "metadata": {},
   "outputs": [],
   "source": [
    "# Install Hugging Face Transformers\n",
    "!pip install transformers datasets"
   ]
  },
  {
   "cell_type": "code",
   "execution_count": null,
   "metadata": {},
   "outputs": [],
   "source": [
    "# Import libraries\n",
    "from transformers import pipeline\n",
    "import pandas as pd"
   ]
  },
  {
   "cell_type": "code",
   "execution_count": null,
   "metadata": {},
   "outputs": [],
   "source": [
    "# Load the Hugging Face summarization pipeline with a pre-trained model.\n",
    "summarizer = pipeline(\"summarization\", model=\"facebook/bart-large-cnn\")\n",
    "\n",
    "# Print a confirmation message\n",
    "print(\"Summarization pipeline loaded successfully!\")"
   ]
  },
  {
   "cell_type": "code",
   "execution_count": null,
   "metadata": {},
   "outputs": [],
   "source": [
    "# Define a long text for summarization.\n",
    "text = \"\"\"\n",
    "Artificial Intelligence (AI) is rapidly transforming the world by enabling machines to perform tasks that \n",
    "traditionally required human intelligence. Machine learning, a subset of AI, allows systems to learn from \n",
    "data and improve over time without explicit programming. Applications of AI are vast, including healthcare, \n",
    "finance, transportation, education, and entertainment. In healthcare, AI assists doctors by analyzing medical \n",
    "images and predicting diseases. In finance, AI is used for fraud detection, algorithmic trading, and customer \n",
    "service chatbots. Autonomous vehicles are transforming transportation, while personalized learning powered by \n",
    "AI is enhancing education. As AI continues to evolve, it brings both opportunities and challenges, including \n",
    "ethical concerns, job displacement, and data privacy issues. It is crucial to ensure that AI technologies are \n",
    "developed responsibly and inclusively to benefit all of society.\n",
    "\"\"\"\n",
    "\n",
    "print(\"Original Text Length:\", len(text.split()), \"words\")"
   ]
  },
  {
   "cell_type": "code",
   "execution_count": null,
   "metadata": {},
   "outputs": [],
   "source": [
    "# Generate the abstractive summary using the pre-trained model.\n",
    "summary = summarizer(text, max_length=100, min_length=30, do_sample=False)\n",
    "\n",
    "# Display the generated summary\n",
    "print(\"\\nGenerated Summary:\")\n",
    "print(summary[0]['summary_text'])"
   ]
  },
  {
   "cell_type": "code",
   "execution_count": null,
   "metadata": {},
   "outputs": [],
   "source": [
    "# List of sample texts for summarization\n",
    "texts = [\n",
    "    \"Machine learning algorithms are being increasingly used in agriculture to analyze crop health, detect pests, and improve yields. Drones equipped with AI cameras can monitor large fields and provide actionable insights to farmers.\",\n",
    "    \"The renewable energy sector is growing rapidly, with advancements in solar, wind, and hydropower technologies. AI plays a crucial role in optimizing energy distribution and reducing power wastage.\",\n",
    "    \"Quantum computing has the potential to solve problems that are currently unsolvable by classical computers. Industries like cryptography, pharmaceuticals, and logistics are actively exploring the applications of quantum computing.\"\n",
    "]\n",
    "\n",
    "# Generate summaries for multiple texts\n",
    "for i, t in enumerate(texts):\n",
    "    print(f\"\\nOriginal Text {i+1}:\")\n",
    "    print(t)\n",
    "    summary = summarizer(t, max_length=50, min_length=20, do_sample=False)\n",
    "    print(f\"Summary {i+1}: {summary[0]['summary_text']}\")"
   ]
  },
  {
   "cell_type": "code",
   "execution_count": null,
   "metadata": {},
   "outputs": [],
   "source": [
    "# Function to compare lengths\n",
    "def compare_text_length(text, summary):\n",
    "    print(f\"Original Text Length: {len(text.split())} words\")\n",
    "    print(f\"Summary Length: {len(summary[0]['summary_text'].split())} words\")\n",
    "\n",
    "# Compare for the main text\n",
    "compare_text_length(text, summary)"
   ]
  },
  {
   "cell_type": "code",
   "execution_count": null,
   "metadata": {},
   "outputs": [],
   "source": [
    "# Save generated summaries to a text file.\n",
    "\n",
    "with open(\"generated_summaries.txt\", \"w\") as file:\n",
    "    file.write(\"Original Text:\\n\")\n",
    "    file.write(text + \"\\n\\n\")\n",
    "    file.write(\"Generated Summary:\\n\")\n",
    "    file.write(summary[0]['summary_text'] + \"\\n\")\n",
    "\n",
    "print(\"Summaries saved to 'generated_summaries.txt'\")"
   ]
  }
 ],
 "metadata": {
  "language_info": {
   "name": "python"
  }
 },
 "nbformat": 4,
 "nbformat_minor": 2
}
