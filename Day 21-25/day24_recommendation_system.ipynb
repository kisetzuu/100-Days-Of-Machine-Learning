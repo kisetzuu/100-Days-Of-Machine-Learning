{
 "cells": [
  {
   "cell_type": "code",
   "execution_count": null,
   "metadata": {},
   "outputs": [],
   "source": [
    "# Load a sample recommendation dataset and explore it to understand user-item interactions.\n",
    "\n",
    "import pandas as pd\n",
    "\n",
    "# Example user-item interaction data\n",
    "data = {\n",
    "    'user_id': [1, 1, 1, 2, 2, 3, 3, 3, 4, 4],\n",
    "    'item_id': [101, 102, 103, 101, 104, 102, 104, 105, 101, 105],\n",
    "    'rating': [5, 4, 3, 4, 5, 2, 5, 3, 4, 5]\n",
    "}\n",
    "df = pd.DataFrame(data)\n",
    "\n",
    "# Display dataset\n",
    "print(\"User-Item Interaction Data:\\n\", df)"
   ]
  },
  {
   "cell_type": "code",
   "execution_count": null,
   "metadata": {},
   "outputs": [],
   "source": [
    "# Use matrix factorization to implement collaborative filtering, finding patterns in user-item interactions.\n",
    "\n",
    "from sklearn.decomposition import TruncatedSVD\n",
    "from sklearn.metrics.pairwise import cosine_similarity\n",
    "\n",
    "# Create a user-item matrix\n",
    "user_item_matrix = df.pivot(index='user_id', columns='item_id', values='rating').fillna(0)\n",
    "\n",
    "# Apply TruncatedSVD for dimensionality reduction\n",
    "svd = TruncatedSVD(n_components=2, random_state=42)\n",
    "latent_matrix = svd.fit_transform(user_item_matrix)\n",
    "\n",
    "# Calculate similarity between users\n",
    "user_similarity = cosine_similarity(latent_matrix)\n",
    "print(\"User Similarity Matrix:\\n\", user_similarity)"
   ]
  },
  {
   "cell_type": "code",
   "execution_count": null,
   "metadata": {},
   "outputs": [],
   "source": [
    "# Recommend items to a user based on the items liked by similar users using collaborative filtering.\n",
    "\n",
    "import numpy as np\n",
    "\n",
    "# Find the most similar user to user 1\n",
    "target_user = 1\n",
    "similar_user_idx = np.argsort(-user_similarity[target_user - 1])[1]  # Ignore self-similarity\n",
    "\n",
    "# Get items liked by the similar user but not yet rated by the target user\n",
    "similar_user_items = user_item_matrix.iloc[similar_user_idx]\n",
    "target_user_items = user_item_matrix.iloc[target_user - 1]\n",
    "\n",
    "# Recommend items with high ratings from the similar user that the target user hasn't rated\n",
    "recommendations = similar_user_items[target_user_items == 0].sort_values(ascending=False)\n",
    "print(\"Recommended Items for User 1:\\n\", recommendations)"
   ]
  },
  {
   "cell_type": "code",
   "execution_count": null,
   "metadata": {},
   "outputs": [],
   "source": [
    "# Implement content-based filtering to recommend items similar to those the user has previously liked.\n",
    "\n",
    "# Example item content (features describing items)\n",
    "item_features = pd.DataFrame({\n",
    "    'item_id': [101, 102, 103, 104, 105],\n",
    "    'genre': ['Action', 'Adventure', 'Action', 'Comedy', 'Adventure'],\n",
    "    'length': [120, 150, 110, 90, 130]\n",
    "})\n",
    "\n",
    "# Merge user-item ratings with item features\n",
    "df_content = df.merge(item_features, on='item_id')\n",
    "user_preferences = df_content[df_content['user_id'] == target_user].groupby('genre').mean()['rating']\n",
    "\n",
    "# Recommend items based on similar genre preference\n",
    "recommend_content = item_features[item_features['genre'].isin(user_preferences.index)]\n",
    "print(\"Content-Based Recommendations:\\n\", recommend_content)"
   ]
  },
  {
   "cell_type": "code",
   "execution_count": null,
   "metadata": {},
   "outputs": [],
   "source": [
    "# Combine collaborative and content-based recommendations for a hybrid approach.\n",
    "\n",
    "# Get top items from collaborative filtering\n",
    "top_collab_items = recommendations.index[:2].tolist()\n",
    "\n",
    "# Get top items from content-based filtering\n",
    "top_content_items = recommend_content['item_id'].tolist()\n",
    "\n",
    "# Combine recommendations, removing duplicates\n",
    "hybrid_recommendations = list(set(top_collab_items + top_content_items))\n",
    "print(\"Hybrid Recommendations for User 1:\\n\", hybrid_recommendations)"
   ]
  }
 ],
 "metadata": {
  "language_info": {
   "name": "python"
  }
 },
 "nbformat": 4,
 "nbformat_minor": 2
}
