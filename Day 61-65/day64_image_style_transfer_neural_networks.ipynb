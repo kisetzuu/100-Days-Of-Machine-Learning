{
 "cells": [
  {
   "cell_type": "code",
   "execution_count": null,
   "metadata": {},
   "outputs": [],
   "source": [
    "import tensorflow as tf\n",
    "from tensorflow.keras.preprocessing.image import load_img, img_to_array\n",
    "import matplotlib.pyplot as plt\n",
    "import numpy as np\n"
   ]
  },
  {
   "cell_type": "code",
   "execution_count": null,
   "metadata": {},
   "outputs": [],
   "source": [
    "# Function to load and preprocess images\n",
    "def load_and_process_image(image_path, target_size=(512, 512)):\n",
    "    image = load_img(image_path, target_size=target_size)\n",
    "    image = img_to_array(image)\n",
    "    image = np.expand_dims(image, axis=0)\n",
    "    image = tf.keras.applications.vgg19.preprocess_input(image)\n",
    "    return image\n",
    "\n",
    "# Load content and style images\n",
    "content_path = \"path_to_content_image.jpg\"  # Replace with your content image path\n",
    "style_path = \"path_to_style_image.jpg\"  # Replace with your style image path\n",
    "\n",
    "content_image = load_and_process_image(content_path)\n",
    "style_image = load_and_process_image(style_path)\n",
    "\n",
    "# Display content and style images\n",
    "def display_images(content, style):\n",
    "    content = np.squeeze(content, axis=0).astype(\"uint8\")\n",
    "    style = np.squeeze(style, axis=0).astype(\"uint8\")\n",
    "\n",
    "    plt.figure(figsize=(10, 5))\n",
    "    plt.subplot(1, 2, 1)\n",
    "    plt.imshow(content)\n",
    "    plt.title(\"Content Image\")\n",
    "    plt.axis(\"off\")\n",
    "\n",
    "    plt.subplot(1, 2, 2)\n",
    "    plt.imshow(style)\n",
    "    plt.title(\"Style Image\")\n",
    "    plt.axis(\"off\")\n",
    "\n",
    "    plt.show()\n",
    "\n",
    "display_images(content_image, style_image)\n"
   ]
  },
  {
   "cell_type": "code",
   "execution_count": null,
   "metadata": {},
   "outputs": [],
   "source": [
    "# Layers to extract content and style\n",
    "content_layer = 'block5_conv2'\n",
    "style_layers = [\n",
    "    'block1_conv1',\n",
    "    'block2_conv1',\n",
    "    'block3_conv1',\n",
    "    'block4_conv1',\n",
    "    'block5_conv1'\n",
    "]\n",
    "\n",
    "# Combine all layers\n",
    "all_layers = style_layers + [content_layer]\n"
   ]
  },
  {
   "cell_type": "code",
   "execution_count": null,
   "metadata": {},
   "outputs": [],
   "source": [
    "# Load VGG19 model\n",
    "vgg = tf.keras.applications.VGG19(include_top=False, weights='imagenet')\n",
    "vgg.trainable = False\n",
    "\n",
    "# Create a new model to output style and content layers\n",
    "outputs = [vgg.get_layer(name).output for name in all_layers]\n",
    "model = tf.keras.Model([vgg.input], outputs)\n",
    "print(\"VGG19 Model Loaded Successfully!\")\n"
   ]
  },
  {
   "cell_type": "code",
   "execution_count": null,
   "metadata": {},
   "outputs": [],
   "source": [
    "# Content loss\n",
    "def content_loss(base_content, target_content):\n",
    "    return tf.reduce_mean(tf.square(base_content - target_content))\n",
    "\n",
    "# Style loss\n",
    "def style_loss(base_style, target_style):\n",
    "    base_style = tf.reshape(base_style, (-1, base_style.shape[-1]))\n",
    "    target_style = tf.reshape(target_style, (-1, target_style.shape[-1]))\n",
    "    base_gram = tf.matmul(base_style, base_style, transpose_a=True)\n",
    "    target_gram = tf.matmul(target_style, target_style, transpose_a=True)\n",
    "    return tf.reduce_mean(tf.square(base_gram - target_gram))\n",
    "\n",
    "# Total variation loss\n",
    "def total_variation_loss(image):\n",
    "    return tf.image.total_variation(image)\n"
   ]
  },
  {
   "cell_type": "code",
   "execution_count": null,
   "metadata": {},
   "outputs": [],
   "source": [
    "# Extract features\n",
    "def get_features(image, model):\n",
    "    features = model(image)\n",
    "    style_features = features[:len(style_layers)]\n",
    "    content_features = features[len(style_layers):]\n",
    "    return style_features, content_features\n",
    "\n",
    "content_features = get_features(content_image, model)\n",
    "style_features = get_features(style_image, model)\n"
   ]
  },
  {
   "cell_type": "code",
   "execution_count": null,
   "metadata": {},
   "outputs": [],
   "source": [
    "# Initialize the generated image\n",
    "generated_image = tf.Variable(content_image, dtype=tf.float32)\n",
    "\n",
    "# Optimizer\n",
    "optimizer = tf.optimizers.Adam(learning_rate=0.01)\n",
    "\n",
    "# Style weights\n",
    "style_weight = 1e-2\n",
    "content_weight = 1e4\n",
    "\n",
    "# Training loop\n",
    "epochs = 1000\n",
    "for epoch in range(epochs):\n",
    "    with tf.GradientTape() as tape:\n",
    "        gen_style_features, gen_content_features = get_features(generated_image, model)\n",
    "\n",
    "        # Compute style and content loss\n",
    "        s_loss = tf.add_n([style_loss(gen_style_features[i], style_features[0][i]) for i in range(len(style_layers))])\n",
    "        c_loss = content_loss(gen_content_features[0], content_features[1])\n",
    "        t_loss = total_variation_loss(generated_image)\n",
    "\n",
    "        total_loss = style_weight * s_loss + content_weight * c_loss + 1e-4 * t_loss\n",
    "\n",
    "    grads = tape.gradient(total_loss, generated_image)\n",
    "    optimizer.apply_gradients([(grads, generated_image)])\n",
    "    generated_image.assign(tf.clip_by_value(generated_image, 0, 255))\n",
    "\n",
    "    if epoch % 100 == 0:\n",
    "        print(f\"Epoch {epoch}/{epochs}, Loss: {total_loss.numpy()}\")\n",
    "\n",
    "print(\"Style Transfer Complete!\")\n"
   ]
  },
  {
   "cell_type": "code",
   "execution_count": null,
   "metadata": {},
   "outputs": [],
   "source": [
    "# Convert image back to valid range and display\n",
    "final_image = generated_image.numpy()\n",
    "final_image = np.squeeze(final_image, axis=0)\n",
    "final_image = np.clip(final_image, 0, 255).astype('uint8')\n",
    "\n",
    "plt.figure(figsize=(8, 8))\n",
    "plt.imshow(final_image)\n",
    "plt.title(\"Generated Image\")\n",
    "plt.axis(\"off\")\n",
    "plt.show()\n"
   ]
  }
 ],
 "metadata": {
  "language_info": {
   "name": "python"
  }
 },
 "nbformat": 4,
 "nbformat_minor": 2
}
