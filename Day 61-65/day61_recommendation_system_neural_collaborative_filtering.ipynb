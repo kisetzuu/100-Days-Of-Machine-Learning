{
 "cells": [
  {
   "cell_type": "code",
   "execution_count": null,
   "metadata": {},
   "outputs": [],
   "source": [
    "import numpy as np\n",
    "import pandas as pd\n",
    "from sklearn.model_selection import train_test_split\n",
    "from tensorflow.keras.models import Model\n",
    "from tensorflow.keras.layers import Input, Embedding, Flatten, Concatenate, Dense, Dropout\n",
    "from tensorflow.keras.optimizers import Adam\n"
   ]
  },
  {
   "cell_type": "code",
   "execution_count": null,
   "metadata": {},
   "outputs": [],
   "source": [
    "# Download the MovieLens dataset\n",
    "!wget http://files.grouplens.org/datasets/movielens/ml-latest-small.zip\n",
    "!unzip ml-latest-small.zip\n"
   ]
  },
  {
   "cell_type": "code",
   "execution_count": null,
   "metadata": {},
   "outputs": [],
   "source": [
    "# Load the dataset\n",
    "df = pd.read_csv('ml-latest-small/ratings.csv')\n",
    "\n",
    "# Display dataset information\n",
    "print(\"Dataset Sample:\")\n",
    "print(df.head())\n",
    "\n",
    "# Check unique users and items\n",
    "print(\"\\nNumber of unique users:\", df['userId'].nunique())\n",
    "print(\"Number of unique movies:\", df['movieId'].nunique())\n"
   ]
  },
  {
   "cell_type": "code",
   "execution_count": null,
   "metadata": {},
   "outputs": [],
   "source": [
    "# Map user and movie IDs to indices\n",
    "user_ids = df['userId'].unique()\n",
    "movie_ids = df['movieId'].unique()\n",
    "\n",
    "user_id_map = {id: index for index, id in enumerate(user_ids)}\n",
    "movie_id_map = {id: index for index, id in enumerate(movie_ids)}\n",
    "\n",
    "df['user_idx'] = df['userId'].map(user_id_map)\n",
    "df['movie_idx'] = df['movieId'].map(movie_id_map)\n",
    "\n",
    "# Split the data\n",
    "X = df[['user_idx', 'movie_idx']].values\n",
    "y = df['rating'].values\n",
    "X_train, X_test, y_train, y_test = train_test_split(X, y, test_size=0.2, random_state=42)\n",
    "\n",
    "print(\"\\nTraining Data Shape:\", X_train.shape)\n",
    "print(\"Test Data Shape:\", X_test.shape)\n"
   ]
  },
  {
   "cell_type": "code",
   "execution_count": null,
   "metadata": {},
   "outputs": [],
   "source": [
    "# Define input layers\n",
    "user_input = Input(shape=(1,), name='user_input')\n",
    "movie_input = Input(shape=(1,), name='movie_input')\n",
    "\n",
    "# Define embedding layers\n",
    "user_embedding = Embedding(input_dim=len(user_ids), output_dim=50, name='user_embedding')(user_input)\n",
    "movie_embedding = Embedding(input_dim=len(movie_ids), output_dim=50, name='movie_embedding')(movie_input)\n",
    "\n",
    "# Flatten embeddings\n",
    "user_vec = Flatten()(user_embedding)\n",
    "movie_vec = Flatten()(movie_embedding)\n",
    "\n",
    "# Concatenate user and movie embeddings\n",
    "concat = Concatenate()([user_vec, movie_vec])\n",
    "\n",
    "# Add dense layers\n",
    "dense = Dense(128, activation='relu')(concat)\n",
    "dense = Dropout(0.2)(dense)\n",
    "dense = Dense(64, activation='relu')(dense)\n",
    "output = Dense(1, activation='linear')(dense)\n",
    "\n",
    "# Build the model\n",
    "model = Model(inputs=[user_input, movie_input], outputs=output)\n",
    "model.compile(optimizer=Adam(learning_rate=0.001), loss='mean_squared_error', metrics=['mae'])\n",
    "\n",
    "# Display model summary\n",
    "model.summary()\n"
   ]
  },
  {
   "cell_type": "code",
   "execution_count": null,
   "metadata": {},
   "outputs": [],
   "source": [
    "# Train the model\n",
    "history = model.fit(\n",
    "    [X_train[:, 0], X_train[:, 1]],\n",
    "    y_train,\n",
    "    validation_data=([X_test[:, 0], X_test[:, 1]], y_test),\n",
    "    epochs=10,\n",
    "    batch_size=64\n",
    ")\n",
    "\n",
    "print(\"\\nModel Training Complete!\")\n"
   ]
  },
  {
   "cell_type": "code",
   "execution_count": null,
   "metadata": {},
   "outputs": [],
   "source": [
    "# Evaluate model performance\n",
    "loss, mae = model.evaluate([X_test[:, 0], X_test[:, 1]], y_test)\n",
    "print(f\"\\nTest Loss: {loss:.4f}\")\n",
    "print(f\"Test Mean Absolute Error: {mae:.4f}\")\n"
   ]
  },
  {
   "cell_type": "code",
   "execution_count": null,
   "metadata": {},
   "outputs": [],
   "source": [
    "# Function to recommend movies\n",
    "def recommend_movies(user_id, model, user_id_map, movie_id_map, movie_ids, top_n=5):\n",
    "    user_idx = user_id_map[user_id]\n",
    "    movie_indices = [movie_id_map[movie] for movie in movie_ids]\n",
    "    predictions = model.predict([np.array([user_idx] * len(movie_indices)), np.array(movie_indices)])\n",
    "    recommendations = sorted(zip(movie_ids, predictions.flatten()), key=lambda x: x[1], reverse=True)\n",
    "    return recommendations[:top_n]\n",
    "\n",
    "# Recommend movies for a specific user\n",
    "user_id = 1  # Change to any user ID\n",
    "recommendations = recommend_movies(user_id, model, user_id_map, movie_id_map, movie_ids)\n",
    "print(\"\\nTop Movie Recommendations:\")\n",
    "for movie, score in recommendations:\n",
    "    print(f\"Movie ID: {movie}, Predicted Rating: {score:.2f}\")\n"
   ]
  },
  {
   "cell_type": "code",
   "execution_count": null,
   "metadata": {},
   "outputs": [],
   "source": [
    "import matplotlib.pyplot as plt\n",
    "\n",
    "# Plot training and validation loss\n",
    "plt.figure(figsize=(10, 5))\n",
    "plt.plot(history.history['loss'], label='Training Loss')\n",
    "plt.plot(history.history['val_loss'], label='Validation Loss')\n",
    "plt.title('Training and Validation Loss')\n",
    "plt.xlabel('Epochs')\n",
    "plt.ylabel('Loss')\n",
    "plt.legend()\n",
    "plt.show()\n"
   ]
  }
 ],
 "metadata": {
  "language_info": {
   "name": "python"
  }
 },
 "nbformat": 4,
 "nbformat_minor": 2
}
