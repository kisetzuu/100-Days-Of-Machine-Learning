{
 "cells": [
  {
   "cell_type": "code",
   "execution_count": null,
   "metadata": {},
   "outputs": [],
   "source": [
    "import torch\n",
    "import torchvision\n",
    "from torchvision.models.detection import fasterrcnn_resnet50_fpn\n",
    "from torchvision.transforms import functional as F\n",
    "from PIL import Image\n",
    "import matplotlib.pyplot as plt\n",
    "import matplotlib.patches as patches\n",
    "import requests\n",
    "from io import BytesIO\n"
   ]
  },
  {
   "cell_type": "code",
   "execution_count": null,
   "metadata": {},
   "outputs": [],
   "source": [
    "import torch\n",
    "import torchvision\n",
    "from torchvision.models.detection import fasterrcnn_resnet50_fpn\n",
    "from torchvision.transforms import functional as F\n",
    "from PIL import Image\n",
    "import matplotlib.pyplot as plt\n",
    "import matplotlib.patches as patches\n",
    "import requests\n",
    "from io import BytesIO\n"
   ]
  },
  {
   "cell_type": "code",
   "execution_count": null,
   "metadata": {},
   "outputs": [],
   "source": [
    "# Load an input image from a URL\n",
    "image_url = \"https://upload.wikimedia.org/wikipedia/commons/6/60/Naxos_Taverna_Beach.jpg\"\n",
    "response = requests.get(image_url)\n",
    "img = Image.open(BytesIO(response.content)).convert(\"RGB\")\n",
    "\n",
    "# Convert image for model input\n",
    "img_tensor = F.to_tensor(img).unsqueeze(0)\n",
    "\n",
    "# Display the input image\n",
    "plt.imshow(img)\n",
    "plt.title(\"Input Image\")\n",
    "plt.axis(\"off\")\n",
    "plt.show()"
   ]
  },
  {
   "cell_type": "code",
   "execution_count": null,
   "metadata": {},
   "outputs": [],
   "source": [
    "# Load an input image from a URL\n",
    "image_url = \"https://upload.wikimedia.org/wikipedia/commons/6/60/Naxos_Taverna_Beach.jpg\"\n",
    "response = requests.get(image_url)\n",
    "img = Image.open(BytesIO(response.content)).convert(\"RGB\")\n",
    "\n",
    "# Convert image for model input\n",
    "img_tensor = F.to_tensor(img).unsqueeze(0)\n",
    "\n",
    "# Display the input image\n",
    "plt.imshow(img)\n",
    "plt.title(\"Input Image\")\n",
    "plt.axis(\"off\")\n",
    "plt.show()"
   ]
  },
  {
   "cell_type": "code",
   "execution_count": null,
   "metadata": {},
   "outputs": [],
   "source": [
    "# Visualize the detected objects with bounding boxes\n",
    "def plot_image_with_boxes(image, boxes, labels, scores):\n",
    "    fig, ax = plt.subplots(1, figsize=(12, 8))\n",
    "    ax.imshow(image)\n",
    "    for i, box in enumerate(boxes):\n",
    "        x_min, y_min, x_max, y_max = box\n",
    "        rect = patches.Rectangle(\n",
    "            (x_min, y_min), x_max - x_min, y_max - y_min,\n",
    "            linewidth=2, edgecolor=\"red\", facecolor=\"none\"\n",
    "        )\n",
    "        ax.add_patch(rect)\n",
    "        ax.text(\n",
    "            x_min, y_min - 10,\n",
    "            f\"Label: {labels[i]}, Score: {scores[i]:.2f}\",\n",
    "            color=\"red\", fontsize=10, bbox=dict(facecolor=\"yellow\", alpha=0.5)\n",
    "        )\n",
    "    plt.title(\"Object Detection with Faster R-CNN\")\n",
    "    plt.axis(\"off\")\n",
    "    plt.show()\n",
    "\n",
    "# Display the image with detected objects\n",
    "plot_image_with_boxes(img, filtered_boxes, filtered_labels, filtered_scores)"
   ]
  },
  {
   "cell_type": "code",
   "execution_count": null,
   "metadata": {},
   "outputs": [],
   "source": [
    "# Load a local image and perform detection\n",
    "local_image_path = \"path_to_your_local_image.jpg\"\n",
    "local_img = Image.open(local_image_path).convert(\"RGB\")\n",
    "local_img_tensor = F.to_tensor(local_img).unsqueeze(0)\n",
    "\n",
    "# Perform detection on the local image\n",
    "local_output = model(local_img_tensor)\n",
    "local_boxes = local_output[0]['boxes'].detach().numpy()\n",
    "local_scores = local_output[0]['scores'].detach().numpy()\n",
    "local_labels = local_output[0]['labels'].detach().numpy()\n",
    "\n",
    "# Filter results\n",
    "threshold = 0.5\n",
    "filtered_local_boxes = local_boxes[local_scores >= threshold]\n",
    "filtered_local_scores = local_scores[local_scores >= threshold]\n",
    "filtered_local_labels = local_labels[local_scores >= threshold]\n",
    "\n",
    "# Display results\n",
    "plot_image_with_boxes(local_img, filtered_local_boxes, filtered_local_labels, filtered_local_scores)"
   ]
  }
 ],
 "metadata": {
  "language_info": {
   "name": "python"
  }
 },
 "nbformat": 4,
 "nbformat_minor": 2
}
