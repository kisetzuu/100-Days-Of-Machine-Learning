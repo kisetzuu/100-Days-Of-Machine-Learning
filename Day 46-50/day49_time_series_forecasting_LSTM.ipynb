{
 "cells": [
  {
   "cell_type": "code",
   "execution_count": null,
   "metadata": {},
   "outputs": [],
   "source": [
    "import numpy as np\n",
    "import pandas as pd\n",
    "import matplotlib.pyplot as plt\n",
    "from tensorflow.keras.models import Sequential\n",
    "from tensorflow.keras.layers import LSTM, Dense\n",
    "from sklearn.preprocessing import MinMaxScaler"
   ]
  },
  {
   "cell_type": "code",
   "execution_count": null,
   "metadata": {},
   "outputs": [],
   "source": [
    "# Load a sample time series dataset (Apple stock prices)\n",
    "url = \"https://query1.finance.yahoo.com/v7/finance/download/AAPL?period1=1609459200&period2=1640995200&interval=1d&events=history\"\n",
    "df = pd.read_csv(url)\n",
    "\n",
    "# Display dataset\n",
    "print(\"Dataset Head:\")\n",
    "print(df.head())\n",
    "\n",
    "# Plot closing prices\n",
    "plt.figure(figsize=(10, 5))\n",
    "plt.plot(df[\"Date\"], df[\"Close\"], label=\"Closing Price\")\n",
    "plt.xlabel(\"Date\")\n",
    "plt.ylabel(\"Price\")\n",
    "plt.title(\"Apple Stock Prices\")\n",
    "plt.legend()\n",
    "plt.show()"
   ]
  },
  {
   "cell_type": "code",
   "execution_count": null,
   "metadata": {},
   "outputs": [],
   "source": [
    "# Use only the 'Close' price for prediction\n",
    "data = df['Close'].values.reshape(-1, 1)\n",
    "\n",
    "# Scale the data between 0 and 1\n",
    "scaler = MinMaxScaler(feature_range=(0, 1))\n",
    "scaled_data = scaler.fit_transform(data)\n",
    "\n",
    "# Function to create sequences of data for LSTM input\n",
    "def create_sequences(data, seq_length):\n",
    "    X, y = [], []\n",
    "    for i in range(len(data) - seq_length):\n",
    "        X.append(data[i:i + seq_length])\n",
    "        y.append(data[i + seq_length])\n",
    "    return np.array(X), np.array(y)\n",
    "\n",
    "# Define sequence length\n",
    "SEQ_LENGTH = 50\n",
    "X, y = create_sequences(scaled_data, SEQ_LENGTH)\n",
    "\n",
    "# Split into train and test sets (80-20 split)\n",
    "split = int(0.8 * len(X))\n",
    "X_train, X_test = X[:split], X[split:]\n",
    "y_train, y_test = y[:split], y[split:]\n",
    "\n",
    "print(f\"Training Data Shape: {X_train.shape}\")\n",
    "print(f\"Testing Data Shape: {X_test.shape}\")"
   ]
  },
  {
   "cell_type": "code",
   "execution_count": null,
   "metadata": {},
   "outputs": [],
   "source": [
    "# Build the LSTM model\n",
    "model = Sequential([\n",
    "    LSTM(50, return_sequences=True, input_shape=(SEQ_LENGTH, 1)),\n",
    "    LSTM(50),\n",
    "    Dense(1)  # Predict the next value\n",
    "])\n",
    "\n",
    "# Compile the model\n",
    "model.compile(optimizer=\"adam\", loss=\"mean_squared_error\")\n",
    "\n",
    "# Display model summary\n",
    "model.summary()"
   ]
  },
  {
   "cell_type": "code",
   "execution_count": null,
   "metadata": {},
   "outputs": [],
   "source": [
    "# Train the LSTM model\n",
    "history = model.fit(X_train, y_train, epochs=20, batch_size=32, validation_data=(X_test, y_test))"
   ]
  },
  {
   "cell_type": "code",
   "execution_count": null,
   "metadata": {},
   "outputs": [],
   "source": [
    "# Plot training and validation loss\n",
    "plt.figure(figsize=(8, 5))\n",
    "plt.plot(history.history['loss'], label='Training Loss')\n",
    "plt.plot(history.history['val_loss'], label='Validation Loss')\n",
    "plt.xlabel('Epochs')\n",
    "plt.ylabel('Loss')\n",
    "plt.title('Training and Validation Loss')\n",
    "plt.legend()\n",
    "plt.show()"
   ]
  },
  {
   "cell_type": "code",
   "execution_count": null,
   "metadata": {},
   "outputs": [],
   "source": [
    "# Predict on the test set\n",
    "predicted_prices = model.predict(X_test)\n",
    "\n",
    "# Inverse transform predictions and true values\n",
    "predicted_prices = scaler.inverse_transform(predicted_prices)\n",
    "true_prices = scaler.inverse_transform(y_test.reshape(-1, 1))\n",
    "\n",
    "# Plot the true and predicted values\n",
    "plt.figure(figsize=(10, 5))\n",
    "plt.plot(true_prices, label=\"True Prices\", color=\"blue\")\n",
    "plt.plot(predicted_prices, label=\"Predicted Prices\", color=\"red\")\n",
    "plt.title(\"LSTM Time Series Forecasting\")\n",
    "plt.xlabel(\"Time\")\n",
    "plt.ylabel(\"Price\")\n",
    "plt.legend()\n",
    "plt.show()"
   ]
  },
  {
   "cell_type": "code",
   "execution_count": null,
   "metadata": {},
   "outputs": [],
   "source": [
    "# Forecast future values\n",
    "future_days = 10\n",
    "future_predictions = []\n",
    "\n",
    "# Use the last available sequence\n",
    "current_input = X_test[-1]\n",
    "\n",
    "for _ in range(future_days):\n",
    "    next_prediction = model.predict(current_input.reshape(1, SEQ_LENGTH, 1))[0]\n",
    "    future_predictions.append(next_prediction)\n",
    "    current_input = np.append(current_input[1:], next_prediction).reshape(SEQ_LENGTH, 1)\n",
    "\n",
    "# Inverse transform the predictions\n",
    "future_predictions = scaler.inverse_transform(future_predictions)\n",
    "\n",
    "# Display predictions\n",
    "print(f\"Next {future_days} days predicted prices:\")\n",
    "print(future_predictions)"
   ]
  }
 ],
 "metadata": {
  "language_info": {
   "name": "python"
  }
 },
 "nbformat": 4,
 "nbformat_minor": 2
}
