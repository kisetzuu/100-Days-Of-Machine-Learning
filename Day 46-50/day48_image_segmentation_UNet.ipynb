{
 "cells": [
  {
   "cell_type": "code",
   "execution_count": null,
   "metadata": {},
   "outputs": [],
   "source": [
    "import tensorflow as tf\n",
    "from tensorflow.keras import layers, Model\n",
    "from tensorflow.keras.preprocessing.image import ImageDataGenerator\n",
    "import matplotlib.pyplot as plt\n",
    "import numpy as np\n",
    "import os\n",
    "from PIL import Image"
   ]
  },
  {
   "cell_type": "code",
   "execution_count": null,
   "metadata": {},
   "outputs": [],
   "source": [
    "# Download the Oxford Pets dataset (images and masks)\n",
    "import tensorflow_datasets as tfds\n",
    "\n",
    "dataset_name = \"oxford_iiit_pet:3.*.*\"\n",
    "dataset, info = tfds.load(dataset_name, with_info=True, split=[\"train\", \"test\"], as_supervised=True)\n",
    "\n",
    "print(\"Dataset Information:\")\n",
    "print(info)\n",
    "\n",
    "# Visualize a sample image and its mask\n",
    "def display_sample(dataset):\n",
    "    for image, mask in dataset.take(1):\n",
    "        plt.figure(figsize=(8, 4))\n",
    "        plt.subplot(1, 2, 1)\n",
    "        plt.imshow(image)\n",
    "        plt.title(\"Image\")\n",
    "\n",
    "        plt.subplot(1, 2, 2)\n",
    "        plt.imshow(mask)\n",
    "        plt.title(\"Mask\")\n",
    "        plt.show()\n",
    "\n",
    "# Display a sample from the training dataset\n",
    "display_sample(dataset[0])"
   ]
  },
  {
   "cell_type": "code",
   "execution_count": null,
   "metadata": {},
   "outputs": [],
   "source": [
    "# Resize and normalize the images and masks\n",
    "IMG_SIZE = (128, 128)\n",
    "\n",
    "def preprocess(image, mask):\n",
    "    image = tf.image.resize(image, IMG_SIZE) / 255.0  # Normalize image to [0, 1]\n",
    "    mask = tf.image.resize(mask, IMG_SIZE)\n",
    "    mask = tf.cast(mask, tf.uint8) - 1  # Ensure mask classes start from 0\n",
    "    return image, mask\n",
    "\n",
    "# Preprocess train and test datasets\n",
    "train_dataset = dataset[0].map(preprocess).batch(32)\n",
    "test_dataset = dataset[1].map(preprocess).batch(32)"
   ]
  },
  {
   "cell_type": "code",
   "execution_count": null,
   "metadata": {},
   "outputs": [],
   "source": [
    "# Define the U-Net model for semantic segmentation\n",
    "def unet_model(input_shape=(128, 128, 3), num_classes=3):\n",
    "    inputs = layers.Input(shape=input_shape)\n",
    "\n",
    "    # Encoder\n",
    "    c1 = layers.Conv2D(64, (3, 3), activation=\"relu\", padding=\"same\")(inputs)\n",
    "    c1 = layers.Conv2D(64, (3, 3), activation=\"relu\", padding=\"same\")(c1)\n",
    "    p1 = layers.MaxPooling2D((2, 2))(c1)\n",
    "\n",
    "    c2 = layers.Conv2D(128, (3, 3), activation=\"relu\", padding=\"same\")(p1)\n",
    "    c2 = layers.Conv2D(128, (3, 3), activation=\"relu\", padding=\"same\")(c2)\n",
    "    p2 = layers.MaxPooling2D((2, 2))(c2)\n",
    "\n",
    "    # Bottleneck\n",
    "    b = layers.Conv2D(256, (3, 3), activation=\"relu\", padding=\"same\")(p2)\n",
    "    b = layers.Conv2D(256, (3, 3), activation=\"relu\", padding=\"same\")(b)\n",
    "\n",
    "    # Decoder\n",
    "    u1 = layers.UpSampling2D((2, 2))(b)\n",
    "    u1 = layers.concatenate([u1, c2])\n",
    "    c3 = layers.Conv2D(128, (3, 3), activation=\"relu\", padding=\"same\")(u1)\n",
    "    c3 = layers.Conv2D(128, (3, 3), activation=\"relu\", padding=\"same\")(c3)\n",
    "\n",
    "    u2 = layers.UpSampling2D((2, 2))(c3)\n",
    "    u2 = layers.concatenate([u2, c1])\n",
    "    c4 = layers.Conv2D(64, (3, 3), activation=\"relu\", padding=\"same\")(u2)\n",
    "    c4 = layers.Conv2D(64, (3, 3), activation=\"relu\", padding=\"same\")(c4)\n",
    "\n",
    "    outputs = layers.Conv2D(num_classes, (1, 1), activation=\"softmax\")(c4)\n",
    "\n",
    "    return Model(inputs, outputs)\n",
    "\n",
    "# Initialize the U-Net model\n",
    "model = unet_model()\n",
    "model.compile(optimizer=\"adam\", loss=\"sparse_categorical_crossentropy\", metrics=[\"accuracy\"])\n",
    "model.summary()"
   ]
  },
  {
   "cell_type": "code",
   "execution_count": null,
   "metadata": {},
   "outputs": [],
   "source": [
    "# Train the U-Net model\n",
    "history = model.fit(train_dataset, validation_data=test_dataset, epochs=10)\n"
   ]
  },
  {
   "cell_type": "code",
   "execution_count": null,
   "metadata": {},
   "outputs": [],
   "source": [
    "# Evaluate the model\n",
    "loss, accuracy = model.evaluate(test_dataset)\n",
    "print(f\"Test Loss: {loss:.4f}\")\n",
    "print(f\"Test Accuracy: {accuracy:.4f}\")\n",
    "\n",
    "# Function to display predictions\n",
    "def display_predictions(dataset, model):\n",
    "    for image, mask in dataset.take(1):\n",
    "        pred_mask = model.predict(tf.expand_dims(image[0], axis=0))\n",
    "        pred_mask = tf.argmax(pred_mask, axis=-1)[0]\n",
    "\n",
    "        plt.figure(figsize=(12, 4))\n",
    "        plt.subplot(1, 3, 1)\n",
    "        plt.imshow(image[0])\n",
    "        plt.title(\"Original Image\")\n",
    "\n",
    "        plt.subplot(1, 3, 2)\n",
    "        plt.imshow(mask[0])\n",
    "        plt.title(\"Ground Truth Mask\")\n",
    "\n",
    "        plt.subplot(1, 3, 3)\n",
    "        plt.imshow(pred_mask)\n",
    "        plt.title(\"Predicted Mask\")\n",
    "\n",
    "        plt.show()\n",
    "\n",
    "# Visualize predictions\n",
    "display_predictions(test_dataset, model)"
   ]
  }
 ],
 "metadata": {
  "language_info": {
   "name": "python"
  }
 },
 "nbformat": 4,
 "nbformat_minor": 2
}
