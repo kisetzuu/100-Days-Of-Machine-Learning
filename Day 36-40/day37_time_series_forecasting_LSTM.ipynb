{
 "cells": [
  {
   "cell_type": "code",
   "execution_count": null,
   "metadata": {},
   "outputs": [],
   "source": [
    "# Load a time series dataset and preprocess it for LSTM input.\n",
    "\n",
    "import numpy as np\n",
    "import pandas as pd\n",
    "import matplotlib.pyplot as plt\n",
    "\n",
    "# Load a sample time series dataset\n",
    "url = \"https://raw.githubusercontent.com/jbrownlee/Datasets/master/airline-passengers.csv\"\n",
    "data = pd.read_csv(url, header=0, parse_dates=[\"Month\"], index_col=\"Month\")\n",
    "\n",
    "# Plot the dataset\n",
    "data.plot(figsize=(10, 6))\n",
    "plt.title(\"Monthly Airline Passengers\")\n",
    "plt.xlabel(\"Date\")\n",
    "plt.ylabel(\"Passengers\")\n",
    "plt.show()\n",
    "\n",
    "# Convert data to a NumPy array\n",
    "series = data[\"Passengers\"].values\n",
    "\n",
    "# Normalize the series\n",
    "from sklearn.preprocessing import MinMaxScaler\n",
    "\n",
    "scaler = MinMaxScaler(feature_range=(0, 1))\n",
    "series_scaled = scaler.fit_transform(series.reshape(-1, 1))"
   ]
  },
  {
   "cell_type": "code",
   "execution_count": null,
   "metadata": {},
   "outputs": [],
   "source": [
    "# Transform the time series data into input-output pairs suitable for LSTM training.\n",
    "\n",
    "def create_sequences(data, time_steps=10):\n",
    "    X, y = [], []\n",
    "    for i in range(len(data) - time_steps):\n",
    "        X.append(data[i:i + time_steps])\n",
    "        y.append(data[i + time_steps])\n",
    "    return np.array(X), np.array(y)\n",
    "\n",
    "time_steps = 10\n",
    "X, y = create_sequences(series_scaled, time_steps)\n",
    "\n",
    "# Split into training and testing sets\n",
    "split_ratio = 0.8\n",
    "split_idx = int(len(X) * split_ratio)\n",
    "\n",
    "X_train, X_test = X[:split_idx], X[split_idx:]\n",
    "y_train, y_test = y[:split_idx], y[split_idx:]\n",
    "\n",
    "print(\"Training set shape:\", X_train.shape, y_train.shape)\n",
    "print(\"Testing set shape:\", X_test.shape, y_test.shape)"
   ]
  },
  {
   "cell_type": "code",
   "execution_count": null,
   "metadata": {},
   "outputs": [],
   "source": [
    "# Define an LSTM architecture for forecasting time series data.\n",
    "\n",
    "from tensorflow.keras.models import Sequential\n",
    "from tensorflow.keras.layers import LSTM, Dense\n",
    "\n",
    "# Build the LSTM model\n",
    "model = Sequential([\n",
    "    LSTM(50, activation='relu', return_sequences=True, input_shape=(time_steps, 1)),\n",
    "    LSTM(50, activation='relu'),\n",
    "    Dense(1)\n",
    "])\n",
    "\n",
    "# Compile the model\n",
    "model.compile(optimizer='adam', loss='mean_squared_error')\n",
    "model.summary()\n"
   ]
  },
  {
   "cell_type": "code",
   "execution_count": null,
   "metadata": {},
   "outputs": [],
   "source": [
    "# Train the LSTM model on the training dataset.\n",
    "\n",
    "history = model.fit(X_train, y_train, epochs=20, batch_size=32, validation_data=(X_test, y_test), verbose=2)\n"
   ]
  },
  {
   "cell_type": "code",
   "execution_count": null,
   "metadata": {},
   "outputs": [],
   "source": [
    "# Evaluate the model’s performance on the test dataset using metrics like RMSE.\n",
    "\n",
    "from sklearn.metrics import mean_squared_error\n",
    "\n",
    "# Make predictions\n",
    "y_pred = model.predict(X_test)\n",
    "\n",
    "# Inverse transform the predictions and actual values\n",
    "y_pred_rescaled = scaler.inverse_transform(y_pred)\n",
    "y_test_rescaled = scaler.inverse_transform(y_test)\n",
    "\n",
    "# Calculate RMSE\n",
    "rmse = np.sqrt(mean_squared_error(y_test_rescaled, y_pred_rescaled))\n",
    "print(\"Test RMSE:\", rmse)\n"
   ]
  },
  {
   "cell_type": "code",
   "execution_count": null,
   "metadata": {},
   "outputs": [],
   "source": [
    "# Plot the actual vs. predicted values to assess the model’s performance.\n",
    "\n",
    "plt.figure(figsize=(10, 6))\n",
    "plt.plot(y_test_rescaled, label=\"Actual\")\n",
    "plt.plot(y_pred_rescaled, label=\"Predicted\")\n",
    "plt.title(\"Actual vs Predicted - Time Series Forecasting\")\n",
    "plt.xlabel(\"Time Steps\")\n",
    "plt.ylabel(\"Passengers\")\n",
    "plt.legend()\n",
    "plt.show()\n"
   ]
  },
  {
   "cell_type": "code",
   "execution_count": null,
   "metadata": {},
   "outputs": [],
   "source": [
    "# Use the trained model to forecast future values.\n",
    "\n",
    "def forecast_future(data, model, steps, time_steps=10):\n",
    "    input_seq = data[-time_steps:]\n",
    "    predictions = []\n",
    "    for _ in range(steps):\n",
    "        pred = model.predict(input_seq.reshape(1, time_steps, 1))[0]\n",
    "        predictions.append(pred)\n",
    "        input_seq = np.append(input_seq[1:], pred)\n",
    "    return np.array(predictions)\n",
    "\n",
    "# Forecast the next 12 months\n",
    "future_steps = 12\n",
    "future_preds = forecast_future(series_scaled, model, future_steps)\n",
    "future_preds_rescaled = scaler.inverse_transform(future_preds)\n",
    "\n",
    "# Plot future predictions\n",
    "plt.figure(figsize=(10, 6))\n",
    "plt.plot(data.index, series, label=\"Historical Data\")\n",
    "future_dates = pd.date_range(data.index[-1], periods=future_steps + 1, freq=\"M\")[1:]\n",
    "plt.plot(future_dates, future_preds_rescaled, label=\"Future Predictions\")\n",
    "plt.title(\"Time Series Forecasting - Future Predictions\")\n",
    "plt.xlabel(\"Date\")\n",
    "plt.ylabel(\"Passengers\")\n",
    "plt.legend()\n",
    "plt.show()\n"
   ]
  }
 ],
 "metadata": {
  "language_info": {
   "name": "python"
  }
 },
 "nbformat": 4,
 "nbformat_minor": 2
}
