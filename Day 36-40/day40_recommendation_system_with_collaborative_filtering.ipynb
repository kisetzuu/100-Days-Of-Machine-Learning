{
 "cells": [
  {
   "cell_type": "code",
   "execution_count": null,
   "metadata": {},
   "outputs": [],
   "source": [
    "# Plot training loss and accuracy to evaluate model performance.\n",
    "\n",
    "import matplotlib.pyplot as plt\n",
    "\n",
    "# Plot loss\n",
    "plt.plot(history.history[\"loss\"], label=\"Loss\")\n",
    "plt.title(\"Model Loss\")\n",
    "plt.xlabel(\"Epochs\")\n",
    "plt.ylabel(\"Loss\")\n",
    "plt.legend()\n",
    "plt.show()\n",
    "\n",
    "# Plot accuracy\n",
    "plt.plot(history.history[\"accuracy\"], label=\"Accuracy\")\n",
    "plt.title(\"Model Accuracy\")\n",
    "plt.xlabel(\"Epochs\")\n",
    "plt.ylabel(\"Accuracy\")\n",
    "plt.legend()\n",
    "plt.show()\n"
   ]
  },
  {
   "cell_type": "code",
   "execution_count": null,
   "metadata": {},
   "outputs": [],
   "source": [
    "# Load a sample dataset, such as MovieLens, to build a recommendation system.\n",
    "\n",
    "import pandas as pd\n",
    "\n",
    "# Load the MovieLens dataset (replace with your dataset if needed)\n",
    "url = \"https://raw.githubusercontent.com/datasets/movielens-small/master/data/ratings.csv\"\n",
    "ratings = pd.read_csv(url)\n",
    "\n",
    "print(\"Sample Data:\")\n",
    "print(ratings.head())\n",
    "\n",
    "# Dataset columns:\n",
    "# userId: unique identifier for a user\n",
    "# movieId: unique identifier for a movie\n",
    "# rating: rating given by the user to a movie\n",
    "# timestamp: when the rating was given"
   ]
  },
  {
   "cell_type": "code",
   "execution_count": null,
   "metadata": {},
   "outputs": [],
   "source": [
    "# Pivot the dataset to create a user-item matrix for collaborative filtering.\n",
    "\n",
    "# Create a user-item matrix\n",
    "user_item_matrix = ratings.pivot_table(index=\"userId\", columns=\"movieId\", values=\"rating\")\n",
    "\n",
    "# Fill missing values with 0 (or NaN for sparse matrices)\n",
    "user_item_matrix.fillna(0, inplace=True)\n",
    "\n",
    "print(\"User-Item Matrix:\")\n",
    "print(user_item_matrix.head())"
   ]
  },
  {
   "cell_type": "code",
   "execution_count": null,
   "metadata": {},
   "outputs": [],
   "source": [
    "# Compute user similarities using cosine similarity.\n",
    "\n",
    "from sklearn.metrics.pairwise import cosine_similarity\n",
    "\n",
    "# Compute cosine similarity between users\n",
    "user_sim_matrix = cosine_similarity(user_item_matrix)\n",
    "user_sim_df = pd.DataFrame(user_sim_matrix, index=user_item_matrix.index, columns=user_item_matrix.index)\n",
    "\n",
    "print(\"User Similarity Matrix:\")\n",
    "print(user_sim_df.head())"
   ]
  },
  {
   "cell_type": "code",
   "execution_count": null,
   "metadata": {},
   "outputs": [],
   "source": [
    "# Recommend items for a user based on their most similar users.\n",
    "\n",
    "def recommend_items(user_id, user_item_matrix, user_sim_df, num_recommendations=5):\n",
    "    similar_users = user_sim_df[user_id].sort_values(ascending=False).index[1:]  # Exclude the user itself\n",
    "    user_ratings = user_item_matrix.loc[user_id]\n",
    "\n",
    "    # Weighted sum of ratings from similar users\n",
    "    weighted_sum = user_item_matrix.loc[similar_users].T.dot(user_sim_df[user_id].iloc[1:])\n",
    "    normalized_weight = user_sim_df[user_id].iloc[1:].sum()\n",
    "    recommendations = (weighted_sum / normalized_weight).sort_values(ascending=False)\n",
    "\n",
    "    # Filter out items already rated by the user\n",
    "    recommendations = recommendations[user_ratings.isna()][:num_recommendations]\n",
    "    return recommendations\n",
    "\n",
    "# Example: Recommend items for user 1\n",
    "recommended_items = recommend_items(1, user_item_matrix, user_sim_df, num_recommendations=5)\n",
    "print(\"Recommended Items for User 1:\")\n",
    "print(recommended_items)"
   ]
  },
  {
   "cell_type": "code",
   "execution_count": null,
   "metadata": {},
   "outputs": [],
   "source": [
    "# Recommend items for a user based on their most similar users.\n",
    "\n",
    "def recommend_items(user_id, user_item_matrix, user_sim_df, num_recommendations=5):\n",
    "    similar_users = user_sim_df[user_id].sort_values(ascending=False).index[1:]  # Exclude the user itself\n",
    "    user_ratings = user_item_matrix.loc[user_id]\n",
    "\n",
    "    # Weighted sum of ratings from similar users\n",
    "    weighted_sum = user_item_matrix.loc[similar_users].T.dot(user_sim_df[user_id].iloc[1:])\n",
    "    normalized_weight = user_sim_df[user_id].iloc[1:].sum()\n",
    "    recommendations = (weighted_sum / normalized_weight).sort_values(ascending=False)\n",
    "\n",
    "    # Filter out items already rated by the user\n",
    "    recommendations = recommendations[user_ratings.isna()][:num_recommendations]\n",
    "    return recommendations\n",
    "\n",
    "# Example: Recommend items for user 1\n",
    "recommended_items = recommend_items(1, user_item_matrix, user_sim_df, num_recommendations=5)\n",
    "print(\"Recommended Items for User 1:\")\n",
    "print(recommended_items)"
   ]
  },
  {
   "cell_type": "code",
   "execution_count": null,
   "metadata": {},
   "outputs": [],
   "source": [
    "# Compute item similarities and recommend items based on a user's previously rated items.\n",
    "\n",
    "# Compute cosine similarity between items\n",
    "item_sim_matrix = cosine_similarity(user_item_matrix.T)\n",
    "item_sim_df = pd.DataFrame(item_sim_matrix, index=user_item_matrix.columns, columns=user_item_matrix.columns)\n",
    "\n",
    "print(\"Item Similarity Matrix:\")\n",
    "print(item_sim_df.head())\n",
    "\n",
    "# Recommend items for a user based on their rated items\n",
    "def recommend_items_based_on_items(user_id, user_item_matrix, item_sim_df, num_recommendations=5):\n",
    "    user_ratings = user_item_matrix.loc[user_id]\n",
    "    user_rated_items = user_ratings[user_ratings > 0].index\n",
    "\n",
    "    # Weighted sum of similarities for rated items\n",
    "    scores = item_sim_df[user_rated_items].dot(user_ratings[user_rated_items])\n",
    "    scores = scores[~scores.index.isin(user_rated_items)]  # Exclude already rated items\n",
    "    recommendations = scores.sort_values(ascending=False)[:num_recommendations]\n",
    "    return recommendations\n",
    "\n",
    "# Example: Recommend items for user 1\n",
    "item_based_recommendations = recommend_items_based_on_items(1, user_item_matrix, item_sim_df, num_recommendations=5)\n",
    "print(\"Item-Based Recommendations for User 1:\")\n",
    "print(item_based_recommendations)"
   ]
  },
  {
   "cell_type": "code",
   "execution_count": null,
   "metadata": {},
   "outputs": [],
   "source": [
    "# Evaluate the recommendation system using metrics like RMSE or precision/recall.\n",
    "\n",
    "from sklearn.metrics import mean_squared_error\n",
    "\n",
    "# Example: Compute RMSE for user-item matrix reconstruction\n",
    "original_ratings = user_item_matrix.values\n",
    "predicted_ratings = user_sim_matrix.dot(user_item_matrix) / user_sim_matrix.sum(axis=1)[:, None]\n",
    "mask = original_ratings > 0  # Only evaluate for non-zero entries\n",
    "\n",
    "rmse = np.sqrt(mean_squared_error(original_ratings[mask], predicted_ratings[mask]))\n",
    "print(\"RMSE:\", rmse)"
   ]
  }
 ],
 "metadata": {
  "language_info": {
   "name": "python"
  }
 },
 "nbformat": 4,
 "nbformat_minor": 2
}
