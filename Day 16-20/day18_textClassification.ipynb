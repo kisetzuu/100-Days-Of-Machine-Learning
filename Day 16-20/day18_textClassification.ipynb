{
 "cells": [
  {
   "cell_type": "code",
   "execution_count": 1,
   "metadata": {},
   "outputs": [
    {
     "name": "stdout",
     "output_type": "stream",
     "text": [
      "Tokenized and Padded Sequences:\n",
      " [[ 1  3  2  4  0]\n",
      " [ 1  5  2  6  0]\n",
      " [ 7  8  0  0  0]\n",
      " [ 9 10  0  0  0]\n",
      " [11 12  0  0  0]]\n"
     ]
    }
   ],
   "source": [
    "# Prepare text data by tokenizing, padding, and encoding it into a numerical format suitable for LSTM models.\n",
    "\n",
    "from tensorflow.keras.preprocessing.text import Tokenizer\n",
    "from tensorflow.keras.preprocessing.sequence import pad_sequences\n",
    "\n",
    "# Example text data\n",
    "texts = [\"I love this movie\", \"I hate this product\", \"Amazing experience\", \"Worst ever\", \"Will recommend\"]\n",
    "\n",
    "# Tokenize and convert to sequences\n",
    "tokenizer = Tokenizer(num_words=10000)\n",
    "tokenizer.fit_on_texts(texts)\n",
    "sequences = tokenizer.texts_to_sequences(texts)\n",
    "\n",
    "# Pad sequences to ensure equal length\n",
    "padded_sequences = pad_sequences(sequences, maxlen=5, padding='post')\n",
    "\n",
    "print(\"Tokenized and Padded Sequences:\\n\", padded_sequences)"
   ]
  },
  {
   "cell_type": "code",
   "execution_count": 2,
   "metadata": {},
   "outputs": [
    {
     "name": "stdout",
     "output_type": "stream",
     "text": [
      "Model: \"sequential\"\n",
      "_________________________________________________________________\n",
      " Layer (type)                Output Shape              Param #   \n",
      "=================================================================\n",
      " embedding (Embedding)       (None, 5, 16)             160000    \n",
      "                                                                 \n",
      " lstm (LSTM)                 (None, 64)                20736     \n",
      "                                                                 \n",
      " dense (Dense)               (None, 32)                2080      \n",
      "                                                                 \n",
      " dense_1 (Dense)             (None, 1)                 33        \n",
      "                                                                 \n",
      "=================================================================\n",
      "Total params: 182,849\n",
      "Trainable params: 182,849\n",
      "Non-trainable params: 0\n",
      "_________________________________________________________________\n"
     ]
    }
   ],
   "source": [
    "# Define an LSTM-based neural network architecture for text classification.\n",
    "\n",
    "from tensorflow.keras.models import Sequential\n",
    "from tensorflow.keras.layers import Embedding, LSTM, Dense\n",
    "\n",
    "# Set parameters\n",
    "vocab_size = 10000  # Vocabulary size for tokenization\n",
    "embedding_dim = 16  # Size of the word embeddings\n",
    "max_length = 5      # Maximum length of input sequences\n",
    "\n",
    "# Build LSTM model\n",
    "model = Sequential([\n",
    "    Embedding(input_dim=vocab_size, output_dim=embedding_dim, input_length=max_length),\n",
    "    LSTM(64),\n",
    "    Dense(32, activation='relu'),\n",
    "    Dense(1, activation='sigmoid')\n",
    "])\n",
    "\n",
    "# Compile the model\n",
    "model.compile(loss='binary_crossentropy', optimizer='adam', metrics=['accuracy'])\n",
    "model.summary()"
   ]
  },
  {
   "cell_type": "code",
   "execution_count": null,
   "metadata": {},
   "outputs": [],
   "source": [
    "# Train the LSTM model on text data for sentiment classification.\n",
    "\n",
    "import numpy as np\n",
    "\n",
    "# Example binary labels for the text data (1 for positive, 0 for negative sentiment)\n",
    "labels = np.array([1, 0, 1, 0, 1])\n",
    "\n",
    "# Train the model\n",
    "history = model.fit(padded_sequences, labels, epochs=5, verbose=1)"
   ]
  },
  {
   "cell_type": "code",
   "execution_count": null,
   "metadata": {},
   "outputs": [],
   "source": [
    "# Evaluate the LSTM model’s performance on unseen data and check its accuracy.\n",
    "\n",
    "# Example test data\n",
    "test_texts = [\"This was amazing\", \"Not worth it\", \"Absolutely fantastic\", \"Terrible experience\"]\n",
    "test_sequences = tokenizer.texts_to_sequences(test_texts)\n",
    "test_padded = pad_sequences(test_sequences, maxlen=5, padding='post')\n",
    "\n",
    "# Generate predictions\n",
    "predictions = model.predict(test_padded)\n",
    "predicted_labels = (predictions > 0.5).astype(int)\n",
    "\n",
    "print(\"Predicted Labels:\", predicted_labels.flatten())"
   ]
  },
  {
   "cell_type": "code",
   "execution_count": null,
   "metadata": {},
   "outputs": [],
   "source": [
    "# Plot the training loss and accuracy to analyze the model’s learning over epochs.\n",
    "\n",
    "import matplotlib.pyplot as plt\n",
    "\n",
    "# Plot training loss\n",
    "plt.plot(history.history['loss'], label='Loss')\n",
    "plt.plot(history.history['accuracy'], label='Accuracy')\n",
    "plt.xlabel('Epoch')\n",
    "plt.ylabel('Value')\n",
    "plt.legend()\n",
    "plt.title('Training Loss and Accuracy')\n",
    "plt.show()"
   ]
  }
 ],
 "metadata": {
  "kernelspec": {
   "display_name": "tf_env",
   "language": "python",
   "name": "python3"
  },
  "language_info": {
   "codemirror_mode": {
    "name": "ipython",
    "version": 3
   },
   "file_extension": ".py",
   "mimetype": "text/x-python",
   "name": "python",
   "nbconvert_exporter": "python",
   "pygments_lexer": "ipython3",
   "version": "3.9.18"
  }
 },
 "nbformat": 4,
 "nbformat_minor": 2
}
