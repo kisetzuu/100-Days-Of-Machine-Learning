{
 "cells": [
  {
   "cell_type": "code",
   "execution_count": null,
   "metadata": {},
   "outputs": [],
   "source": [
    "# Load and visualize time series data to understand trends, seasonality, and noise.\n",
    "\n",
    "import pandas as pd\n",
    "import matplotlib.pyplot as plt\n",
    "\n",
    "# Example data (replace with actual time series data if available)\n",
    "data = {\n",
    "    'Date': pd.date_range(start='2022-01-01', periods=100, freq='D'),\n",
    "    'Value': [x + (x**0.5) * 10 for x in range(100)]\n",
    "}\n",
    "df = pd.DataFrame(data)\n",
    "df.set_index('Date', inplace=True)\n",
    "\n",
    "# Plot time series data\n",
    "plt.figure(figsize=(10, 6))\n",
    "plt.plot(df, label='Value')\n",
    "plt.title('Time Series Data')\n",
    "plt.xlabel('Date')\n",
    "plt.ylabel('Value')\n",
    "plt.legend()\n",
    "plt.show()"
   ]
  },
  {
   "cell_type": "code",
   "execution_count": null,
   "metadata": {},
   "outputs": [],
   "source": [
    "# Split time series data into training and testing sets while preserving sequence to prevent data leakage.\n",
    "\n",
    "train_size = int(len(df) * 0.8)\n",
    "train, test = df[:train_size], df[train_size:]\n",
    "\n",
    "print(\"Training Data Length:\", len(train))\n",
    "print(\"Testing Data Length:\", len(test))"
   ]
  },
  {
   "cell_type": "code",
   "execution_count": null,
   "metadata": {},
   "outputs": [],
   "source": [
    "# Build and fit an ARIMA model to forecast time series data, capturing trends and seasonality.\n",
    "\n",
    "from statsmodels.tsa.arima.model import ARIMA\n",
    "\n",
    "# Define and fit ARIMA model\n",
    "arima_model = ARIMA(train, order=(5, 1, 0))\n",
    "arima_result = arima_model.fit()\n",
    "\n",
    "# Forecast future values\n",
    "forecast_arima = arima_result.forecast(steps=len(test))\n",
    "print(\"ARIMA Forecast:\\n\", forecast_arima)"
   ]
  },
  {
   "cell_type": "code",
   "execution_count": null,
   "metadata": {},
   "outputs": [],
   "source": [
    "# Evaluate the accuracy of ARIMA predictions using metrics like MAE and RMSE.\n",
    "\n",
    "from sklearn.metrics import mean_absolute_error, mean_squared_error\n",
    "import numpy as np\n",
    "\n",
    "# Calculate MAE and RMSE\n",
    "mae_arima = mean_absolute_error(test, forecast_arima)\n",
    "rmse_arima = np.sqrt(mean_squared_error(test, forecast_arima))\n",
    "\n",
    "print(\"ARIMA MAE:\", mae_arima)\n",
    "print(\"ARIMA RMSE:\", rmse_arima)"
   ]
  },
  {
   "cell_type": "code",
   "execution_count": null,
   "metadata": {},
   "outputs": [],
   "source": [
    "# Use Prophet for time series forecasting, which is effective for capturing seasonality and trends in data.\n",
    "\n",
    "from fbprophet import Prophet\n",
    "\n",
    "# Prepare data for Prophet\n",
    "df_prophet = df.reset_index().rename(columns={'Date': 'ds', 'Value': 'y'})\n",
    "\n",
    "# Initialize and fit Prophet model\n",
    "prophet_model = Prophet()\n",
    "prophet_model.fit(df_prophet[:train_size])\n",
    "\n",
    "# Forecast future values\n",
    "future = prophet_model.make_future_dataframe(periods=len(test))\n",
    "forecast_prophet = prophet_model.predict(future)\n",
    "\n",
    "# Plot forecast\n",
    "prophet_model.plot(forecast_prophet)\n",
    "plt.title(\"Prophet Forecast\")\n",
    "plt.show()"
   ]
  },
  {
   "cell_type": "code",
   "execution_count": null,
   "metadata": {},
   "outputs": [],
   "source": [
    "# Evaluate Prophet model forecasts and compare its accuracy with the ARIMA model.\n",
    "\n",
    "# Extract predictions for test set\n",
    "forecast_prophet_test = forecast_prophet[-len(test):]\n",
    "\n",
    "# Calculate MAE and RMSE for Prophet\n",
    "mae_prophet = mean_absolute_error(test['Value'], forecast_prophet_test['yhat'])\n",
    "rmse_prophet = np.sqrt(mean_squared_error(test['Value'], forecast_prophet_test['yhat']))\n",
    "\n",
    "print(\"Prophet MAE:\", mae_prophet)\n",
    "print(\"Prophet RMSE:\", rmse_prophet)"
   ]
  }
 ],
 "metadata": {
  "language_info": {
   "name": "python"
  }
 },
 "nbformat": 4,
 "nbformat_minor": 2
}
