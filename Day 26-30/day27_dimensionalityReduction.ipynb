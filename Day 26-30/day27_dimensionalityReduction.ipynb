{
 "cells": [
  {
   "cell_type": "code",
   "execution_count": null,
   "metadata": {},
   "outputs": [],
   "source": [
    "# Use t-SNE (t-Distributed Stochastic Neighbor Embedding) to visualize high-dimensional data in 2D or 3D.\n",
    "\n",
    "from sklearn.datasets import load_digits\n",
    "from sklearn.manifold import TSNE\n",
    "import matplotlib.pyplot as plt\n",
    "\n",
    "# Load the digits dataset\n",
    "digits = load_digits()\n",
    "X = digits.data\n",
    "y = digits.target\n",
    "\n",
    "# Apply t-SNE for 2D visualization\n",
    "tsne = TSNE(n_components=2, random_state=42)\n",
    "X_tsne = tsne.fit_transform(X)\n",
    "\n",
    "# Plot t-SNE results\n",
    "plt.figure(figsize=(10, 6))\n",
    "scatter = plt.scatter(X_tsne[:, 0], X_tsne[:, 1], c=y, cmap='viridis', s=10, alpha=0.7)\n",
    "plt.colorbar(scatter, label=\"Digit Label\")\n",
    "plt.title(\"t-SNE Visualization of Digits Dataset\")\n",
    "plt.xlabel(\"t-SNE 1\")\n",
    "plt.ylabel(\"t-SNE 2\")\n",
    "plt.show()"
   ]
  },
  {
   "cell_type": "code",
   "execution_count": null,
   "metadata": {},
   "outputs": [],
   "source": [
    "# Use UMAP (Uniform Manifold Approximation and Projection) for dimensionality reduction and visualization.\n",
    "\n",
    "from umap import UMAP\n",
    "\n",
    "# Apply UMAP for 2D visualization\n",
    "umap = UMAP(n_components=2, random_state=42)\n",
    "X_umap = umap.fit_transform(X)\n",
    "\n",
    "# Plot UMAP results\n",
    "plt.figure(figsize=(10, 6))\n",
    "scatter = plt.scatter(X_umap[:, 0], X_umap[:, 1], c=y, cmap='plasma', s=10, alpha=0.7)\n",
    "plt.colorbar(scatter, label=\"Digit Label\")\n",
    "plt.title(\"UMAP Visualization of Digits Dataset\")\n",
    "plt.xlabel(\"UMAP 1\")\n",
    "plt.ylabel(\"UMAP 2\")\n",
    "plt.show()"
   ]
  },
  {
   "cell_type": "code",
   "execution_count": null,
   "metadata": {},
   "outputs": [],
   "source": [
    "# Compare t-SNE and UMAP results to understand their strengths and use cases.\n",
    "\n",
    "fig, axes = plt.subplots(1, 2, figsize=(16, 6))\n",
    "\n",
    "# t-SNE plot\n",
    "axes[0].scatter(X_tsne[:, 0], X_tsne[:, 1], c=y, cmap='viridis', s=10, alpha=0.7)\n",
    "axes[0].set_title(\"t-SNE Visualization\")\n",
    "axes[0].set_xlabel(\"t-SNE 1\")\n",
    "axes[0].set_ylabel(\"t-SNE 2\")\n",
    "\n",
    "# UMAP plot\n",
    "axes[1].scatter(X_umap[:, 0], X_umap[:, 1], c=y, cmap='plasma', s=10, alpha=0.7)\n",
    "axes[1].set_title(\"UMAP Visualization\")\n",
    "axes[1].set_xlabel(\"UMAP 1\")\n",
    "axes[1].set_ylabel(\"UMAP 2\")\n",
    "\n",
    "plt.tight_layout()\n",
    "plt.show()\n",
    "\n",
    "# t-SNE captures local structures but may struggle with global structure.\n",
    "# UMAP balances both local and global structures, making it better for larger datasets."
   ]
  },
  {
   "cell_type": "code",
   "execution_count": null,
   "metadata": {},
   "outputs": [],
   "source": [
    "# Use UMAP and t-SNE to uncover clusters or patterns in complex datasets.\n",
    "\n",
    "from sklearn.cluster import KMeans\n",
    "\n",
    "# Apply K-Means clustering to UMAP-reduced data\n",
    "kmeans_umap = KMeans(n_clusters=10, random_state=42)\n",
    "labels_umap = kmeans_umap.fit_predict(X_umap)\n",
    "\n",
    "# Plot clusters identified on UMAP-reduced data\n",
    "plt.figure(figsize=(10, 6))\n",
    "scatter = plt.scatter(X_umap[:, 0], X_umap[:, 1], c=labels_umap, cmap='tab10', s=10, alpha=0.7)\n",
    "plt.colorbar(scatter, label=\"Cluster Label\")\n",
    "plt.title(\"Clusters Identified on UMAP-Reduced Data\")\n",
    "plt.xlabel(\"UMAP 1\")\n",
    "plt.ylabel(\"UMAP 2\")\n",
    "plt.show()"
   ]
  },
  {
   "cell_type": "code",
   "execution_count": null,
   "metadata": {},
   "outputs": [],
   "source": [
    "# Analyze the computational efficiency and interpretability of t-SNE and UMAP.\n",
    "\n",
    "import time\n",
    "\n",
    "# Measure execution time for t-SNE\n",
    "start_tsne = time.time()\n",
    "tsne.fit_transform(X)\n",
    "end_tsne = time.time()\n",
    "\n",
    "# Measure execution time for UMAP\n",
    "start_umap = time.time()\n",
    "umap.fit_transform(X)\n",
    "end_umap = time.time()\n",
    "\n",
    "print(f\"t-SNE Execution Time: {end_tsne - start_tsne:.2f} seconds\")\n",
    "print(f\"UMAP Execution Time: {end_umap - start_umap:.2f} seconds\")\n",
    "\n",
    "# t-SNE may take longer for larger datasets, while UMAP is faster and scales better."
   ]
  }
 ],
 "metadata": {
  "language_info": {
   "name": "python"
  }
 },
 "nbformat": 4,
 "nbformat_minor": 2
}
