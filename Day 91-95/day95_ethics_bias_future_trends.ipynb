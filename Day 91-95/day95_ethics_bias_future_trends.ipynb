{
 "cells": [
  {
   "cell_type": "code",
   "execution_count": null,
   "metadata": {},
   "outputs": [],
   "source": [
    "pip install aif360\n"
   ]
  },
  {
   "cell_type": "code",
   "execution_count": null,
   "metadata": {},
   "outputs": [],
   "source": [
    "import pandas as pd\n",
    "from aif360.datasets import StandardDataset\n",
    "from aif360.metrics import BinaryLabelDatasetMetric\n",
    "\n",
    "# Load a sample dataset\n",
    "data = {\n",
    "    \"age\": [25, 30, 45, 50],\n",
    "    \"income\": [30000, 60000, 80000, 50000],\n",
    "    \"gender\": [\"Male\", \"Female\", \"Male\", \"Female\"],\n",
    "    \"loan_approved\": [1, 0, 1, 0]\n",
    "}\n",
    "df = pd.DataFrame(data)\n",
    "\n",
    "# Convert to AIF360 dataset\n",
    "dataset = StandardDataset(df, label_name=\"loan_approved\", favorable_classes=[1],\n",
    "                          protected_attribute_names=[\"gender\"], privileged_classes=[[\"Male\"]])\n",
    "\n",
    "# Evaluate bias metrics\n",
    "metric = BinaryLabelDatasetMetric(dataset, privileged_groups=[{\"gender\": \"Male\"}], \n",
    "                                   unprivileged_groups=[{\"gender\": \"Female\"}])\n",
    "print(\"Disparate Impact:\", metric.disparate_impact())\n"
   ]
  },
  {
   "cell_type": "code",
   "execution_count": null,
   "metadata": {},
   "outputs": [],
   "source": [
    "pip install shap\n"
   ]
  },
  {
   "cell_type": "code",
   "execution_count": null,
   "metadata": {},
   "outputs": [],
   "source": [
    "import shap\n",
    "from sklearn.ensemble import RandomForestClassifier\n",
    "\n",
    "# Example dataset\n",
    "X = df[[\"age\", \"income\"]]\n",
    "y = df[\"loan_approved\"]\n",
    "\n",
    "# Train a model\n",
    "model = RandomForestClassifier(random_state=42)\n",
    "model.fit(X, y)\n",
    "\n",
    "# Explain predictions with SHAP\n",
    "explainer = shap.Explainer(model, X)\n",
    "shap_values = explainer(X)\n",
    "\n",
    "# Visualize feature importance\n",
    "shap.summary_plot(shap_values, X)\n"
   ]
  }
 ],
 "metadata": {
  "language_info": {
   "name": "python"
  }
 },
 "nbformat": 4,
 "nbformat_minor": 2
}
