{
 "cells": [
  {
   "cell_type": "code",
   "execution_count": null,
   "metadata": {},
   "outputs": [],
   "source": [
    "import pandas as pd\n",
    "import numpy as np\n",
    "from sklearn.feature_extraction.text import CountVectorizer\n",
    "from sklearn.decomposition import LatentDirichletAllocation\n",
    "from nltk.corpus import stopwords\n",
    "import nltk\n",
    "import re\n",
    "\n",
    "# Download stopwords\n",
    "nltk.download(\"stopwords\")\n"
   ]
  },
  {
   "cell_type": "code",
   "execution_count": null,
   "metadata": {},
   "outputs": [],
   "source": [
    "# Load a dataset (sample movie reviews dataset)\n",
    "url = \"https://raw.githubusercontent.com/datasets/movie-reviews-dataset/master/data/movies_reviews.csv\"\n",
    "df = pd.read_csv(url)\n",
    "\n",
    "# Display dataset\n",
    "print(\"Dataset Sample:\")\n",
    "print(df.head())\n",
    "\n",
    "# Dataset overview\n",
    "print(\"\\nDataset Shape:\", df.shape)\n"
   ]
  },
  {
   "cell_type": "code",
   "execution_count": null,
   "metadata": {},
   "outputs": [],
   "source": [
    "# Preprocessing function\n",
    "def preprocess_text(text):\n",
    "    text = text.lower()  # Lowercase\n",
    "    text = re.sub(r'[^a-z\\s]', '', text)  # Remove special characters and numbers\n",
    "    text = \" \".join([word for word in text.split() if word not in stopwords.words(\"english\")])\n",
    "    return text\n",
    "\n",
    "# Apply preprocessing\n",
    "df['cleaned_text'] = df['review'].apply(preprocess_text)\n",
    "\n",
    "# Display cleaned text\n",
    "print(\"\\nCleaned Text Sample:\")\n",
    "print(df[['review', 'cleaned_text']].head())\n"
   ]
  },
  {
   "cell_type": "code",
   "execution_count": null,
   "metadata": {},
   "outputs": [],
   "source": [
    "# Create a document-term matrix\n",
    "vectorizer = CountVectorizer(max_df=0.9, min_df=10, stop_words=\"english\")\n",
    "dtm = vectorizer.fit_transform(df['cleaned_text'])\n",
    "\n",
    "print(\"\\nDocument-Term Matrix Shape:\", dtm.shape)\n"
   ]
  },
  {
   "cell_type": "code",
   "execution_count": null,
   "metadata": {},
   "outputs": [],
   "source": [
    "# Initialize and fit the LDA model\n",
    "lda = LatentDirichletAllocation(n_components=5, random_state=42)\n",
    "lda.fit(dtm)\n",
    "\n",
    "# Display topics and top words\n",
    "def display_topics(model, feature_names, num_top_words):\n",
    "    for topic_idx, topic in enumerate(model.components_):\n",
    "        print(f\"\\nTopic #{topic_idx + 1}:\")\n",
    "        print(\", \".join([feature_names[i] for i in topic.argsort()[:-num_top_words - 1:-1]]))\n",
    "\n",
    "# Display top words for each topic\n",
    "print(\"\\nTop Words per Topic:\")\n",
    "display_topics(lda, vectorizer.get_feature_names_out(), num_top_words=10)\n"
   ]
  },
  {
   "cell_type": "code",
   "execution_count": null,
   "metadata": {},
   "outputs": [],
   "source": [
    "# Assign the most likely topic to each document\n",
    "topic_assignments = lda.transform(dtm)\n",
    "df['topic'] = topic_assignments.argmax(axis=1) + 1\n",
    "\n",
    "# Display topic assignments\n",
    "print(\"\\nDocument Topics Assigned:\")\n",
    "print(df[['review', 'topic']].head())\n"
   ]
  },
  {
   "cell_type": "code",
   "execution_count": null,
   "metadata": {},
   "outputs": [],
   "source": [
    "from wordcloud import WordCloud\n",
    "import matplotlib.pyplot as plt\n",
    "\n",
    "# Generate word clouds for each topic\n",
    "for topic_idx, topic in enumerate(lda.components_):\n",
    "    wordcloud = WordCloud(width=800, height=400, background_color=\"white\").generate(\n",
    "        \" \".join([vectorizer.get_feature_names_out()[i] for i in topic.argsort()[:-15 - 1:-1]])\n",
    "    )\n",
    "    plt.figure(figsize=(10, 5))\n",
    "    plt.imshow(wordcloud, interpolation=\"bilinear\")\n",
    "    plt.axis(\"off\")\n",
    "    plt.title(f\"Word Cloud for Topic #{topic_idx + 1}\")\n",
    "    plt.show()\n"
   ]
  }
 ],
 "metadata": {
  "language_info": {
   "name": "python"
  }
 },
 "nbformat": 4,
 "nbformat_minor": 2
}
