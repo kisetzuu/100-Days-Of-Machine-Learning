{
 "cells": [
  {
   "cell_type": "code",
   "execution_count": null,
   "metadata": {},
   "outputs": [],
   "source": [
    "pip install pandas numpy matplotlib scikit-learn statsmodels\n"
   ]
  },
  {
   "cell_type": "code",
   "execution_count": null,
   "metadata": {},
   "outputs": [],
   "source": [
    "import pandas as pd\n",
    "import numpy as np\n",
    "import matplotlib.pyplot as plt\n",
    "from sklearn.metrics import mean_squared_error\n",
    "from statsmodels.tsa.arima.model import ARIMA\n"
   ]
  },
  {
   "cell_type": "code",
   "execution_count": null,
   "metadata": {},
   "outputs": [],
   "source": [
    "# Load a sample sales dataset\n",
    "url = \"https://raw.githubusercontent.com/jbrownlee/Datasets/master/shampoo.csv\"\n",
    "df = pd.read_csv(url, header=0, index_col=0, parse_dates=True, squeeze=True)\n",
    "\n",
    "# Visualize the dataset\n",
    "df.plot(title=\"Shampoo Sales Data\", ylabel=\"Sales\", xlabel=\"Month\")\n",
    "plt.show()\n",
    "\n",
    "# Check dataset properties\n",
    "print(f\"Dataset Summary:\\n{df.describe()}\")\n"
   ]
  },
  {
   "cell_type": "code",
   "execution_count": null,
   "metadata": {},
   "outputs": [],
   "source": [
    "# Split data into train and test sets\n",
    "train_size = int(len(df) * 0.8)\n",
    "train, test = df[:train_size], df[train_size:]\n",
    "\n",
    "print(f\"Training Size: {len(train)}, Test Size: {len(test)}\")\n"
   ]
  },
  {
   "cell_type": "code",
   "execution_count": null,
   "metadata": {},
   "outputs": [],
   "source": [
    "# Fit an ARIMA model\n",
    "model = ARIMA(train, order=(5, 1, 0))  # p=5, d=1, q=0\n",
    "fitted_model = model.fit()\n",
    "\n",
    "# Display model summary\n",
    "print(fitted_model.summary())\n"
   ]
  },
  {
   "cell_type": "code",
   "execution_count": null,
   "metadata": {},
   "outputs": [],
   "source": [
    "# Forecast the test set\n",
    "forecast = fitted_model.forecast(steps=len(test))\n",
    "test_index = test.index\n",
    "\n",
    "# Plot actual vs predicted values\n",
    "plt.plot(test_index, test, label=\"Actual\")\n",
    "plt.plot(test_index, forecast, label=\"Predicted\", linestyle=\"--\")\n",
    "plt.title(\"Actual vs Predicted Sales\")\n",
    "plt.xlabel(\"Month\")\n",
    "plt.ylabel(\"Sales\")\n",
    "plt.legend()\n",
    "plt.show()\n",
    "\n",
    "# Evaluate performance\n",
    "mse = mean_squared_error(test, forecast)\n",
    "print(f\"Mean Squared Error: {mse:.4f}\")\n"
   ]
  },
  {
   "cell_type": "code",
   "execution_count": null,
   "metadata": {},
   "outputs": [],
   "source": [
    "# Plot residual errors\n",
    "residuals = test - forecast\n",
    "plt.hist(residuals, bins=20, edgecolor=\"black\")\n",
    "plt.title(\"Residual Errors\")\n",
    "plt.xlabel(\"Error\")\n",
    "plt.ylabel(\"Frequency\")\n",
    "plt.show()\n",
    "\n",
    "print(f\"Mean Residual Error: {np.mean(residuals):.4f}\")\n"
   ]
  },
  {
   "cell_type": "code",
   "execution_count": null,
   "metadata": {},
   "outputs": [],
   "source": [
    "import joblib\n",
    "joblib.dump(fitted_model, \"sales_forecasting_model.pkl\")\n",
    "print(\"Model saved!\")\n"
   ]
  },
  {
   "cell_type": "code",
   "execution_count": null,
   "metadata": {},
   "outputs": [],
   "source": [
    "# Load the saved model\n",
    "loaded_model = joblib.load(\"sales_forecasting_model.pkl\")\n",
    "\n",
    "# Forecast future sales\n",
    "future_forecast = loaded_model.forecast(steps=12)  # Next 12 months\n",
    "print(\"Future Sales Forecast:\\n\", future_forecast)\n"
   ]
  }
 ],
 "metadata": {
  "language_info": {
   "name": "python"
  }
 },
 "nbformat": 4,
 "nbformat_minor": 2
}
