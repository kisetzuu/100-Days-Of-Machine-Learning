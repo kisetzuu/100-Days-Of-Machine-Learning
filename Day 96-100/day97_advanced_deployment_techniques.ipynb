{
 "cells": [
  {
   "cell_type": "code",
   "execution_count": null,
   "metadata": {},
   "outputs": [],
   "source": [
    "# Use an official Python image\n",
    "FROM python:3.9-slim\n",
    "\n",
    "# Set the working directory\n",
    "WORKDIR /app\n",
    "\n",
    "# Copy the requirements file and install dependencies\n",
    "COPY requirements.txt .\n",
    "RUN pip install -r requirements.txt\n",
    "\n",
    "# Copy the application code\n",
    "COPY . .\n",
    "\n",
    "# Expose the port\n",
    "EXPOSE 5000\n",
    "\n",
    "# Command to run the app\n",
    "CMD [\"python\", \"app.py\"]\n"
   ]
  },
  {
   "cell_type": "code",
   "execution_count": null,
   "metadata": {},
   "outputs": [],
   "source": [
    "flask\n",
    "numpy\n",
    "joblib\n"
   ]
  },
  {
   "cell_type": "code",
   "execution_count": null,
   "metadata": {},
   "outputs": [],
   "source": [
    "# Build the Docker image\n",
    "docker build -t titanic-api .\n",
    "\n",
    "# Run the container\n",
    "docker run -p 5000:5000 titanic-api\n"
   ]
  },
  {
   "cell_type": "code",
   "execution_count": null,
   "metadata": {},
   "outputs": [],
   "source": [
    "pip install awscli\n"
   ]
  },
  {
   "cell_type": "code",
   "execution_count": null,
   "metadata": {},
   "outputs": [],
   "source": [
    "aws configure\n"
   ]
  },
  {
   "cell_type": "code",
   "execution_count": null,
   "metadata": {},
   "outputs": [],
   "source": [
    "# Authenticate Docker to your ECR\n",
    "aws ecr get-login-password --region <your-region> | docker login --username AWS --password-stdin <your-ecr-repo-url>\n",
    "\n",
    "# Tag the Docker image\n",
    "docker tag titanic-api <your-ecr-repo-url>/titanic-api:latest\n",
    "\n",
    "# Push the image\n",
    "docker push <your-ecr-repo-url>/titanic-api:latest\n"
   ]
  },
  {
   "cell_type": "code",
   "execution_count": null,
   "metadata": {},
   "outputs": [],
   "source": [
    "apiVersion: apps/v1\n",
    "kind: Deployment\n",
    "metadata:\n",
    "  name: titanic-api\n",
    "spec:\n",
    "  replicas: 2\n",
    "  selector:\n",
    "    matchLabels:\n",
    "      app: titanic-api\n",
    "  template:\n",
    "    metadata:\n",
    "      labels:\n",
    "        app: titanic-api\n",
    "    spec:\n",
    "      containers:\n",
    "      - name: titanic-api\n",
    "        image: <your-ecr-repo-url>/titanic-api:latest\n",
    "        ports:\n",
    "        - containerPort: 5000\n"
   ]
  }
 ],
 "metadata": {
  "language_info": {
   "name": "python"
  }
 },
 "nbformat": 4,
 "nbformat_minor": 2
}
