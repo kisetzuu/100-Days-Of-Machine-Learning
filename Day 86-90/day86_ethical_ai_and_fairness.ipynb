{
 "cells": [
  {
   "cell_type": "code",
   "execution_count": null,
   "metadata": {},
   "outputs": [],
   "source": [
    "pip install aif360 pandas scikit-learn\n"
   ]
  },
  {
   "cell_type": "code",
   "execution_count": null,
   "metadata": {},
   "outputs": [],
   "source": [
    "import pandas as pd\n",
    "from sklearn.model_selection import train_test_split\n",
    "from sklearn.ensemble import RandomForestClassifier\n",
    "from sklearn.metrics import accuracy_score\n",
    "from aif360.datasets import StandardDataset\n",
    "from aif360.algorithms.preprocessing import Reweighing\n",
    "from aif360.algorithms.postprocessing import RejectOptionClassification\n",
    "from aif360.metrics import BinaryLabelDatasetMetric\n"
   ]
  },
  {
   "cell_type": "code",
   "execution_count": null,
   "metadata": {},
   "outputs": [],
   "source": [
    "# Load the dataset (Example: UCI Adult dataset)\n",
    "url = \"https://archive.ics.uci.edu/ml/machine-learning-databases/adult/adult.data\"\n",
    "columns = [\n",
    "    \"age\", \"workclass\", \"fnlwgt\", \"education\", \"education-num\",\n",
    "    \"marital-status\", \"occupation\", \"relationship\", \"race\", \"sex\",\n",
    "    \"capital-gain\", \"capital-loss\", \"hours-per-week\", \"native-country\", \"income\"\n",
    "]\n",
    "df = pd.read_csv(url, names=columns, header=None, na_values=\"?\", skipinitialspace=True)\n",
    "\n",
    "# Preprocess the dataset\n",
    "df = df.dropna()\n",
    "df['income'] = df['income'].apply(lambda x: 1 if x == \">50K\" else 0)\n",
    "\n",
    "print(\"Sample Data:\\n\", df.head())\n"
   ]
  },
  {
   "cell_type": "code",
   "execution_count": null,
   "metadata": {},
   "outputs": [],
   "source": [
    "# Define sensitive attributes and label\n",
    "privileged_groups = [{'sex': 1}]  # Male\n",
    "unprivileged_groups = [{'sex': 0}]  # Female\n",
    "\n",
    "# Convert to AIF360 dataset\n",
    "dataset = StandardDataset(df, label_name='income', favorable_classes=[1], \n",
    "                          protected_attribute_names=['sex'], privileged_classes=[[1]])\n",
    "\n",
    "# Evaluate fairness\n",
    "metric = BinaryLabelDatasetMetric(dataset, privileged_groups=privileged_groups, unprivileged_groups=unprivileged_groups)\n",
    "print(\"Disparate Impact:\", metric.disparate_impact())\n"
   ]
  },
  {
   "cell_type": "code",
   "execution_count": null,
   "metadata": {},
   "outputs": [],
   "source": [
    "# Apply reweighing\n",
    "rw = Reweighing(privileged_groups=privileged_groups, unprivileged_groups=unprivileged_groups)\n",
    "reweighted_dataset = rw.fit_transform(dataset)\n",
    "\n",
    "# Train a classifier on the reweighted dataset\n",
    "X = reweighted_dataset.features\n",
    "y = reweighted_dataset.labels.ravel()\n",
    "X_train, X_test, y_train, y_test = train_test_split(X, y, test_size=0.3, random_state=42)\n",
    "\n",
    "model = RandomForestClassifier(random_state=42)\n",
    "model.fit(X_train, y_train)\n",
    "y_pred = model.predict(X_test)\n",
    "\n",
    "# Evaluate the model\n",
    "print(\"Accuracy:\", accuracy_score(y_test, y_pred))\n"
   ]
  },
  {
   "cell_type": "code",
   "execution_count": null,
   "metadata": {},
   "outputs": [],
   "source": [
    "# Post-processing with Reject Option Classification\n",
    "roc = RejectOptionClassification(unprivileged_groups=privileged_groups, privileged_groups=unprivileged_groups)\n",
    "roc = roc.fit(reweighted_dataset, reweighted_dataset)\n",
    "predicted_dataset = roc.predict(reweighted_dataset)\n",
    "\n",
    "# Evaluate fairness post-processing\n",
    "post_metric = BinaryLabelDatasetMetric(predicted_dataset, privileged_groups=privileged_groups, unprivileged_groups=unprivileged_groups)\n",
    "print(\"Disparate Impact After Mitigation:\", post_metric.disparate_impact())\n"
   ]
  }
 ],
 "metadata": {
  "language_info": {
   "name": "python"
  }
 },
 "nbformat": 4,
 "nbformat_minor": 2
}
