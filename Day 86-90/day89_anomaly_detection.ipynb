{
 "cells": [
  {
   "cell_type": "code",
   "execution_count": null,
   "metadata": {},
   "outputs": [],
   "source": [
    "pip install numpy pandas matplotlib scikit-learn tensorflow\n"
   ]
  },
  {
   "cell_type": "code",
   "execution_count": null,
   "metadata": {},
   "outputs": [],
   "source": [
    "import numpy as np\n",
    "import pandas as pd\n",
    "import matplotlib.pyplot as plt\n",
    "from sklearn.ensemble import IsolationForest\n",
    "from sklearn.preprocessing import StandardScaler\n",
    "from tensorflow.keras.models import Sequential\n",
    "from tensorflow.keras.layers import Dense\n"
   ]
  },
  {
   "cell_type": "code",
   "execution_count": null,
   "metadata": {},
   "outputs": [],
   "source": [
    "# Generate synthetic data\n",
    "rng = np.random.RandomState(42)\n",
    "normal_data = rng.normal(loc=0.0, scale=1.0, size=(1000, 2))  # Normal data\n",
    "anomaly_data = rng.uniform(low=-4, high=4, size=(50, 2))  # Anomalous data\n",
    "\n",
    "# Combine the datasets\n",
    "data = np.concatenate([normal_data, anomaly_data], axis=0)\n",
    "labels = np.concatenate([np.zeros(len(normal_data)), np.ones(len(anomaly_data))])\n",
    "\n",
    "# Visualize the dataset\n",
    "plt.scatter(data[:, 0], data[:, 1], c=labels, cmap='coolwarm', alpha=0.7)\n",
    "plt.title(\"Synthetic Dataset with Anomalies\")\n",
    "plt.xlabel(\"Feature 1\")\n",
    "plt.ylabel(\"Feature 2\")\n",
    "plt.show()\n"
   ]
  },
  {
   "cell_type": "code",
   "execution_count": null,
   "metadata": {},
   "outputs": [],
   "source": [
    "# Standardize the data\n",
    "scaler = StandardScaler()\n",
    "data_scaled = scaler.fit_transform(data)\n",
    "\n",
    "# Train an Isolation Forest model\n",
    "isolation_forest = IsolationForest(random_state=42, contamination=0.05)\n",
    "isolation_forest.fit(data_scaled)\n",
    "\n",
    "# Predict anomalies\n",
    "predictions = isolation_forest.predict(data_scaled)\n",
    "predictions = np.where(predictions == 1, 0, 1)  # Convert to binary (0 = normal, 1 = anomaly)\n",
    "\n",
    "# Visualize the predictions\n",
    "plt.scatter(data[:, 0], data[:, 1], c=predictions, cmap='coolwarm', alpha=0.7)\n",
    "plt.title(\"Anomalies Detected by Isolation Forest\")\n",
    "plt.xlabel(\"Feature 1\")\n",
    "plt.ylabel(\"Feature 2\")\n",
    "plt.show()\n"
   ]
  },
  {
   "cell_type": "code",
   "execution_count": null,
   "metadata": {},
   "outputs": [],
   "source": [
    "# Split data into training and testing\n",
    "normal_data_train = normal_data[:800]\n",
    "normal_data_test = normal_data[800:]\n",
    "test_data = np.concatenate([normal_data_test, anomaly_data])\n",
    "\n",
    "# Build the Autoencoder model\n",
    "autoencoder = Sequential([\n",
    "    Dense(16, activation='relu', input_dim=2),\n",
    "    Dense(8, activation='relu'),\n",
    "    Dense(16, activation='relu'),\n",
    "    Dense(2, activation='linear')  # Reconstruct the original input\n",
    "])\n",
    "\n",
    "autoencoder.compile(optimizer='adam', loss='mse')\n",
    "autoencoder.summary()\n",
    "\n",
    "# Train the Autoencoder on normal data only\n",
    "autoencoder.fit(normal_data_train, normal_data_train, epochs=50, batch_size=32, validation_split=0.1, verbose=1)\n",
    "\n",
    "# Compute reconstruction errors\n",
    "reconstructions = autoencoder.predict(test_data)\n",
    "errors = np.mean(np.square(test_data - reconstructions), axis=1)\n",
    "\n",
    "# Set anomaly threshold\n",
    "threshold = np.percentile(errors, 95)\n",
    "print(f\"Anomaly Threshold: {threshold}\")\n",
    "\n",
    "# Predict anomalies\n",
    "autoencoder_predictions = errors > threshold\n",
    "\n",
    "# Visualize the anomalies\n",
    "plt.scatter(test_data[:, 0], test_data[:, 1], c=autoencoder_predictions, cmap='coolwarm', alpha=0.7)\n",
    "plt.title(\"Anomalies Detected by Autoencoder\")\n",
    "plt.xlabel(\"Feature 1\")\n",
    "plt.ylabel(\"Feature 2\")\n",
    "plt.show()\n"
   ]
  }
 ],
 "metadata": {
  "language_info": {
   "name": "python"
  }
 },
 "nbformat": 4,
 "nbformat_minor": 2
}
