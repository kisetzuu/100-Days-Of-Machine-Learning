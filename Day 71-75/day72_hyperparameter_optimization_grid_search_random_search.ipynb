{
 "cells": [
  {
   "cell_type": "code",
   "execution_count": null,
   "metadata": {},
   "outputs": [],
   "source": [
    "import numpy as np\n",
    "from sklearn.datasets import load_iris\n",
    "from sklearn.model_selection import train_test_split, GridSearchCV, RandomizedSearchCV\n",
    "from sklearn.ensemble import RandomForestClassifier\n",
    "from sklearn.metrics import accuracy_score\n"
   ]
  },
  {
   "cell_type": "code",
   "execution_count": null,
   "metadata": {},
   "outputs": [],
   "source": [
    "# Load Iris dataset\n",
    "iris = load_iris()\n",
    "X, y = iris.data, iris.target\n",
    "\n",
    "# Split the dataset into training and testing sets\n",
    "X_train, X_test, y_train, y_test = train_test_split(X, y, test_size=0.2, random_state=42)\n",
    "\n",
    "print(\"Training Data Shape:\", X_train.shape)\n",
    "print(\"Testing Data Shape:\", X_test.shape)\n"
   ]
  },
  {
   "cell_type": "code",
   "execution_count": null,
   "metadata": {},
   "outputs": [],
   "source": [
    "# Initialize a Random Forest Classifier\n",
    "rf = RandomForestClassifier(random_state=42)\n"
   ]
  },
  {
   "cell_type": "code",
   "execution_count": null,
   "metadata": {},
   "outputs": [],
   "source": [
    "# Define the hyperparameter grid\n",
    "param_grid = {\n",
    "    'n_estimators': [10, 50, 100],\n",
    "    'max_depth': [None, 10, 20],\n",
    "    'min_samples_split': [2, 5, 10],\n",
    "    'min_samples_leaf': [1, 2, 4]\n",
    "}\n",
    "\n",
    "# Set up GridSearchCV\n",
    "grid_search = GridSearchCV(estimator=rf, param_grid=param_grid, cv=3, scoring='accuracy', verbose=2, n_jobs=-1)\n",
    "\n",
    "# Fit GridSearchCV\n",
    "print(\"Performing Grid Search...\")\n",
    "grid_search.fit(X_train, y_train)\n",
    "\n",
    "# Best parameters and accuracy\n",
    "print(\"\\nBest Parameters from Grid Search:\", grid_search.best_params_)\n",
    "print(\"Best Accuracy from Grid Search:\", grid_search.best_score_)\n"
   ]
  },
  {
   "cell_type": "code",
   "execution_count": null,
   "metadata": {},
   "outputs": [],
   "source": [
    "# Define the hyperparameter distribution\n",
    "param_dist = {\n",
    "    'n_estimators': [10, 50, 100, 200],\n",
    "    'max_depth': [None, 10, 20, 30],\n",
    "    'min_samples_split': [2, 5, 10],\n",
    "    'min_samples_leaf': [1, 2, 4]\n",
    "}\n",
    "\n",
    "# Set up RandomizedSearchCV\n",
    "random_search = RandomizedSearchCV(estimator=rf, param_distributions=param_dist, n_iter=10, cv=3, scoring='accuracy', verbose=2, random_state=42, n_jobs=-1)\n",
    "\n",
    "# Fit RandomizedSearchCV\n",
    "print(\"Performing Random Search...\")\n",
    "random_search.fit(X_train, y_train)\n",
    "\n",
    "# Best parameters and accuracy\n",
    "print(\"\\nBest Parameters from Random Search:\", random_search.best_params_)\n",
    "print(\"Best Accuracy from Random Search:\", random_search.best_score_)\n"
   ]
  },
  {
   "cell_type": "code",
   "execution_count": null,
   "metadata": {},
   "outputs": [],
   "source": [
    "# Evaluate Grid Search best model\n",
    "grid_best_model = grid_search.best_estimator_\n",
    "grid_y_pred = grid_best_model.predict(X_test)\n",
    "grid_test_accuracy = accuracy_score(y_test, grid_y_pred)\n",
    "\n",
    "# Evaluate Random Search best model\n",
    "random_best_model = random_search.best_estimator_\n",
    "random_y_pred = random_best_model.predict(X_test)\n",
    "random_test_accuracy = accuracy_score(y_test, random_y_pred)\n",
    "\n",
    "print(f\"\\nTest Accuracy with Grid Search: {grid_test_accuracy:.4f}\")\n",
    "print(f\"Test Accuracy with Random Search: {random_test_accuracy:.4f}\")\n"
   ]
  },
  {
   "cell_type": "code",
   "execution_count": null,
   "metadata": {},
   "outputs": [],
   "source": [
    "print(\"\\nComparison of Hyperparameter Tuning Methods:\")\n",
    "print(f\"Grid Search Best Params: {grid_search.best_params_}\")\n",
    "print(f\"Grid Search Best Accuracy: {grid_search.best_score_:.4f}\")\n",
    "print(f\"Random Search Best Params: {random_search.best_params_}\")\n",
    "print(f\"Random Search Best Accuracy: {random_search.best_score_:.4f}\")\n"
   ]
  },
  {
   "cell_type": "code",
   "execution_count": null,
   "metadata": {},
   "outputs": [],
   "source": [
    "import matplotlib.pyplot as plt\n",
    "\n",
    "# Plot Grid Search results\n",
    "grid_results = pd.DataFrame(grid_search.cv_results_)\n",
    "plt.figure(figsize=(10, 6))\n",
    "plt.plot(range(len(grid_results)), grid_results['mean_test_score'], label='Grid Search')\n",
    "plt.title(\"Grid Search Results\")\n",
    "plt.xlabel(\"Parameter Combination Index\")\n",
    "plt.ylabel(\"Mean Test Score\")\n",
    "plt.legend()\n",
    "plt.show()\n",
    "\n",
    "# Plot Random Search results\n",
    "random_results = pd.DataFrame(random_search.cv_results_)\n",
    "plt.figure(figsize=(10, 6))\n",
    "plt.plot(range(len(random_results)), random_results['mean_test_score'], label='Random Search', color='orange')\n",
    "plt.title(\"Random Search Results\")\n",
    "plt.xlabel(\"Parameter Combination Index\")\n",
    "plt.ylabel(\"Mean Test Score\")\n",
    "plt.legend()\n",
    "plt.show()\n"
   ]
  }
 ],
 "metadata": {
  "language_info": {
   "name": "python"
  }
 },
 "nbformat": 4,
 "nbformat_minor": 2
}
