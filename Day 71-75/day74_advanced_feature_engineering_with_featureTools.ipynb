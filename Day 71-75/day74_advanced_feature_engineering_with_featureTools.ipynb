{
 "cells": [
  {
   "cell_type": "code",
   "execution_count": null,
   "metadata": {},
   "outputs": [],
   "source": [
    "import pandas as pd\n",
    "import featuretools as ft\n",
    "from sklearn.model_selection import train_test_split\n",
    "from sklearn.ensemble import RandomForestClassifier\n",
    "from sklearn.metrics import accuracy_score\n"
   ]
  },
  {
   "cell_type": "code",
   "execution_count": null,
   "metadata": {},
   "outputs": [],
   "source": [
    "# Load a synthetic dataset\n",
    "data = {\n",
    "    'customer_id': [1, 2, 3, 4],\n",
    "    'customer_age': [34, 25, 45, 50],\n",
    "    'transactions': [5, 2, 8, 10],\n",
    "    'total_spent': [250, 100, 400, 500],\n",
    "    'average_spent': [50, 50, 50, 50]\n",
    "}\n",
    "df = pd.DataFrame(data)\n",
    "\n",
    "# Display the dataset\n",
    "print(\"Dataset:\\n\", df)\n"
   ]
  },
  {
   "cell_type": "code",
   "execution_count": null,
   "metadata": {},
   "outputs": [],
   "source": [
    "# Create an EntitySet\n",
    "es = ft.EntitySet(id=\"customer_data\")\n",
    "\n",
    "# Add the main dataframe as an entity\n",
    "es = es.entity_from_dataframe(\n",
    "    entity_id=\"customers\",\n",
    "    dataframe=df,\n",
    "    index=\"customer_id\"\n",
    ")\n",
    "\n",
    "print(\"\\nEntitySet Created:\")\n",
    "print(es)\n"
   ]
  },
  {
   "cell_type": "code",
   "execution_count": null,
   "metadata": {},
   "outputs": [],
   "source": [
    "# Perform Deep Feature Synthesis\n",
    "features, feature_defs = ft.dfs(\n",
    "    entityset=es,\n",
    "    target_entity=\"customers\",\n",
    "    agg_primitives=[\"mean\", \"sum\", \"count\"],  # Aggregation primitives\n",
    "    trans_primitives=[\"divide\", \"add\", \"multiply\"],  # Transformation primitives\n",
    "    max_depth=2  # Depth of feature generation\n",
    ")\n",
    "\n",
    "# Display generated features\n",
    "print(\"\\nGenerated Features:\\n\", features)\n"
   ]
  },
  {
   "cell_type": "code",
   "execution_count": null,
   "metadata": {},
   "outputs": [],
   "source": [
    "# Prepare the target variable\n",
    "features['is_high_spender'] = (features['total_spent'] > 300).astype(int)\n",
    "\n",
    "# Split the data\n",
    "X = features.drop(columns=['is_high_spender'])\n",
    "y = features['is_high_spender']\n",
    "X_train, X_test, y_train, y_test = train_test_split(X, y, test_size=0.2, random_state=42)\n",
    "\n",
    "# Train a Random Forest model\n",
    "rf = RandomForestClassifier(random_state=42)\n",
    "rf.fit(X_train, y_train)\n",
    "\n",
    "# Evaluate the model\n",
    "y_pred = rf.predict(X_test)\n",
    "accuracy = accuracy_score(y_test, y_pred)\n",
    "print(f\"\\nModel Accuracy with Generated Features: {accuracy:.4f}\")\n"
   ]
  },
  {
   "cell_type": "code",
   "execution_count": null,
   "metadata": {},
   "outputs": [],
   "source": [
    "# Save features\n",
    "features.to_csv(\"generated_features.csv\", index=False)\n",
    "print(\"\\nFeatures saved successfully!\")\n",
    "\n",
    "# Reload features\n",
    "loaded_features = pd.read_csv(\"generated_features.csv\")\n",
    "print(\"Features reloaded successfully!\")\n"
   ]
  },
  {
   "cell_type": "code",
   "execution_count": null,
   "metadata": {},
   "outputs": [],
   "source": [
    "import matplotlib.pyplot as plt\n",
    "\n",
    "# Retrieve feature importance\n",
    "importance = rf.feature_importances_\n",
    "features_list = X.columns\n",
    "\n",
    "# Plot feature importance\n",
    "plt.figure(figsize=(10, 6))\n",
    "plt.barh(features_list, importance, color=\"skyblue\")\n",
    "plt.xlabel(\"Importance\")\n",
    "plt.title(\"Feature Importance\")\n",
    "plt.show()\n"
   ]
  }
 ],
 "metadata": {
  "language_info": {
   "name": "python"
  }
 },
 "nbformat": 4,
 "nbformat_minor": 2
}
