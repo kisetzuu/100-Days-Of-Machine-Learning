{
 "cells": [
  {
   "cell_type": "code",
   "execution_count": null,
   "metadata": {},
   "outputs": [],
   "source": [
    "import pandas as pd\n",
    "from sklearn.model_selection import train_test_split\n",
    "from sklearn.datasets import load_diabetes\n",
    "from sklearn.metrics import mean_squared_error\n",
    "from flaml import AutoML\n"
   ]
  },
  {
   "cell_type": "code",
   "execution_count": null,
   "metadata": {},
   "outputs": [],
   "source": [
    "# Load the Diabetes dataset\n",
    "data = load_diabetes()\n",
    "X = pd.DataFrame(data.data, columns=data.feature_names)\n",
    "y = pd.Series(data.target, name=\"Target\")\n",
    "\n",
    "# Split data into training and testing sets\n",
    "X_train, X_test, y_train, y_test = train_test_split(X, y, test_size=0.2, random_state=42)\n",
    "\n",
    "# Display dataset info\n",
    "print(\"Feature Names:\", data.feature_names)\n",
    "print(\"Training Set Shape:\", X_train.shape)\n",
    "print(\"Test Set Shape:\", X_test.shape)\n"
   ]
  },
  {
   "cell_type": "code",
   "execution_count": null,
   "metadata": {},
   "outputs": [],
   "source": [
    "# Initialize AutoML\n",
    "automl = AutoML()\n",
    "\n",
    "# Define AutoML settings\n",
    "automl_settings = {\n",
    "    \"time_budget\": 60,  # Total time in seconds\n",
    "    \"metric\": \"rmse\",   # Evaluation metric\n",
    "    \"task\": \"regression\",  # Task type\n",
    "    \"log_file_name\": \"automl.log\",  # Log file\n",
    "    \"verbose\": 1         # Display detailed progress\n",
    "}\n"
   ]
  },
  {
   "cell_type": "code",
   "execution_count": null,
   "metadata": {},
   "outputs": [],
   "source": [
    "# Train the AutoML model\n",
    "automl.fit(X_train=X_train, y_train=y_train, **automl_settings)\n",
    "\n",
    "# Display the best model details\n",
    "print(\"\\nBest Model:\", automl.best_estimator)\n",
    "print(\"Best Hyperparameters:\", automl.best_config)\n",
    "print(\"Best Score (RMSE):\", automl.best_loss)\n"
   ]
  },
  {
   "cell_type": "code",
   "execution_count": null,
   "metadata": {},
   "outputs": [],
   "source": [
    "# Make predictions on the test set\n",
    "y_pred = automl.predict(X_test)\n",
    "\n",
    "# Evaluate model performance\n",
    "rmse = mean_squared_error(y_test, y_pred, squared=False)\n",
    "print(f\"\\nTest RMSE: {rmse:.4f}\")\n"
   ]
  },
  {
   "cell_type": "code",
   "execution_count": null,
   "metadata": {},
   "outputs": [],
   "source": [
    "import matplotlib.pyplot as plt\n",
    "\n",
    "# Retrieve feature importance\n",
    "importance = automl.feature_importances_\n",
    "features = X_train.columns\n",
    "\n",
    "# Plot feature importance\n",
    "plt.figure(figsize=(10, 6))\n",
    "plt.barh(features, importance, color=\"skyblue\")\n",
    "plt.xlabel(\"Importance\")\n",
    "plt.title(\"Feature Importance\")\n",
    "plt.show()\n"
   ]
  },
  {
   "cell_type": "code",
   "execution_count": null,
   "metadata": {},
   "outputs": [],
   "source": [
    "import joblib\n",
    "\n",
    "# Save the model\n",
    "joblib.dump(automl.model, \"automl_best_model.pkl\")\n",
    "print(\"\\nModel saved successfully!\")\n",
    "\n",
    "# Reload the model\n",
    "loaded_model = joblib.load(\"automl_best_model.pkl\")\n",
    "print(\"Model reloaded successfully!\")\n"
   ]
  },
  {
   "cell_type": "code",
   "execution_count": null,
   "metadata": {},
   "outputs": [],
   "source": [
    "from sklearn.ensemble import RandomForestRegressor\n",
    "\n",
    "# Train a Random Forest model\n",
    "rf = RandomForestRegressor(n_estimators=100, random_state=42)\n",
    "rf.fit(X_train, y_train)\n",
    "\n",
    "# Evaluate the Random Forest model\n",
    "rf_pred = rf.predict(X_test)\n",
    "rf_rmse = mean_squared_error(y_test, rf_pred, squared=False)\n",
    "\n",
    "print(f\"\\nManual Random Forest RMSE: {rf_rmse:.4f}\")\n",
    "print(f\"AutoML RMSE: {rmse:.4f}\")\n"
   ]
  }
 ],
 "metadata": {
  "language_info": {
   "name": "python"
  }
 },
 "nbformat": 4,
 "nbformat_minor": 2
}
