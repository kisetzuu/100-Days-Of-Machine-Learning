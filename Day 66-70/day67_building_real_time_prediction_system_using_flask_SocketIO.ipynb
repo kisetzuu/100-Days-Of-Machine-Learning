{
 "cells": [
  {
   "cell_type": "code",
   "execution_count": null,
   "metadata": {},
   "outputs": [],
   "source": [
    "from flask import Flask, render_template, request, jsonify\n",
    "from flask_socketio import SocketIO\n",
    "import numpy as np\n",
    "import pickle\n"
   ]
  },
  {
   "cell_type": "code",
   "execution_count": null,
   "metadata": {},
   "outputs": [],
   "source": [
    "# Import libraries for training\n",
    "from sklearn.datasets import load_iris\n",
    "from sklearn.model_selection import train_test_split\n",
    "from sklearn.ensemble import RandomForestClassifier\n",
    "\n",
    "# Load the Iris dataset\n",
    "iris = load_iris()\n",
    "X, y = iris.data, iris.target\n",
    "X_train, X_test, y_train, y_test = train_test_split(X, y, test_size=0.2, random_state=42)\n",
    "\n",
    "# Train a Random Forest Classifier\n",
    "model = RandomForestClassifier(n_estimators=100, random_state=42)\n",
    "model.fit(X_train, y_train)\n",
    "\n",
    "# Save the trained model\n",
    "with open(\"iris_model.pkl\", \"wb\") as file:\n",
    "    pickle.dump(model, file)\n",
    "\n",
    "print(\"Model trained and saved successfully!\")\n"
   ]
  },
  {
   "cell_type": "code",
   "execution_count": null,
   "metadata": {},
   "outputs": [],
   "source": [
    "# Initialize Flask and Socket.IO\n",
    "app = Flask(__name__)\n",
    "socketio = SocketIO(app)\n",
    "\n",
    "# Load the trained model\n",
    "with open(\"iris_model.pkl\", \"rb\") as file:\n",
    "    model = pickle.load(file)\n",
    "\n",
    "# Define the real-time prediction endpoint\n",
    "@socketio.on('predict')\n",
    "def handle_prediction(data):\n",
    "    # Extract features from incoming data\n",
    "    features = np.array(data['features']).reshape(1, -1)\n",
    "\n",
    "    # Make prediction\n",
    "    prediction = model.predict(features)\n",
    "    predicted_class = iris.target_names[prediction[0]]\n",
    "\n",
    "    # Send prediction back to the client\n",
    "    response = {\n",
    "        \"input_features\": data['features'],\n",
    "        \"predicted_class\": predicted_class\n",
    "    }\n",
    "    socketio.emit('prediction_result', response)\n",
    "\n",
    "# Define the home route\n",
    "@app.route('/')\n",
    "def home():\n",
    "    return render_template('index.html')\n",
    "\n",
    "# Run the app\n",
    "if __name__ == '__main__':\n",
    "    socketio.run(app, debug=True)\n"
   ]
  },
  {
   "cell_type": "code",
   "execution_count": null,
   "metadata": {},
   "outputs": [],
   "source": [
    "<!DOCTYPE html>\n",
    "<html lang=\"en\">\n",
    "<head>\n",
    "    <meta charset=\"UTF-8\">\n",
    "    <meta name=\"viewport\" content=\"width=device-width, initial-scale=1.0\">\n",
    "    <title>Real-Time Prediction</title>\n",
    "    <script src=\"https://cdnjs.cloudflare.com/ajax/libs/socket.io/4.3.2/socket.io.js\"></script>\n",
    "</head>\n",
    "<body>\n",
    "    <h1>Real-Time Prediction System</h1>\n",
    "    <form id=\"predictionForm\">\n",
    "        <label>Feature 1: <input type=\"number\" id=\"feature1\" step=\"any\"></label><br>\n",
    "        <label>Feature 2: <input type=\"number\" id=\"feature2\" step=\"any\"></label><br>\n",
    "        <label>Feature 3: <input type=\"number\" id=\"feature3\" step=\"any\"></label><br>\n",
    "        <label>Feature 4: <input type=\"number\" id=\"feature4\" step=\"any\"></label><br>\n",
    "        <button type=\"submit\">Predict</button>\n",
    "    </form>\n",
    "\n",
    "    <h2>Prediction Result:</h2>\n",
    "    <div id=\"result\"></div>\n",
    "\n",
    "    <script>\n",
    "        const socket = io();\n",
    "\n",
    "        document.getElementById('predictionForm').addEventListener('submit', function(event) {\n",
    "            event.preventDefault();\n",
    "\n",
    "            const features = [\n",
    "                parseFloat(document.getElementById('feature1').value),\n",
    "                parseFloat(document.getElementById('feature2').value),\n",
    "                parseFloat(document.getElementById('feature3').value),\n",
    "                parseFloat(document.getElementById('feature4').value)\n",
    "            ];\n",
    "\n",
    "            socket.emit('predict', { features: features });\n",
    "        });\n",
    "\n",
    "        socket.on('prediction_result', function(data) {\n",
    "            document.getElementById('result').innerText = `Predicted Class: ${data.predicted_class}`;\n",
    "        });\n",
    "    </script>\n",
    "</body>\n",
    "</html>\n"
   ]
  },
  {
   "cell_type": "code",
   "execution_count": null,
   "metadata": {},
   "outputs": [],
   "source": [
    "python app.py\n"
   ]
  },
  {
   "cell_type": "code",
   "execution_count": null,
   "metadata": {},
   "outputs": [],
   "source": [
    "pip install gunicorn\n"
   ]
  },
  {
   "cell_type": "code",
   "execution_count": null,
   "metadata": {},
   "outputs": [],
   "source": [
    "pip freeze > requirements.txt\n",
    "echo \"web: gunicorn app:app\" > Procfile\n"
   ]
  },
  {
   "cell_type": "code",
   "execution_count": null,
   "metadata": {},
   "outputs": [],
   "source": [
    "git init\n",
    "git add .\n",
    "git commit -m \"Real-time prediction app\"\n",
    "heroku create\n",
    "git push heroku master\n"
   ]
  }
 ],
 "metadata": {
  "language_info": {
   "name": "python"
  }
 },
 "nbformat": 4,
 "nbformat_minor": 2
}
