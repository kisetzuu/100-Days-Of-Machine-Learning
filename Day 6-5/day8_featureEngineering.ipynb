{
 "cells": [
  {
   "cell_type": "code",
   "execution_count": 1,
   "metadata": {},
   "outputs": [
    {
     "name": "stdout",
     "output_type": "stream",
     "text": [
      "Data with New Date Features:\n",
      "       Name Transaction_Date  Amount  Year  Month  Day\n",
      "0    Alice       2020-01-15     250  2020      1   15\n",
      "1      Bob       2021-05-20     400  2021      5   20\n",
      "2  Charlie       2019-11-30     150  2019     11   30\n"
     ]
    }
   ],
   "source": [
    "# Create meaningful new features from existing data to improve model performance.\n",
    "\n",
    "import pandas as pd\n",
    "\n",
    "# Example data with date and transaction columns\n",
    "data = {'Name': ['Alice', 'Bob', 'Charlie'], 'Transaction_Date': ['2020-01-15', '2021-05-20', '2019-11-30'], 'Amount': [250, 400, 150]}\n",
    "df = pd.DataFrame(data)\n",
    "\n",
    "# Convert Transaction_Date to datetime\n",
    "df['Transaction_Date'] = pd.to_datetime(df['Transaction_Date'])\n",
    "\n",
    "# Extract year, month, and day from the date to create new features\n",
    "df['Year'] = df['Transaction_Date'].dt.year\n",
    "df['Month'] = df['Transaction_Date'].dt.month\n",
    "df['Day'] = df['Transaction_Date'].dt.day\n",
    "\n",
    "print(\"Data with New Date Features:\\n\", df)\n"
   ]
  },
  {
   "cell_type": "code",
   "execution_count": 2,
   "metadata": {},
   "outputs": [
    {
     "name": "stdout",
     "output_type": "stream",
     "text": [
      "Log Transformed Data:\n",
      "    Amount  Amount_Log\n",
      "0     100    4.615121\n",
      "1     500    6.216606\n",
      "2    1000    6.908755\n",
      "3    2000    7.601402\n",
      "4   10000    9.210440\n"
     ]
    }
   ],
   "source": [
    "# Apply transformations to normalize skewed data or stabilize variance.\n",
    "\n",
    "import numpy as np\n",
    "\n",
    "# Create a dataset with skewed values\n",
    "data = {'Amount': [100, 500, 1000, 2000, 10000]}\n",
    "df = pd.DataFrame(data)\n",
    "\n",
    "# Log transformation to reduce skewness\n",
    "df['Amount_Log'] = np.log1p(df['Amount'])  # log1p(x) = log(1 + x)\n",
    "\n",
    "print(\"Log Transformed Data:\\n\", df)\n"
   ]
  },
  {
   "cell_type": "code",
   "execution_count": 3,
   "metadata": {},
   "outputs": [
    {
     "name": "stdout",
     "output_type": "stream",
     "text": [
      "Data with Age Bins:\n",
      "    Age Age_Group\n",
      "0   25     20-30\n",
      "1   30     20-30\n",
      "2   45     40-50\n",
      "3   50     40-50\n",
      "4   60     50-60\n",
      "5   70       60+\n"
     ]
    }
   ],
   "source": [
    "# Group continuous numerical data into bins for better analysis.\n",
    "\n",
    "# Example data with Age\n",
    "data = {'Age': [25, 30, 45, 50, 60, 70]}\n",
    "df = pd.DataFrame(data)\n",
    "\n",
    "# Define bins and labels for the age groups\n",
    "bins = [20, 30, 40, 50, 60, 80]\n",
    "labels = ['20-30', '30-40', '40-50', '50-60', '60+']\n",
    "\n",
    "# Create a new column with binned age groups\n",
    "df['Age_Group'] = pd.cut(df['Age'], bins=bins, labels=labels)\n",
    "\n",
    "print(\"Data with Age Bins:\\n\", df)"
   ]
  },
  {
   "cell_type": "code",
   "execution_count": 4,
   "metadata": {},
   "outputs": [
    {
     "name": "stdout",
     "output_type": "stream",
     "text": [
      "Cyclically Encoded Month Data:\n",
      "    Month     Month_sin     Month_cos\n",
      "0      1  5.000000e-01  8.660254e-01\n",
      "1      2  8.660254e-01  5.000000e-01\n",
      "2      3  1.000000e+00  6.123234e-17\n",
      "3     10 -8.660254e-01  5.000000e-01\n",
      "4     11 -5.000000e-01  8.660254e-01\n",
      "5     12 -2.449294e-16  1.000000e+00\n"
     ]
    }
   ],
   "source": [
    "# Handle cyclical features (e.g., day of the week, month) using sine and cosine transformations.\n",
    "\n",
    "# Example data with months represented as cyclical data\n",
    "data = {'Month': [1, 2, 3, 10, 11, 12]}  # January = 1, December = 12\n",
    "df = pd.DataFrame(data)\n",
    "\n",
    "# Apply sine and cosine transformation to encode cyclical features\n",
    "df['Month_sin'] = np.sin(2 * np.pi * df['Month'] / 12)\n",
    "df['Month_cos'] = np.cos(2 * np.pi * df['Month'] / 12)\n",
    "\n",
    "print(\"Cyclically Encoded Month Data:\\n\", df)"
   ]
  },
  {
   "cell_type": "code",
   "execution_count": 5,
   "metadata": {},
   "outputs": [
    {
     "ename": "ModuleNotFoundError",
     "evalue": "No module named 'sklearn'",
     "output_type": "error",
     "traceback": [
      "\u001b[1;31m---------------------------------------------------------------------------\u001b[0m",
      "\u001b[1;31mModuleNotFoundError\u001b[0m                       Traceback (most recent call last)",
      "Cell \u001b[1;32mIn[5], line 3\u001b[0m\n\u001b[0;32m      1\u001b[0m \u001b[38;5;66;03m# Use Decision Trees to rank the importance of features.\u001b[39;00m\n\u001b[1;32m----> 3\u001b[0m \u001b[38;5;28;01mfrom\u001b[39;00m \u001b[38;5;21;01msklearn\u001b[39;00m\u001b[38;5;21;01m.\u001b[39;00m\u001b[38;5;21;01mtree\u001b[39;00m \u001b[38;5;28;01mimport\u001b[39;00m DecisionTreeClassifier\n\u001b[0;32m      4\u001b[0m \u001b[38;5;28;01mfrom\u001b[39;00m \u001b[38;5;21;01msklearn\u001b[39;00m\u001b[38;5;21;01m.\u001b[39;00m\u001b[38;5;21;01mdatasets\u001b[39;00m \u001b[38;5;28;01mimport\u001b[39;00m load_iris\n\u001b[0;32m      6\u001b[0m \u001b[38;5;66;03m# Load the Iris dataset\u001b[39;00m\n",
      "\u001b[1;31mModuleNotFoundError\u001b[0m: No module named 'sklearn'"
     ]
    }
   ],
   "source": [
    "# Use Decision Trees to rank the importance of features.\n",
    "\n",
    "from sklearn.tree import DecisionTreeClassifier\n",
    "from sklearn.datasets import load_iris\n",
    "\n",
    "# Load the Iris dataset\n",
    "iris = load_iris()\n",
    "X = iris.data\n",
    "y = iris.target\n",
    "\n",
    "# Create and train a Decision Tree model\n",
    "tree = DecisionTreeClassifier(random_state=42)\n",
    "tree.fit(X, y)\n",
    "\n",
    "# Get the importance of each feature\n",
    "feature_importances = tree.feature_importances_\n",
    "print(\"Feature Importances:\", feature_importances)\n"
   ]
  }
 ],
 "metadata": {
  "kernelspec": {
   "display_name": "tf_env",
   "language": "python",
   "name": "python3"
  },
  "language_info": {
   "codemirror_mode": {
    "name": "ipython",
    "version": 3
   },
   "file_extension": ".py",
   "mimetype": "text/x-python",
   "name": "python",
   "nbconvert_exporter": "python",
   "pygments_lexer": "ipython3",
   "version": "3.9.18"
  }
 },
 "nbformat": 4,
 "nbformat_minor": 2
}
