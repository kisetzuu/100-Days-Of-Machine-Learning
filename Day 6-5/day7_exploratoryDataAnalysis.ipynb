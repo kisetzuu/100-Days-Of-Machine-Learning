{
 "cells": [
  {
   "cell_type": "code",
   "execution_count": null,
   "metadata": {},
   "outputs": [],
   "source": [
    "# Use descriptive statistics to summarize the dataset and understand its structure.\n",
    "\n",
    "import pandas as pd\n",
    "\n",
    "# Load a dataset (you can use any dataset you're working with)\n",
    "data = {'Age': [25, 30, 35, 40, 28, 50], 'Salary': [50000, 60000, 55000, 70000, 52000, 120000]}\n",
    "df = pd.DataFrame(data)\n",
    "\n",
    "# Descriptive statistics summary\n",
    "print(\"Descriptive Statistics:\\n\", df.describe())\n",
    "\n",
    "# Check for any missing values\n",
    "print(\"\\nMissing Values in Data:\\n\", df.isnull().sum())"
   ]
  },
  {
   "cell_type": "code",
   "execution_count": null,
   "metadata": {},
   "outputs": [],
   "source": [
    "# Visualize the distribution of numerical variables using histograms and box plots.\n",
    "\n",
    "import matplotlib.pyplot as plt\n",
    "import seaborn as sns\n",
    "\n",
    "# Plotting histogram for Age distribution\n",
    "plt.figure(figsize=(8, 5))\n",
    "plt.hist(df['Age'], bins=5, color='skyblue')\n",
    "plt.title('Age Distribution')\n",
    "plt.xlabel('Age')\n",
    "plt.ylabel('Frequency')\n",
    "plt.show()\n",
    "\n",
    "# Box plot to detect outliers in Salary\n",
    "plt.figure(figsize=(8, 5))\n",
    "sns.boxplot(x=df['Salary'])\n",
    "plt.title('Salary Box Plot')\n",
    "plt.show()"
   ]
  },
  {
   "cell_type": "code",
   "execution_count": null,
   "metadata": {},
   "outputs": [],
   "source": [
    "# Check the correlation between variables to understand how they are related.\n",
    "\n",
    "# Calculate correlation matrix\n",
    "correlation_matrix = df.corr()\n",
    "print(\"Correlation Matrix:\\n\", correlation_matrix)\n",
    "\n",
    "# Visualize the correlation matrix using a heatmap\n",
    "plt.figure(figsize=(8, 5))\n",
    "sns.heatmap(correlation_matrix, annot=True, cmap='coolwarm')\n",
    "plt.title('Correlation Matrix')\n",
    "plt.show()\n"
   ]
  },
  {
   "cell_type": "code",
   "execution_count": null,
   "metadata": {},
   "outputs": [],
   "source": [
    "# Use scatter plots and pair plots to visualize relationships between two or more variables.\n",
    "\n",
    "# Scatter plot for Age vs Salary\n",
    "plt.figure(figsize=(8, 5))\n",
    "plt.scatter(df['Age'], df['Salary'], color='purple')\n",
    "plt.title('Age vs Salary')\n",
    "plt.xlabel('Age')\n",
    "plt.ylabel('Salary')\n",
    "plt.show()\n",
    "\n",
    "# Pair plot for all variables in the dataset\n",
    "sns.pairplot(df)\n",
    "plt.title('Pair Plot of Variables')\n",
    "plt.show()"
   ]
  },
  {
   "cell_type": "code",
   "execution_count": null,
   "metadata": {},
   "outputs": [],
   "source": [
    "# Group data by categories and calculate aggregate statistics.\n",
    "# Example dataset with a categorical variable\n",
    "data = {'Department': ['HR', 'Finance', 'HR', 'IT', 'Finance', 'IT'], 'Salary': [50000, 60000, 52000, 70000, 55000, 120000]}\n",
    "df = pd.DataFrame(data)\n",
    "\n",
    "# Group by Department and calculate the mean Salary\n",
    "mean_salary_by_dept = df.groupby('Department')['Salary'].mean()\n",
    "print(\"Mean Salary by Department:\\n\", mean_salary_by_dept)\n"
   ]
  }
 ],
 "metadata": {
  "language_info": {
   "name": "python"
  }
 },
 "nbformat": 4,
 "nbformat_minor": 2
}
