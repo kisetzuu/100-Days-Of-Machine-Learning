{
 "cells": [
  {
   "cell_type": "code",
   "execution_count": null,
   "metadata": {},
   "outputs": [],
   "source": [
    "# Explore more methods for handling missing data, including imputation strategies. \n",
    "import pandas as pd\n",
    "from sklearn.impute import SimpleImputer\n",
    "\n",
    "# Create a DataFrame with missing values\n",
    "data = {'Name': ['Alice', 'Bob', None], 'Age': [25, None, 35], 'Income': [50000, None, 70000]}\n",
    "df = pd.DataFrame(data)\n",
    "\n",
    "# Strategy: Fill missing values with the mean for numerical columns\n",
    "imputer = SimpleImputer(strategy='mean')\n",
    "df['Age'] = imputer.fit_transform(df[['Age']])\n",
    "\n",
    "# Fill missing categorical data with the most frequent value\n",
    "imputer = SimpleImputer(strategy='most_frequent')\n",
    "df['Name'] = imputer.fit_transform(df[['Name']])\n",
    "\n",
    "print(\"Data after Imputation:\\n\", df)"
   ]
  },
  {
   "cell_type": "code",
   "execution_count": null,
   "metadata": {},
   "outputs": [],
   "source": [
    "# Detect outliers using the IQR method and handle them by removing or capping the values.\n",
    "\n",
    "import numpy as np\n",
    "\n",
    "# Example dataset with outliers\n",
    "data = {'Income': [50000, 60000, 55000, 2000000, 58000, 59000, 54000]}  # Outlier: 2000000\n",
    "df = pd.DataFrame(data)\n",
    "\n",
    "# Calculate the Interquartile Range (IQR)\n",
    "Q1 = df['Income'].quantile(0.25)\n",
    "Q3 = df['Income'].quantile(0.75)\n",
    "IQR = Q3 - Q1\n",
    "\n",
    "# Define outlier thresholds\n",
    "lower_bound = Q1 - 1.5 * IQR\n",
    "upper_bound = Q3 + 1.5 * IQR\n",
    "\n",
    "# Filter out outliers\n",
    "df_no_outliers = df[(df['Income'] >= lower_bound) & (df['Income'] <= upper_bound)]\n",
    "\n",
    "print(\"Data without outliers:\\n\", df_no_outliers)"
   ]
  },
  {
   "cell_type": "code",
   "execution_count": null,
   "metadata": {},
   "outputs": [],
   "source": [
    "# Apply transformations such as log transformation or box-cox to normalize skewed data.\n",
    "from sklearn.preprocessing import FunctionTransformer\n",
    "import numpy as np\n",
    "\n",
    "# Create a dataset with skewed data\n",
    "data = {'Salary': [1000, 1500, 2000, 2500, 10000]}  # Skewed data\n",
    "df = pd.DataFrame(data)\n",
    "\n",
    "# Log transformation to reduce skewness\n",
    "log_transformer = FunctionTransformer(np.log1p, validate=True)\n",
    "df['Salary_log'] = log_transformer.transform(df[['Salary']])\n",
    "\n",
    "print(\"Log Transformed Data:\\n\", df)"
   ]
  },
  {
   "cell_type": "code",
   "execution_count": null,
   "metadata": {},
   "outputs": [],
   "source": [
    "# Create new features from existing data to improve model performance.\n",
    "\n",
    "# Example dataset with date column\n",
    "data = {'Name': ['Alice', 'Bob', 'Charlie'], 'Date_of_Birth': ['1990-01-01', '1985-05-15', '2000-07-20']}\n",
    "df = pd.DataFrame(data)\n",
    "\n",
    "# Convert Date_of_Birth to datetime\n",
    "df['Date_of_Birth'] = pd.to_datetime(df['Date_of_Birth'])\n",
    "\n",
    "# Create a new feature: Age\n",
    "df['Age'] = pd.Timestamp.now().year - df['Date_of_Birth'].dt.year\n",
    "\n",
    "print(\"Data with New Feature (Age):\\n\", df)"
   ]
  }
 ],
 "metadata": {
  "language_info": {
   "name": "python"
  }
 },
 "nbformat": 4,
 "nbformat_minor": 2
}
